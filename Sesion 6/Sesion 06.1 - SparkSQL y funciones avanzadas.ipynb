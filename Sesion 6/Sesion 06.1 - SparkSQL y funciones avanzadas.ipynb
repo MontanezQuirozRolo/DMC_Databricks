{
 "cells": [
  {
   "cell_type": "markdown",
   "metadata": {
    "application/vnd.databricks.v1+cell": {
     "cellMetadata": {},
     "inputWidgets": {},
     "nuid": "264b88b9-e96a-4be0-94d6-688df903859c",
     "showTitle": false,
     "tableResultSettingsMap": {},
     "title": ""
    }
   },
   "source": [
    "### Objetivo del laboratorio\n",
    "Aplicar funciones de ventana para analizar rendimiento académico, ranking de estudiantes y evolución de notas en una universidad ficticia."
   ]
  },
  {
   "cell_type": "markdown",
   "metadata": {
    "application/vnd.databricks.v1+cell": {
     "cellMetadata": {},
     "inputWidgets": {},
     "nuid": "3d2379f2-85c8-4c04-839f-4f6dc7392987",
     "showTitle": false,
     "tableResultSettingsMap": {},
     "title": ""
    }
   },
   "source": [
    "**Preparación**\n",
    "\n",
    "- Cargar `estudiantes.csv, cursos.csv, profesores.csv, matriculas.csv.`\n",
    "\n",
    "- Crear DataFrame `matriculas_enriched` con joins para enriquecer con nombre de estudiante, curso y facultad."
   ]
  },
  {
   "cell_type": "markdown",
   "metadata": {
    "application/vnd.databricks.v1+cell": {
     "cellMetadata": {},
     "inputWidgets": {},
     "nuid": "550778b4-86f8-45e8-aafd-23ed5678469e",
     "showTitle": false,
     "tableResultSettingsMap": {},
     "title": ""
    }
   },
   "source": [
    "**Caso 1 – Ranking de estudiantes por carrera**\n",
    "\n",
    "Identificar a los 3 mejores estudiantes en cada carrera por promedio de nota.\n",
    "\n",
    "- `AVG(nota_final)` por estudiante y carrera.\n",
    "\n",
    "- `RANK() OVER (PARTITION BY carrera ORDER BY AVG(nota_final) DESC).`\n",
    "\n",
    "- Guardar tabla Delta `ranking_estudiantes_carrera.`"
   ]
  },
  {
   "cell_type": "code",
   "execution_count": 0,
   "metadata": {
    "application/vnd.databricks.v1+cell": {
     "cellMetadata": {},
     "inputWidgets": {},
     "nuid": "b6a5fd21-344b-4381-bb95-a5027393bca8",
     "showTitle": false,
     "tableResultSettingsMap": {},
     "title": ""
    }
   },
   "outputs": [],
   "source": [
    "catalg_name = \"sesion_05\"\n",
    "schema_name = \"universidades\"\n",
    "\n",
    "spark.sq(f\"CREATE CALOG IF NOT EXISTS {catalg_name}\")\n",
    "spark.sq(f\"CREATE SCHEMA IF NOT EXISTS {catalg_name}.{schema_name}\")"
   ]
  },
  {
   "cell_type": "code",
   "execution_count": 0,
   "metadata": {
    "application/vnd.databricks.v1+cell": {
     "cellMetadata": {},
     "inputWidgets": {},
     "nuid": "a24d9529-edbf-468e-931e-f02d3584ed66",
     "showTitle": false,
     "tableResultSettingsMap": {},
     "title": ""
    }
   },
   "outputs": [],
   "source": [
    "path_base = f\"\"\n",
    "\n",
    "path_estudiantes = f\"\"\n",
    "path_cursos\n"
   ]
  },
  {
   "cell_type": "markdown",
   "metadata": {
    "application/vnd.databricks.v1+cell": {
     "cellMetadata": {},
     "inputWidgets": {},
     "nuid": "c2f432a1-15a4-4859-b093-e0c79a275726",
     "showTitle": false,
     "tableResultSettingsMap": {},
     "title": ""
    }
   },
   "source": [
    "**Caso 2 – Evolución de notas de cada estudiante**\n",
    "\n",
    "Ver cómo varían las notas de cada alumno a lo largo de los semestres.\n",
    "\n",
    "- Calcular promedio de notas por semestre.\n",
    "\n",
    "- Usar `LAG()` para obtener nota promedio del semestre anterior.\n",
    "\n",
    "- Columna `variacion = nota_promedio - nota_semestre_anterior.`\n",
    "\n",
    "- Guardar tabla Delta `variacion_notas_estudiante.`"
   ]
  },
  {
   "cell_type": "markdown",
   "metadata": {
    "application/vnd.databricks.v1+cell": {
     "cellMetadata": {},
     "inputWidgets": {},
     "nuid": "8c33c0ca-6909-4af9-90e2-064f042008e7",
     "showTitle": false,
     "tableResultSettingsMap": {},
     "title": ""
    }
   },
   "source": [
    "**Caso 3 – Acumulado de créditos aprobados**\n",
    "\n",
    "Finanzas académicas quiere saber cuántos créditos ha acumulado cada estudiante.\n",
    "\n",
    "- Considerar cursos con nota_final >= 11 como aprobados.\n",
    "\n",
    "- Usar `SUM(creditos) OVER (PARTITION BY id_estudiante ORDER BY semestre).`\n",
    "\n",
    "- Crear columna `estado`:\n",
    "\n",
    "  - Menos de 30 créditos → “Inicial”\n",
    "\n",
    "  - 30–90 créditos → “Intermedio”\n",
    "\n",
    "  - Más de 90 créditos → “Avanzado”\n",
    "\n",
    "- Guardar tabla Delta `creditos_acumulados.`"
   ]
  },
  {
   "cell_type": "markdown",
   "metadata": {
    "application/vnd.databricks.v1+cell": {
     "cellMetadata": {},
     "inputWidgets": {},
     "nuid": "390e8055-b6e1-4d25-a6d1-4476c0d76245",
     "showTitle": false,
     "tableResultSettingsMap": {},
     "title": ""
    }
   },
   "source": [
    "**Validaciones**\n",
    "\n",
    "¿Quién es el mejor estudiante de Ingeniería?\n",
    "\n",
    "¿Qué estudiante tuvo la mayor mejora de un semestre a otro?\n",
    "\n",
    "¿Cuántos estudiantes ya están en estado “Avanzado”?"
   ]
  }
 ],
 "metadata": {
  "application/vnd.databricks.v1+notebook": {
   "computePreferences": {
    "hardware": {
     "accelerator": null,
     "gpuPoolId": null,
     "memory": null
    }
   },
   "dashboards": [],
   "environmentMetadata": {
    "base_environment": "",
    "environment_version": "2"
   },
   "inputWidgetPreferences": null,
   "language": "python",
   "notebookMetadata": {
    "pythonIndentUnit": 4
   },
   "notebookName": "Sesion 06.1 - SparkSQL y funciones avanzadas",
   "widgets": {}
  },
  "language_info": {
   "name": "python"
  }
 },
 "nbformat": 4,
 "nbformat_minor": 0
}
