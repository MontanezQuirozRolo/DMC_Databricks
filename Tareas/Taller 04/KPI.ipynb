{
 "cells": [
  {
   "cell_type": "code",
   "execution_count": 0,
   "metadata": {
    "application/vnd.databricks.v1+cell": {
     "cellMetadata": {
      "byteLimit": 2048000,
      "rowLimit": 10000
     },
     "inputWidgets": {},
     "nuid": "423065dd-43a0-4f8e-bfab-36550487dce9",
     "showTitle": false,
     "tableResultSettingsMap": {},
     "title": ""
    }
   },
   "outputs": [],
   "source": [
    "from pyspark.sql.window import Window"
   ]
  },
  {
   "cell_type": "code",
   "execution_count": 0,
   "metadata": {
    "application/vnd.databricks.v1+cell": {
     "cellMetadata": {
      "byteLimit": 2048000,
      "rowLimit": 10000
     },
     "inputWidgets": {},
     "nuid": "e91943cd-2212-4d24-b041-01c48f24022f",
     "showTitle": false,
     "tableResultSettingsMap": {},
     "title": ""
    }
   },
   "outputs": [],
   "source": [
    "catalog_name = \"retail_dev\"\n",
    "schema_bronze = \"bronze\"\n",
    "schema_silver = \"silver\"\n",
    "schema_gold = \"gold\"\n",
    "schema_auditoria =\"auditoria\""
   ]
  },
  {
   "cell_type": "markdown",
   "metadata": {
    "application/vnd.databricks.v1+cell": {
     "cellMetadata": {},
     "inputWidgets": {},
     "nuid": "8c9dc955-62c3-4094-95a9-87fbb022cdee",
     "showTitle": false,
     "tableResultSettingsMap": {},
     "title": ""
    }
   },
   "source": [
    "**Ticket promedio por tienda y mes**\n"
   ]
  },
  {
   "cell_type": "code",
   "execution_count": 0,
   "metadata": {
    "application/vnd.databricks.v1+cell": {
     "cellMetadata": {
      "byteLimit": 2048000,
      "rowLimit": 10000
     },
     "inputWidgets": {},
     "nuid": "d477aa21-7c90-4759-8de2-3abbcdf31cec",
     "showTitle": false,
     "tableResultSettingsMap": {},
     "title": ""
    }
   },
   "outputs": [],
   "source": [
    "\n",
    "# 1. Cargar las tablas necesarias como DataFrames\n",
    "fact_ventas = spark.table(f\"{catalog_name}.{schema_gold}.fact_ventas\")\n",
    "dim_tienda = spark.table(f\"{catalog_name}.{schema_gold}.dim_tiendas\")\n",
    "dim_tiempo = spark.table(f\"{catalog_name}.{schema_gold}.dim_tiempo\")\n",
    "\n",
    "# 2. Unir (join) los DataFrames\n",
    "kpi_df = (\n",
    "    fact_ventas.alias(\"fv\")\n",
    "    .join(dim_tienda.alias(\"ti\"), \"id_tienda\")\n",
    "    .join(dim_tiempo.alias(\"tiem\"), \"id_tiempo\")\n",
    ")\n",
    "\n",
    "# 3. Agrupar y calcular el KPI\n",
    "ticket_promedio_df = (\n",
    "     kpi_df.groupBy(\"ti.nombre\", \"tiem.anio\", \"tiem.mes\")\n",
    "    .agg(\n",
    "        F.when(\n",
    "            F.sum(\"fv.cantidad\") > 0,\n",
    "            F.sum(\"fv.monto\") / F.sum(\"fv.cantidad\")\n",
    "        ).otherwise(0).alias(\"ticket_promedio\")\n",
    "    )\n",
    "    .withColumnRenamed(\"nombre\", \"tienda\")\n",
    "    .orderBy(F.col(\"anio\").desc(), F.col(\"mes\").desc(), F.col(\"tienda\"))\n",
    ")\n",
    "\n",
    "# 4. Mostrar el resultado\n",
    "display(ticket_promedio_df)"
   ]
  },
  {
   "cell_type": "code",
   "execution_count": 0,
   "metadata": {
    "application/vnd.databricks.v1+cell": {
     "cellMetadata": {
      "byteLimit": 2048000,
      "rowLimit": 10000
     },
     "inputWidgets": {},
     "nuid": "5f3d895b-6065-4ffa-b670-ae9ae7490c4f",
     "showTitle": false,
     "tableResultSettingsMap": {},
     "title": ""
    }
   },
   "outputs": [],
   "source": [
    "\n",
    "ticket_promedio_df.createOrReplaceTempView(\"v_kpi_ticket_promedio_tienda_mes_py\")"
   ]
  },
  {
   "cell_type": "markdown",
   "metadata": {
    "application/vnd.databricks.v1+cell": {
     "cellMetadata": {},
     "inputWidgets": {},
     "nuid": "ece3d3c3-4ae7-4f66-92ff-19f05af1b90a",
     "showTitle": false,
     "tableResultSettingsMap": {},
     "title": ""
    }
   },
   "source": [
    "**Clientes nuevos por mes**"
   ]
  },
  {
   "cell_type": "code",
   "execution_count": 0,
   "metadata": {
    "application/vnd.databricks.v1+cell": {
     "cellMetadata": {
      "byteLimit": 2048000,
      "rowLimit": 10000
     },
     "inputWidgets": {},
     "nuid": "af0fcbe2-31b3-4225-8d60-f0203b9adf6f",
     "showTitle": false,
     "tableResultSettingsMap": {},
     "title": ""
    }
   },
   "outputs": [],
   "source": [
    "# 1. Cargar la tabla de hechos\n",
    "fact_ventas = spark.table(f\"{catalog_name}.{schema_gold}.fact_ventas\")\n",
    "\n",
    "# 2. Encontrar la primera fecha de compra para cada cliente\n",
    "primera_compra_df = (\n",
    "    fact_ventas\n",
    "    .groupBy(\"id_cliente\")\n",
    "    .agg(F.min(\"fecha_venta\").alias(\"fecha_primera_compra\"))\n",
    ")\n",
    "\n",
    "# 3. Agrupar por mes y contar los clientes nuevos\n",
    "clientes_nuevos_mes_df = (\n",
    "    primera_compra_df\n",
    "    # Extraer el 'año-mes' de la fecha de primera compra\n",
    "    .withColumn(\"anio_registro\", F.year(\"fecha_primera_compra\"))\n",
    "    .withColumn(\"mes_registro\", F.month(\"fecha_primera_compra\"))\n",
    "    .groupBy(\"anio_registro\", \"mes_registro\")\n",
    "    .count()\n",
    "    .withColumnRenamed(\"count\", \"cantidad_clientes_nuevos\")\n",
    "    .orderBy(F.col(\"anio_registro\").desc(), F.col(\"mes_registro\").desc())\n",
    ")\n",
    "\n"
   ]
  },
  {
   "cell_type": "code",
   "execution_count": 0,
   "metadata": {
    "application/vnd.databricks.v1+cell": {
     "cellMetadata": {
      "byteLimit": 2048000,
      "rowLimit": 10000
     },
     "inputWidgets": {},
     "nuid": "0b8dbc8e-e72d-4071-9050-8bf5a3236fa3",
     "showTitle": false,
     "tableResultSettingsMap": {},
     "title": ""
    }
   },
   "outputs": [],
   "source": [
    "display(clientes_nuevos_mes_df)"
   ]
  },
  {
   "cell_type": "code",
   "execution_count": 0,
   "metadata": {
    "application/vnd.databricks.v1+cell": {
     "cellMetadata": {},
     "inputWidgets": {},
     "nuid": "9bd1bc29-faee-41da-8119-4ac032a9a26d",
     "showTitle": false,
     "tableResultSettingsMap": {},
     "title": ""
    }
   },
   "outputs": [],
   "source": [
    "clientes_nuevos_mes_df.createOrReplaceTempView(\"v_kpi_clientes_nuevos_mes_py\")"
   ]
  },
  {
   "cell_type": "markdown",
   "metadata": {
    "application/vnd.databricks.v1+cell": {
     "cellMetadata": {},
     "inputWidgets": {},
     "nuid": "45292bab-9df5-4432-827e-77b871e76633",
     "showTitle": false,
     "tableResultSettingsMap": {},
     "title": ""
    }
   },
   "source": [
    "**Código PySpark para Tasa de Devolución Mensual**"
   ]
  },
  {
   "cell_type": "code",
   "execution_count": 0,
   "metadata": {
    "application/vnd.databricks.v1+cell": {
     "cellMetadata": {
      "byteLimit": 2048000,
      "rowLimit": 10000
     },
     "inputWidgets": {},
     "nuid": "da688960-1f3a-4819-84a8-15cb0576645b",
     "showTitle": false,
     "tableResultSettingsMap": {},
     "title": ""
    }
   },
   "outputs": [],
   "source": [
    "# 1. Cargar las tablas necesarias\n",
    "fact_ventas = spark.table(f\"{catalog_name}.{schema_gold}.fact_ventas\")\n",
    "dim_tiempo = spark.table(f\"{catalog_name}.{schema_gold}.dim_tiempo\")\n",
    "devoluciones = spark.table(f\"{catalog_name}.{schema_silver}.devoluciones\")\n",
    "\n",
    "# 2. Calcular el total de ventas únicas por mes\n",
    "ventas_mensuales = (\n",
    "    fact_ventas.alias(\"fv\")\n",
    "    .join(dim_tiempo.alias(\"dt\"), \"id_tiempo\")\n",
    "    # Agrupamos por año y mes para obtener el periodo\n",
    "    .groupBy(\"dt.anio\", \"dt.mes\")\n",
    "    # Contamos el número de ventas distintas (no líneas de venta)\n",
    "    .agg(F.countDistinct(\"fv.id_venta\").alias(\"total_ventas\"))\n",
    ")\n",
    "\n",
    "# 3. Calcular el total de devoluciones por mes\n",
    "devoluciones_mensuales = (\n",
    "    devoluciones.alias(\"d\")\n",
    "    # Se une con dim_tiempo usando la fecha de la devolución\n",
    "    .join(dim_tiempo.alias(\"dt\"), F.to_date(F.col(\"d.fecha_devolucion\")) == F.col(\"dt.fecha\"))\n",
    "    .groupBy(\"dt.anio\", \"dt.mes\")\n",
    "    # Contamos el número de devoluciones\n",
    "    .agg(F.count(\"d.id_devolucion\").alias(\"total_devoluciones\"))\n",
    ")\n",
    "\n",
    "# 4. Unir los resultados y calcular la tasa de devolución\n",
    "tasa_devolucion_df = (\n",
    "    ventas_mensuales\n",
    "    # Usamos un 'full_outer' join para no perder meses que tengan ventas pero no devoluciones (o viceversa)\n",
    "    .join(devoluciones_mensuales, [\"anio\", \"mes\"], \"full_outer\")\n",
    "    # Rellenamos con 0 los nulos que puedan resultar del join\n",
    "    .na.fill(0)\n",
    "    .withColumn(\n",
    "        \"tasa_devolucion\",\n",
    "        # Fórmula: (# devoluciones / # ventas)\n",
    "        # Se usa F.when para evitar la división por cero\n",
    "        F.when(\n",
    "            F.col(\"total_ventas\") > 0,\n",
    "            F.col(\"total_devoluciones\") / F.col(\"total_ventas\")\n",
    "        ).otherwise(0) # Si no hubo ventas, la tasa es 0\n",
    "    )\n",
    "    .orderBy(F.col(\"anio\").desc(), F.col(\"mes\").desc())\n",
    ")\n"
   ]
  },
  {
   "cell_type": "code",
   "execution_count": 0,
   "metadata": {
    "application/vnd.databricks.v1+cell": {
     "cellMetadata": {
      "byteLimit": 2048000,
      "rowLimit": 10000
     },
     "inputWidgets": {},
     "nuid": "7c455b2f-3db8-4c97-85cb-f8276ab8bcf7",
     "showTitle": false,
     "tableResultSettingsMap": {},
     "title": ""
    }
   },
   "outputs": [],
   "source": [
    "display(tasa_devolucion_df)"
   ]
  },
  {
   "cell_type": "code",
   "execution_count": 0,
   "metadata": {
    "application/vnd.databricks.v1+cell": {
     "cellMetadata": {
      "byteLimit": 2048000,
      "rowLimit": 10000
     },
     "inputWidgets": {},
     "nuid": "358e88c5-1218-40e9-9904-81aa2a6a14ae",
     "showTitle": false,
     "tableResultSettingsMap": {},
     "title": ""
    }
   },
   "outputs": [],
   "source": [
    "tasa_devolucion_df.createOrReplaceTempView(\"v_kpi_tasa_devolucion_py\")"
   ]
  },
  {
   "cell_type": "markdown",
   "metadata": {
    "application/vnd.databricks.v1+cell": {
     "cellMetadata": {},
     "inputWidgets": {},
     "nuid": "90560a58-ed62-4a56-b661-cf9ddb841017",
     "showTitle": false,
     "tableResultSettingsMap": {},
     "title": ""
    }
   },
   "source": [
    "**Crecimiento MoM por categoría**"
   ]
  },
  {
   "cell_type": "code",
   "execution_count": 0,
   "metadata": {
    "application/vnd.databricks.v1+cell": {
     "cellMetadata": {
      "byteLimit": 2048000,
      "rowLimit": 10000
     },
     "inputWidgets": {},
     "nuid": "75766ef3-fb0b-43ec-805d-ae0141229ad1",
     "showTitle": false,
     "tableResultSettingsMap": {},
     "title": ""
    }
   },
   "outputs": [],
   "source": [
    "# 1. Cargar las tablas necesarias\n",
    "fact_ventas = spark.table(f\"{catalog_name}.{schema_gold}.fact_ventas\")\n",
    "dim_producto = spark.table(f\"{catalog_name}.{schema_gold}.dim_productos\")\n",
    "dim_tiempo = spark.table(f\"{catalog_name}.{schema_gold}.dim_tiempo\")\n",
    "\n",
    "# 2. Calcular las ventas totales por categoría y mes\n",
    "ventas_mensuales_categoria = (\n",
    "    fact_ventas.alias(\"fv\")\n",
    "    .join(dim_producto.alias(\"dp\"), \"id_producto\")\n",
    "    .join(dim_tiempo.alias(\"dt\"), \"id_tiempo\")\n",
    "    .groupBy(\"dp.categoria\", \"dt.anio\", \"dt.mes\")\n",
    "    .agg(F.sum(\"fv.monto\").alias(\"ventas_mes_actual\"))\n",
    ")\n",
    "\n",
    "# 3. Definir la función de ventana para obtener las ventas del mes anterior\n",
    "# La ventana se divide por 'categoria' y se ordena por fecha (año y mes)\n",
    "window_spec = Window.partitionBy(\"categoria\").orderBy(\"anio\", \"mes\")\n",
    "\n",
    "# 4. Aplicar la función LAG para traer el dato del mes anterior a la fila actual\n",
    "ventas_con_mes_anterior = (\n",
    "    ventas_mensuales_categoria\n",
    "    .withColumn(\n",
    "        \"ventas_mes_anterior\",\n",
    "        F.lag(\"ventas_mes_actual\").over(window_spec)\n",
    "    )\n",
    ")\n",
    "\n",
    "# 5. Calcular la tasa de crecimiento MoM\n",
    "crecimiento_mom_df = (\n",
    "    ventas_con_mes_anterior\n",
    "    .withColumn(\n",
    "        \"crecimiento_mom\",\n",
    "        # Fórmula: (actual - anterior) / anterior\n",
    "        # Se usa F.when para manejar el primer mes (donde el anterior es nulo) y evitar división por cero\n",
    "        F.when(\n",
    "            (F.col(\"ventas_mes_anterior\").isNotNull()) & (F.col(\"ventas_mes_anterior\") != 0),\n",
    "            (F.col(\"ventas_mes_actual\") - F.col(\"ventas_mes_anterior\")) / F.col(\"ventas_mes_anterior\")\n",
    "        ).otherwise(None) # El primer mes no tiene crecimiento, se deja como nulo\n",
    "    )\n",
    "    .orderBy(F.col(\"categoria\"), F.col(\"anio\"), F.col(\"mes\"))\n",
    ")\n",
    "\n"
   ]
  },
  {
   "cell_type": "code",
   "execution_count": 0,
   "metadata": {
    "application/vnd.databricks.v1+cell": {
     "cellMetadata": {
      "byteLimit": 2048000,
      "rowLimit": 10000
     },
     "inputWidgets": {},
     "nuid": "a31b699c-59f5-4bab-8603-03d23bc99c6c",
     "showTitle": false,
     "tableResultSettingsMap": {},
     "title": ""
    }
   },
   "outputs": [],
   "source": [
    "display(crecimiento_mom_df)"
   ]
  },
  {
   "cell_type": "code",
   "execution_count": 0,
   "metadata": {
    "application/vnd.databricks.v1+cell": {
     "cellMetadata": {
      "byteLimit": 2048000,
      "rowLimit": 10000
     },
     "inputWidgets": {},
     "nuid": "4027a40c-e6b1-4c69-ac21-50522168e669",
     "showTitle": false,
     "tableResultSettingsMap": {},
     "title": ""
    }
   },
   "outputs": [],
   "source": [
    "crecimiento_mom_df.createOrReplaceTempView(\"v_kpi_crecimiento_mom_df_py\")"
   ]
  },
  {
   "cell_type": "markdown",
   "metadata": {
    "application/vnd.databricks.v1+cell": {
     "cellMetadata": {},
     "inputWidgets": {},
     "nuid": "7ab48cbc-6bd0-49c8-9156-7980fc444e8a",
     "showTitle": false,
     "tableResultSettingsMap": {},
     "title": ""
    }
   },
   "source": [
    "**Resumen incremental de la última corrida**"
   ]
  },
  {
   "cell_type": "code",
   "execution_count": 0,
   "metadata": {
    "application/vnd.databricks.v1+cell": {
     "cellMetadata": {
      "byteLimit": 2048000,
      "rowLimit": 10000
     },
     "inputWidgets": {},
     "nuid": "0ef08ada-ce20-45c2-b377-2c55c4006127",
     "showTitle": false,
     "tableResultSettingsMap": {},
     "title": ""
    }
   },
   "outputs": [],
   "source": [
    "# 1. Cargar la tabla de auditoría\n",
    "log_df = spark.table(f\"{catalog_name}.{schema_auditoria}.ingestion_log\")\n",
    "\n",
    "# 2. Obtener el registro de la última corrida\n",
    "# Se ordena por la fecha de creación en orden descendente y se toma el primer registro\n",
    "ultima_corrida_df = (\n",
    "    log_df\n",
    "    .orderBy(F.col(\"creation_date\").desc())\n",
    "    .limit(1)\n",
    "    .select(\n",
    "        \"creation_date\",\n",
    "        \"table\",\n",
    "        \"rows_inserted\",\n",
    "        \"rows_updated\",\n",
    "        \"rows_deleted\",\n",
    "        \"merge_duration_seconds\"\n",
    "    )\n",
    ")\n"
   ]
  },
  {
   "cell_type": "code",
   "execution_count": 0,
   "metadata": {
    "application/vnd.databricks.v1+cell": {
     "cellMetadata": {
      "byteLimit": 2048000,
      "rowLimit": 10000
     },
     "inputWidgets": {},
     "nuid": "ffb69ece-acd4-4f54-ae4a-2ed41b16ce33",
     "showTitle": false,
     "tableResultSettingsMap": {},
     "title": ""
    }
   },
   "outputs": [],
   "source": [
    "\n",
    "display(ultima_corrida_df)"
   ]
  },
  {
   "cell_type": "code",
   "execution_count": 0,
   "metadata": {
    "application/vnd.databricks.v1+cell": {
     "cellMetadata": {},
     "inputWidgets": {},
     "nuid": "15d7aaa5-c64c-48d5-a645-43f53b4f7e54",
     "showTitle": false,
     "tableResultSettingsMap": {},
     "title": ""
    }
   },
   "outputs": [],
   "source": [
    "ultima_corrida_df.createOrReplaceTempView(\"v_kpi_ultima_corrida_df_py\")"
   ]
  }
 ],
 "metadata": {
  "application/vnd.databricks.v1+notebook": {
   "computePreferences": null,
   "dashboards": [],
   "environmentMetadata": {
    "base_environment": "",
    "environment_version": "3"
   },
   "inputWidgetPreferences": null,
   "language": "python",
   "notebookMetadata": {
    "pythonIndentUnit": 4
   },
   "notebookName": "KPI",
   "widgets": {}
  },
  "language_info": {
   "name": "python"
  }
 },
 "nbformat": 4,
 "nbformat_minor": 0
}
