{
 "cells": [
  {
   "cell_type": "code",
   "execution_count": 0,
   "metadata": {
    "application/vnd.databricks.v1+cell": {
     "cellMetadata": {
      "byteLimit": 2048000,
      "rowLimit": 10000
     },
     "inputWidgets": {},
     "nuid": "e6b10bb2-ca39-40e6-a40d-f71321a92b19",
     "showTitle": false,
     "tableResultSettingsMap": {},
     "title": ""
    }
   },
   "outputs": [],
   "source": [
    "catalog_name = dbutils.widgets.text(\"catalog_name\", \"\")\n",
    "catalog_name = dbutils.widgets.get(\"catalog_name\")\n",
    "bronze_schema = dbutils.widgets.text(\"bronze_schema\", \"\")\n",
    "bronze_schema = dbutils.widgets.get(\"bronze_schema\")\n",
    "silver_schema = dbutils.widgets.text(\"silver_schema\", \"\")\n",
    "silver_schema = dbutils.widgets.get(\"silver_schema\")\n",
    "input_table_devoluciones = dbutils.widgets.text(\"input_table_devoluciones\", \"\")\n",
    "input_table_devoluciones = dbutils.widgets.get(\"input_table_devoluciones\")\n",
    "output_table_devoluciones = dbutils.widgets.text(\"output_table_devoluciones\", \"\")\n",
    "output_table_devoluciones = dbutils.widgets.get(\"output_table_devoluciones\")"
   ]
  },
  {
   "cell_type": "code",
   "execution_count": 0,
   "metadata": {
    "application/vnd.databricks.v1+cell": {
     "cellMetadata": {
      "byteLimit": 2048000,
      "rowLimit": 10000
     },
     "inputWidgets": {},
     "nuid": "7a9c5471-615a-4607-b2f4-869857fe90b1",
     "showTitle": false,
     "tableResultSettingsMap": {},
     "title": ""
    }
   },
   "outputs": [],
   "source": [
    "\n",
    "from pyspark.sql.window import Window\n",
    "from pyspark.sql import functions as F\n",
    "from pyspark.sql.functions import col, trim, initcap, when, lit, year, month, dayofmonth, concat, concat_ws\n",
    "from delta.tables import DeltaTable\n",
    "from pyspark.sql.utils import AnalysisException\n",
    "import time"
   ]
  },
  {
   "cell_type": "code",
   "execution_count": 0,
   "metadata": {
    "application/vnd.databricks.v1+cell": {
     "cellMetadata": {
      "byteLimit": 2048000,
      "rowLimit": 10000
     },
     "inputWidgets": {},
     "nuid": "2d22b1da-e1c2-4239-897e-f21859483db3",
     "showTitle": false,
     "tableResultSettingsMap": {},
     "title": ""
    }
   },
   "outputs": [],
   "source": [
    "schema_auditoria =\"auditoria\""
   ]
  },
  {
   "cell_type": "code",
   "execution_count": 0,
   "metadata": {
    "application/vnd.databricks.v1+cell": {
     "cellMetadata": {
      "byteLimit": 2048000,
      "rowLimit": 10000
     },
     "inputWidgets": {},
     "nuid": "934cecc7-c99d-4dae-a7ce-1972c09ec03e",
     "showTitle": false,
     "tableResultSettingsMap": {},
     "title": ""
    }
   },
   "outputs": [],
   "source": [
    "silver_devoluciones = (\n",
    "    spark.table(f\"{catalog_name}.{bronze_schema}.{input_table_devoluciones}\")\n",
    "    .withColumn(\"id_devolucion\", F.col(\"id_devolucion\").cast(\"bigint\"))\n",
    "    .withColumn(\"id_venta\", F.col(\"id_venta\").cast(\"bigint\"))\n",
    "    .withColumn(\"motivo\", F.trim(F.col(\"motivo\")))\n",
    "    .withColumn(\n",
    "        \"fecha_devolucion\",\n",
    "        F.when(F.col(\"fecha_devolucion\").rlike(\"^\\d{4}-\\d{2}-\\d{2}$\"),\n",
    "               F.to_date(\"fecha_devolucion\", \"yyyy-MM-dd\"))\n",
    "         .when(F.col(\"fecha_devolucion\").rlike(\"^\\d{2}/\\d{2}/\\d{4}$\"),\n",
    "               F.to_date(\"fecha_devolucion\", \"dd/MM/yyyy\"))\n",
    "         .otherwise(F.lit(None))\n",
    "    )\n",
    "    .withColumn(\"updated_at\", F.current_timestamp())\n",
    "    .dropna(subset=[\"id_devolucion\"])\n",
    "    .dropDuplicates([\"id_devolucion\"])\n",
    ")"
   ]
  },
  {
   "cell_type": "code",
   "execution_count": 0,
   "metadata": {
    "application/vnd.databricks.v1+cell": {
     "cellMetadata": {
      "byteLimit": 2048000,
      "rowLimit": 10000
     },
     "inputWidgets": {},
     "nuid": "f0fef2af-9f48-435d-9958-f1e473173ca0",
     "showTitle": false,
     "tableResultSettingsMap": {
      "0": {
       "dataGridStateBlob": "{\"version\":1,\"tableState\":{\"columnPinning\":{\"left\":[\"#row_number#\"],\"right\":[]},\"columnSizing\":{\"motivo\":230},\"columnVisibility\":{}},\"settings\":{\"columns\":{}},\"syncTimestamp\":1758062320517}",
       "filterBlob": null,
       "queryPlanFiltersBlob": null,
       "tableResultIndex": 0
      }
     },
     "title": ""
    }
   },
   "outputs": [],
   "source": [
    "display(silver_devoluciones)"
   ]
  },
  {
   "cell_type": "code",
   "execution_count": 0,
   "metadata": {
    "application/vnd.databricks.v1+cell": {
     "cellMetadata": {
      "byteLimit": 2048000,
      "rowLimit": 10000
     },
     "inputWidgets": {},
     "nuid": "e216a324-996d-4255-863e-ac62e859db5c",
     "showTitle": false,
     "tableResultSettingsMap": {},
     "title": ""
    }
   },
   "outputs": [],
   "source": [
    "spark.sql(f\"\"\"\n",
    "   CREATE TABLE IF NOT EXISTS {catalog_name}.{silver_schema}.{output_table_devoluciones} (\n",
    "    id_devolucion BIGINT,\n",
    "    id_venta BIGINT,\n",
    "    motivo STRING,\n",
    "    fecha_devolucion TIMESTAMP,\n",
    "    updated_at TIMESTAMP\n",
    "   ) USING DELTA\n",
    "   \"\"\")"
   ]
  },
  {
   "cell_type": "code",
   "execution_count": 0,
   "metadata": {
    "application/vnd.databricks.v1+cell": {
     "cellMetadata": {
      "byteLimit": 2048000,
      "rowLimit": 10000
     },
     "inputWidgets": {},
     "nuid": "60e16d03-c176-48f1-8ec7-dd082577382d",
     "showTitle": false,
     "tableResultSettingsMap": {},
     "title": ""
    }
   },
   "outputs": [],
   "source": [
    "\n",
    "delta_target = DeltaTable.forName(spark, f\"{catalog_name}.{silver_schema}.{output_table_devoluciones}\")\n",
    "\n",
    "merge_start = time.time()\n",
    "delta_target.alias(\"tgt\") \\\n",
    "  .merge(\n",
    "    source=silver_devoluciones.alias(\"src\"),\n",
    "    condition=\"tgt.id_devolucion = src.id_devolucion\"\n",
    "  ) \\\n",
    "  .whenMatchedUpdateAll(\n",
    "    condition=\"src.updated_at > tgt.updated_at\"\n",
    "  ) \\\n",
    "  .whenNotMatchedInsertAll() \\\n",
    "  .execute()\n",
    "merge_end = time.time()"
   ]
  },
  {
   "cell_type": "code",
   "execution_count": 0,
   "metadata": {
    "application/vnd.databricks.v1+cell": {
     "cellMetadata": {
      "byteLimit": 2048000,
      "rowLimit": 10000
     },
     "inputWidgets": {},
     "nuid": "1d4ee6e3-1ec9-4c92-8535-3ec94ea83339",
     "showTitle": false,
     "tableResultSettingsMap": {},
     "title": ""
    }
   },
   "outputs": [],
   "source": [
    "spark.table(f\"{catalog_name}.{silver_schema}.devoluciones\").show(10)"
   ]
  },
  {
   "cell_type": "code",
   "execution_count": 0,
   "metadata": {
    "application/vnd.databricks.v1+cell": {
     "cellMetadata": {
      "byteLimit": 2048000,
      "rowLimit": 10000
     },
     "inputWidgets": {},
     "nuid": "31a14106-4859-411c-b1f3-48e9adfb5973",
     "showTitle": false,
     "tableResultSettingsMap": {},
     "title": ""
    }
   },
   "outputs": [],
   "source": [
    "import time\n",
    "job_id = int(time.time())           # ID único basado en timestamp\n",
    "job_run_id = int(time.time() * 100) # más granular\n",
    "task_run_id = 1                     # o secuencial si prefieres\n"
   ]
  },
  {
   "cell_type": "code",
   "execution_count": 0,
   "metadata": {
    "application/vnd.databricks.v1+cell": {
     "cellMetadata": {
      "byteLimit": 2048000,
      "rowLimit": 10000
     },
     "inputWidgets": {},
     "nuid": "345007f3-280d-4c8d-9ee1-90545b673106",
     "showTitle": false,
     "tableResultSettingsMap": {},
     "title": ""
    }
   },
   "outputs": [],
   "source": [
    "rows_in = silver_devoluciones.count()\n",
    "start = time.time()\n",
    "spark.sql(f\"\"\"\n",
    "INSERT INTO {catalog_name}.{schema_auditoria}.ingestion_log VALUES (\n",
    "  {job_id},{job_run_id},{task_run_id},\n",
    "  current_timestamp(), current_timestamp(),\n",
    "  {int(time.time()-start)},\n",
    "  'SUCCESS','devoluciones','silver',\n",
    "  {rows_in},{rows_in},0,0,0,{int(merge_end-merge_start)},current_timestamp()\n",
    ")\n",
    "\"\"\")\n"
   ]
  },
  {
   "cell_type": "code",
   "execution_count": 0,
   "metadata": {
    "application/vnd.databricks.v1+cell": {
     "cellMetadata": {
      "byteLimit": 2048000,
      "rowLimit": 10000
     },
     "inputWidgets": {},
     "nuid": "65458f9a-8fc7-43fc-b120-8c889fcfe6df",
     "showTitle": false,
     "tableResultSettingsMap": {},
     "title": ""
    }
   },
   "outputs": [],
   "source": [
    "display(spark.table(f\"{catalog_name}.{schema_auditoria}.ingestion_log\"))\n"
   ]
  }
 ],
 "metadata": {
  "application/vnd.databricks.v1+notebook": {
   "computePreferences": null,
   "dashboards": [],
   "environmentMetadata": {
    "base_environment": "",
    "environment_version": "3"
   },
   "inputWidgetPreferences": null,
   "language": "python",
   "notebookMetadata": {
    "pythonIndentUnit": 4
   },
   "notebookName": "Silver_Devoluciones_Job",
   "widgets": {
    "bronze_schema": {
     "currentValue": "bronze",
     "nuid": "64a474db-bbda-4d84-a77a-3fe6adfa6bd1",
     "typedWidgetInfo": {
      "autoCreated": false,
      "defaultValue": "",
      "label": null,
      "name": "bronze_schema",
      "options": {
       "widgetDisplayType": "Text",
       "validationRegex": null
      },
      "parameterDataType": "String"
     },
     "widgetInfo": {
      "widgetType": "text",
      "defaultValue": "",
      "label": null,
      "name": "bronze_schema",
      "options": {
       "widgetType": "text",
       "autoCreated": null,
       "validationRegex": null
      }
     }
    },
    "catalog_name": {
     "currentValue": "retail_dev",
     "nuid": "775cb6c3-a038-4406-8639-64ca667bc7fb",
     "typedWidgetInfo": {
      "autoCreated": false,
      "defaultValue": "",
      "label": null,
      "name": "catalog_name",
      "options": {
       "widgetDisplayType": "Text",
       "validationRegex": null
      },
      "parameterDataType": "String"
     },
     "widgetInfo": {
      "widgetType": "text",
      "defaultValue": "",
      "label": null,
      "name": "catalog_name",
      "options": {
       "widgetType": "text",
       "autoCreated": null,
       "validationRegex": null
      }
     }
    },
    "input_table_devoluciones": {
     "currentValue": "devoluciones_raw",
     "nuid": "f3b3239c-b99e-41a9-a212-3d76b19d4516",
     "typedWidgetInfo": {
      "autoCreated": false,
      "defaultValue": "",
      "label": null,
      "name": "input_table_devoluciones",
      "options": {
       "widgetDisplayType": "Text",
       "validationRegex": null
      },
      "parameterDataType": "String"
     },
     "widgetInfo": {
      "widgetType": "text",
      "defaultValue": "",
      "label": null,
      "name": "input_table_devoluciones",
      "options": {
       "widgetType": "text",
       "autoCreated": null,
       "validationRegex": null
      }
     }
    },
    "output_table_devoluciones": {
     "currentValue": "devoluciones",
     "nuid": "56265445-dd41-41fb-a7d5-b0effea9c859",
     "typedWidgetInfo": {
      "autoCreated": false,
      "defaultValue": "",
      "label": null,
      "name": "output_table_devoluciones",
      "options": {
       "widgetDisplayType": "Text",
       "validationRegex": null
      },
      "parameterDataType": "String"
     },
     "widgetInfo": {
      "widgetType": "text",
      "defaultValue": "",
      "label": null,
      "name": "output_table_devoluciones",
      "options": {
       "widgetType": "text",
       "autoCreated": null,
       "validationRegex": null
      }
     }
    },
    "silver_schema": {
     "currentValue": "silver",
     "nuid": "aa861416-4035-4a2d-b127-9ee14425f49d",
     "typedWidgetInfo": {
      "autoCreated": false,
      "defaultValue": "",
      "label": null,
      "name": "silver_schema",
      "options": {
       "widgetDisplayType": "Text",
       "validationRegex": null
      },
      "parameterDataType": "String"
     },
     "widgetInfo": {
      "widgetType": "text",
      "defaultValue": "",
      "label": null,
      "name": "silver_schema",
      "options": {
       "widgetType": "text",
       "autoCreated": null,
       "validationRegex": null
      }
     }
    }
   }
  },
  "language_info": {
   "name": "python"
  }
 },
 "nbformat": 4,
 "nbformat_minor": 0
}
