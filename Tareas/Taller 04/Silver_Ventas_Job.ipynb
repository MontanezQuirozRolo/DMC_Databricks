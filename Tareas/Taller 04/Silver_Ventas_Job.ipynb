{
 "cells": [
  {
   "cell_type": "code",
   "execution_count": 0,
   "metadata": {
    "application/vnd.databricks.v1+cell": {
     "cellMetadata": {
      "byteLimit": 2048000,
      "rowLimit": 10000
     },
     "inputWidgets": {},
     "nuid": "75e6e176-7be4-464e-8634-53a2aa93489d",
     "showTitle": false,
     "tableResultSettingsMap": {},
     "title": ""
    }
   },
   "outputs": [],
   "source": [
    "catalog_name = dbutils.widgets.text(\"catalog_name\", \"\")\n",
    "catalog_name = dbutils.widgets.get(\"catalog_name\")\n",
    "bronze_schema = dbutils.widgets.text(\"bronze_schema\", \"\")\n",
    "bronze_schema = dbutils.widgets.get(\"bronze_schema\")\n",
    "silver_schema = dbutils.widgets.text(\"silver_schema\", \"\")\n",
    "silver_schema = dbutils.widgets.get(\"silver_schema\")\n",
    "input_table_ventas_base = dbutils.widgets.text(\"input_table_ventas_base\", \"\")\n",
    "input_table_ventas_base = dbutils.widgets.get(\"input_table_ventas_base\")\n",
    "input_table_ventas_incremento = dbutils.widgets.text(\"input_table_ventas_incremento\", \"\")\n",
    "input_table_ventas_incremento = dbutils.widgets.get(\"input_table_ventas_incremento\")\n",
    "output_table_ventas = dbutils.widgets.text(\"output_table_ventas\", \"\")\n",
    "output_table_ventas = dbutils.widgets.get(\"output_table_ventas\")"
   ]
  },
  {
   "cell_type": "code",
   "execution_count": 0,
   "metadata": {
    "application/vnd.databricks.v1+cell": {
     "cellMetadata": {
      "byteLimit": 2048000,
      "rowLimit": 10000
     },
     "inputWidgets": {},
     "nuid": "19595982-1e5d-4e31-85b6-f7d7068b5c2c",
     "showTitle": false,
     "tableResultSettingsMap": {},
     "title": ""
    }
   },
   "outputs": [],
   "source": [
    "\n",
    "from pyspark.sql.window import Window\n",
    "from pyspark.sql import functions as F\n",
    "from pyspark.sql.functions import col, trim, initcap, when, lit, year, month, dayofmonth, concat, concat_ws\n",
    "from delta.tables import DeltaTable\n",
    "from pyspark.sql.utils import AnalysisException\n",
    "import time"
   ]
  },
  {
   "cell_type": "code",
   "execution_count": 0,
   "metadata": {
    "application/vnd.databricks.v1+cell": {
     "cellMetadata": {
      "byteLimit": 2048000,
      "rowLimit": 10000
     },
     "inputWidgets": {},
     "nuid": "71c22a60-d9a3-46cd-80f9-380cb9db0307",
     "showTitle": false,
     "tableResultSettingsMap": {},
     "title": ""
    }
   },
   "outputs": [],
   "source": [
    "schema_auditoria =\"auditoria\""
   ]
  },
  {
   "cell_type": "code",
   "execution_count": 0,
   "metadata": {
    "application/vnd.databricks.v1+cell": {
     "cellMetadata": {
      "byteLimit": 2048000,
      "rowLimit": 10000
     },
     "inputWidgets": {},
     "nuid": "4133fb72-e0e3-4cef-8d8f-acf7e86b5787",
     "showTitle": false,
     "tableResultSettingsMap": {},
     "title": ""
    }
   },
   "outputs": [],
   "source": [
    "# Valida la tabla Bronze después de la ingesta\n",
    "display(\n",
    "    spark.table(f\"{catalog_name}.{bronze_schema}.{input_table_ventas_incremento}\")\n",
    "        .groupBy(\"id_venta\", \"id_producto\")\n",
    "        .count()\n",
    "        .where(\"count > 1\")\n",
    ")"
   ]
  },
  {
   "cell_type": "code",
   "execution_count": 0,
   "metadata": {
    "application/vnd.databricks.v1+cell": {
     "cellMetadata": {
      "byteLimit": 2048000,
      "rowLimit": 10000
     },
     "inputWidgets": {},
     "nuid": "00494565-079b-41ec-a401-0a54a7eb4637",
     "showTitle": false,
     "tableResultSettingsMap": {},
     "title": ""
    }
   },
   "outputs": [],
   "source": [
    "# Valida la tabla Bronze después de la ingesta\n",
    "display(\n",
    "    spark.table(f\"{catalog_name}.{bronze_schema}.{input_table_ventas_base}\")\n",
    "        .groupBy(\"id_venta\", \"id_producto\")\n",
    "        .count()\n",
    "        .where(\"count > 1\")\n",
    ")"
   ]
  },
  {
   "cell_type": "code",
   "execution_count": 0,
   "metadata": {
    "application/vnd.databricks.v1+cell": {
     "cellMetadata": {
      "byteLimit": 2048000,
      "rowLimit": 10000
     },
     "inputWidgets": {},
     "nuid": "5e34b372-f5fe-4e41-bbb9-782a4a9ea07a",
     "showTitle": false,
     "tableResultSettingsMap": {},
     "title": ""
    }
   },
   "outputs": [],
   "source": [
    "silver_ventas_base = (\n",
    "    spark.table(f\"{catalog_name}.{bronze_schema}.{input_table_ventas_base}\")\n",
    "    .withColumn(\"id_venta\", F.col(\"id_venta\").cast(\"bigint\"))\n",
    "    .withColumn(\"id_cliente\", F.col(\"id_cliente\").cast(\"bigint\"))\n",
    "    .withColumn(\"id_tienda\", F.col(\"id_tienda\").cast(\"bigint\"))\n",
    "    .withColumn(\"id_producto\", F.col(\"id_producto\").cast(\"bigint\"))\n",
    "    .withColumn(\"cantidad\",\n",
    "        F.when(F.col(\"cantidad\").rlike(\"^[0-9]+$\"), F.col(\"cantidad\").cast(\"int\")) #\"15\"=15  \"diez\"=null\n",
    "         .otherwise(F.lit(None))\n",
    "    )\n",
    "    .withColumn(\"monto\", F.expr(\"try_cast(monto as decimal(18,2))\"))\n",
    "    .withColumn(\n",
    "        \"fecha_venta\",\n",
    "        F.when(F.col(\"fecha_venta\").rlike(\"^\\d{4}-\\d{2}-\\d{2}$\"),\n",
    "               F.to_date(\"fecha_venta\", \"yyyy-MM-dd\"))\n",
    "         .when(F.col(\"fecha_venta\").rlike(\"^\\d{2}/\\d{2}/\\d{4}$\"),\n",
    "               F.to_date(\"fecha_venta\", \"dd/MM/yyyy\"))\n",
    "         .otherwise(F.lit(None))\n",
    "    )\n",
    "    .withColumn(\"updated_at\", F.to_timestamp(\"updated_at\"))\n",
    "    .withColumn(\"anio_mes\", F.date_format(\"fecha_venta\",\"yyyy-MM\"))\n",
    "    .withColumn(\"updated_at\", F.current_timestamp())\n",
    "    .dropna(subset=[\"id_venta\", \"id_producto\"])\n",
    "    .dropDuplicates([\"id_venta\", \"id_producto\"])\n",
    ")"
   ]
  },
  {
   "cell_type": "code",
   "execution_count": 0,
   "metadata": {
    "application/vnd.databricks.v1+cell": {
     "cellMetadata": {
      "byteLimit": 2048000,
      "rowLimit": 10000
     },
     "inputWidgets": {},
     "nuid": "f9f53b0d-f1f4-413c-8872-43fda743efca",
     "showTitle": false,
     "tableResultSettingsMap": {
      "0": {
       "dataGridStateBlob": "{\"version\":1,\"tableState\":{\"columnPinning\":{\"left\":[\"#row_number#\"],\"right\":[]},\"columnSizing\":{},\"columnVisibility\":{}},\"settings\":{\"columns\":{}},\"syncTimestamp\":1758044503159}",
       "filterBlob": "{\"version\":1,\"filterGroups\":[],\"syncTimestamp\":1758062341746}",
       "queryPlanFiltersBlob": "[]",
       "tableResultIndex": 0
      }
     },
     "title": ""
    }
   },
   "outputs": [],
   "source": [
    "display(silver_ventas_base)"
   ]
  },
  {
   "cell_type": "code",
   "execution_count": 0,
   "metadata": {
    "application/vnd.databricks.v1+cell": {
     "cellMetadata": {
      "byteLimit": 2048000,
      "rowLimit": 10000
     },
     "inputWidgets": {},
     "nuid": "4da92d89-636f-4418-98ad-9b9476153836",
     "showTitle": false,
     "tableResultSettingsMap": {},
     "title": ""
    }
   },
   "outputs": [],
   "source": [
    "duplicados = (\n",
    "    silver_ventas_base\n",
    "    .groupBy(\"id_venta\", \"id_producto\")\n",
    "    .count()\n",
    "    .where(F.col(\"count\") > 1)\n",
    ")\n",
    "display(duplicados)"
   ]
  },
  {
   "cell_type": "code",
   "execution_count": 0,
   "metadata": {
    "application/vnd.databricks.v1+cell": {
     "cellMetadata": {
      "byteLimit": 2048000,
      "rowLimit": 10000
     },
     "inputWidgets": {},
     "nuid": "4e591ef1-3f51-40f4-880f-e3ead6c5dacd",
     "showTitle": false,
     "tableResultSettingsMap": {},
     "title": ""
    }
   },
   "outputs": [],
   "source": [
    "silver_ventas_incremento = (\n",
    "    spark.table(f\"{catalog_name}.{bronze_schema}.{input_table_ventas_incremento}\")\n",
    "    .withColumn(\"id_venta\", F.col(\"id_venta\").cast(\"bigint\"))\n",
    "    .withColumn(\"id_cliente\", F.col(\"id_cliente\").cast(\"bigint\"))\n",
    "    .withColumn(\"id_tienda\", F.col(\"id_tienda\").cast(\"bigint\"))\n",
    "    .withColumn(\"id_producto\", F.col(\"id_producto\").cast(\"bigint\"))\n",
    "    .withColumn(\"cantidad\",\n",
    "        F.when(F.col(\"cantidad\").rlike(\"^[0-9]+$\"), F.col(\"cantidad\").cast(\"int\")) #\"15\"=15  \"diez\"=null\n",
    "         .otherwise(F.lit(None))\n",
    "    )\n",
    "    .withColumn(\"monto\", F.expr(\"try_cast(monto as decimal(18,2))\"))\n",
    "    .withColumn(\n",
    "        \"fecha_venta\",\n",
    "        F.when(F.col(\"fecha_venta\").rlike(\"^\\d{4}-\\d{2}-\\d{2}$\"),\n",
    "               F.to_date(\"fecha_venta\", \"yyyy-MM-dd\"))\n",
    "         .when(F.col(\"fecha_venta\").rlike(\"^\\d{2}/\\d{2}/\\d{4}$\"),\n",
    "               F.to_date(\"fecha_venta\", \"dd/MM/yyyy\"))\n",
    "         .otherwise(F.lit(None))\n",
    "    )\n",
    "    .withColumn(\"updated_at\", F.to_timestamp(\"updated_at\"))\n",
    "    .withColumn(\"anio_mes\", F.date_format(\"fecha_venta\",\"yyyy-MM\"))\n",
    "    .withColumn(\"updated_at\", F.current_timestamp())\n",
    "    .dropna(subset=[\"id_venta\", \"id_producto\"])\n",
    "    .dropDuplicates([\"id_venta\", \"id_producto\"])\n",
    ")"
   ]
  },
  {
   "cell_type": "code",
   "execution_count": 0,
   "metadata": {
    "application/vnd.databricks.v1+cell": {
     "cellMetadata": {
      "byteLimit": 2048000,
      "rowLimit": 10000
     },
     "inputWidgets": {},
     "nuid": "4e11b578-c0b6-4021-b7db-4ae2f52666d2",
     "showTitle": false,
     "tableResultSettingsMap": {
      "0": {
       "dataGridStateBlob": "{\"version\":1,\"tableState\":{\"columnPinning\":{\"left\":[\"#row_number#\"],\"right\":[]},\"columnSizing\":{},\"columnVisibility\":{}},\"settings\":{\"columns\":{}},\"syncTimestamp\":1758044483426}",
       "filterBlob": "{\"version\":1,\"filterGroups\":[],\"syncTimestamp\":1758044592693}",
       "queryPlanFiltersBlob": "[]",
       "tableResultIndex": 0
      }
     },
     "title": ""
    }
   },
   "outputs": [],
   "source": [
    "display(silver_ventas_incremento)"
   ]
  },
  {
   "cell_type": "code",
   "execution_count": 0,
   "metadata": {
    "application/vnd.databricks.v1+cell": {
     "cellMetadata": {
      "byteLimit": 2048000,
      "rowLimit": 10000
     },
     "inputWidgets": {},
     "nuid": "40eee4e2-259b-4ba9-a406-70ebbc0c1061",
     "showTitle": false,
     "tableResultSettingsMap": {},
     "title": ""
    }
   },
   "outputs": [],
   "source": [
    "duplicados = (\n",
    "    silver_ventas_incremento\n",
    "    .groupBy(\"id_venta\", \"id_producto\")\n",
    "    .count()\n",
    "    .where(F.col(\"count\") > 1)\n",
    ")\n",
    "display(duplicados)"
   ]
  },
  {
   "cell_type": "code",
   "execution_count": 0,
   "metadata": {
    "application/vnd.databricks.v1+cell": {
     "cellMetadata": {
      "byteLimit": 2048000,
      "rowLimit": 10000
     },
     "inputWidgets": {},
     "nuid": "30cee7d7-9a0f-400f-9e09-efd91e3f14c1",
     "showTitle": false,
     "tableResultSettingsMap": {},
     "title": ""
    }
   },
   "outputs": [],
   "source": [
    "spark.sql(f\"\"\"\n",
    "CREATE TABLE IF NOT EXISTS {catalog_name}.{silver_schema}.{output_table_ventas} (\n",
    "  id_venta BIGINT,\n",
    "  id_cliente BIGINT,\n",
    "  id_tienda BIGINT,\n",
    "  id_producto BIGINT,\n",
    "  cantidad INT,\n",
    "  monto DECIMAL(18,2),\n",
    "  fecha_venta TIMESTAMP,\n",
    "  updated_at TIMESTAMP,\n",
    "  anio_mes STRING\n",
    ") USING DELTA\n",
    "\"\"\")"
   ]
  },
  {
   "cell_type": "code",
   "execution_count": 0,
   "metadata": {
    "application/vnd.databricks.v1+cell": {
     "cellMetadata": {
      "byteLimit": 2048000,
      "rowLimit": 10000
     },
     "inputWidgets": {},
     "nuid": "60340da0-1a18-4b45-9453-6c834de641e6",
     "showTitle": false,
     "tableResultSettingsMap": {},
     "title": ""
    }
   },
   "outputs": [],
   "source": [
    "merge_start = time.time()\n",
    "# 1. Unificar los DataFrames base e incremental\n",
    "ventas_unificadas = silver_ventas_base.unionByName(silver_ventas_incremento)\n",
    "\n",
    "# 2. Definir la ventana para encontrar los registros más recientes\n",
    "# La partición se hace por la llave de negocio (id_venta, id_producto)\n",
    "window_spec = Window.partitionBy(\"id_venta\", \"id_producto\").orderBy(F.col(\"updated_at\").desc())\n",
    "\n",
    "# 3. Deduplicar el DataFrame unificado\n",
    "# Se añade un número de fila y se filtra para quedarse solo con el más reciente (rn=1)\n",
    "ventas_src_deduplicado = (\n",
    "    ventas_unificadas\n",
    "    .withColumn(\"rn\", F.row_number().over(window_spec))\n",
    "    .where(F.col(\"rn\") == 1)\n",
    "    .drop(\"rn\")\n",
    ")\n",
    "\n",
    "# 4. Preparar la tabla Delta de destino\n",
    "delta_target = DeltaTable.forName(spark, f\"{catalog_name}.{silver_schema}.{output_table_ventas}\")\n",
    "\n",
    "# 5. Ejecutar la operación MERGE\n",
    "\n",
    "(\n",
    "    delta_target.alias(\"target\")\n",
    "    .merge(\n",
    "        source=ventas_src_deduplicado.alias(\"source\"),\n",
    "        condition=\"target.id_venta = source.id_venta AND target.id_producto = source.id_producto\"\n",
    "    )\n",
    "    .whenMatchedUpdate(\n",
    "        set={\n",
    "            \"id_cliente\": \"source.id_cliente\",\n",
    "            \"id_tienda\": \"source.id_tienda\",\n",
    "            \"cantidad\": \"source.cantidad\",\n",
    "            \"monto\": \"source.monto\",\n",
    "            \"fecha_venta\": \"source.fecha_venta\"\n",
    "        }\n",
    "    )\n",
    "    .whenNotMatchedInsert(\n",
    "        values={\n",
    "            \"id_venta\": \"source.id_venta\",\n",
    "            \"id_cliente\": \"source.id_cliente\",\n",
    "            \"id_tienda\": \"source.id_tienda\",\n",
    "            \"id_producto\": \"source.id_producto\",\n",
    "            \"cantidad\": \"source.cantidad\",\n",
    "            \"monto\": \"source.monto\",\n",
    "            \"fecha_venta\": \"source.fecha_venta\",\n",
    "            \"updated_at\": \"source.updated_at\"\n",
    "        }\n",
    "    )\n",
    "    .execute()\n",
    ")\n",
    "merge_end = time.time()"
   ]
  },
  {
   "cell_type": "code",
   "execution_count": 0,
   "metadata": {
    "application/vnd.databricks.v1+cell": {
     "cellMetadata": {
      "byteLimit": 2048000,
      "rowLimit": 10000
     },
     "inputWidgets": {},
     "nuid": "3d870422-d827-4ad4-aec6-ad8766100542",
     "showTitle": false,
     "tableResultSettingsMap": {},
     "title": ""
    }
   },
   "outputs": [],
   "source": [
    "spark.table(f\"{catalog_name}.{silver_schema}.{output_table_ventas}\").show(10)"
   ]
  },
  {
   "cell_type": "code",
   "execution_count": 0,
   "metadata": {
    "application/vnd.databricks.v1+cell": {
     "cellMetadata": {
      "byteLimit": 2048000,
      "rowLimit": 10000
     },
     "inputWidgets": {},
     "nuid": "894848bf-cea7-484f-b743-562fcb62b790",
     "showTitle": false,
     "tableResultSettingsMap": {},
     "title": ""
    }
   },
   "outputs": [],
   "source": [
    "spark.sql(f\"\"\"\n",
    "SELECT id_venta, id_producto, COUNT(*) AS veces\n",
    "FROM {catalog_name}.{silver_schema}.{output_table_ventas}\n",
    "GROUP BY id_venta, id_producto\n",
    "HAVING COUNT(*) > 1\n",
    "\"\"\").show(20, truncate=False)\n"
   ]
  },
  {
   "cell_type": "code",
   "execution_count": 0,
   "metadata": {
    "application/vnd.databricks.v1+cell": {
     "cellMetadata": {
      "byteLimit": 2048000,
      "rowLimit": 10000
     },
     "inputWidgets": {},
     "nuid": "d345c874-e84c-4fd7-9b5f-67ba6cf0e948",
     "showTitle": false,
     "tableResultSettingsMap": {},
     "title": ""
    }
   },
   "outputs": [],
   "source": [
    "import time\n",
    "job_id = int(time.time())           # ID único basado en timestamp\n",
    "job_run_id = int(time.time() * 100) # más granular\n",
    "task_run_id = 1                     # o secuencial si prefieres\n"
   ]
  },
  {
   "cell_type": "code",
   "execution_count": 0,
   "metadata": {
    "application/vnd.databricks.v1+cell": {
     "cellMetadata": {
      "byteLimit": 2048000,
      "rowLimit": 10000
     },
     "inputWidgets": {},
     "nuid": "332591ce-579d-4506-86cf-db6da96c884a",
     "showTitle": false,
     "tableResultSettingsMap": {},
     "title": ""
    }
   },
   "outputs": [],
   "source": [
    "rows_in = spark.table(f\"{catalog_name}.{silver_schema}.{output_table_ventas}\").count()\n",
    "merge_end = time.time()\n",
    "start = time.time()\n",
    "spark.sql(f\"\"\"\n",
    "INSERT INTO {catalog_name}.{schema_auditoria}.ingestion_log VALUES (\n",
    "  {job_id},{job_run_id},{task_run_id},\n",
    "  current_timestamp(), current_timestamp(),\n",
    "  {int(time.time()-start)},\n",
    "  'SUCCESS','ventas','silver',\n",
    "  {rows_in},{rows_in},0,0,0,{int(merge_end-merge_start)},current_timestamp()\n",
    ")\n",
    "\"\"\")"
   ]
  },
  {
   "cell_type": "code",
   "execution_count": 0,
   "metadata": {
    "application/vnd.databricks.v1+cell": {
     "cellMetadata": {
      "byteLimit": 2048000,
      "rowLimit": 10000
     },
     "inputWidgets": {},
     "nuid": "ffce7895-05ca-41fe-ba3d-03ef7ab63c50",
     "showTitle": false,
     "tableResultSettingsMap": {},
     "title": ""
    }
   },
   "outputs": [],
   "source": [
    "display(spark.table(f\"{catalog_name}.{schema_auditoria}.ingestion_log\"))\n"
   ]
  }
 ],
 "metadata": {
  "application/vnd.databricks.v1+notebook": {
   "computePreferences": {
    "hardware": {
     "accelerator": null,
     "gpuPoolId": null,
     "memory": null
    }
   },
   "dashboards": [],
   "environmentMetadata": {
    "base_environment": "",
    "environment_version": "3"
   },
   "inputWidgetPreferences": null,
   "language": "python",
   "notebookMetadata": {
    "mostRecentlyExecutedCommandWithImplicitDF": {
     "commandId": 2868528204081666,
     "dataframes": [
      "_sqldf"
     ]
    },
    "pythonIndentUnit": 4
   },
   "notebookName": "Silver_Ventas_Job",
   "widgets": {
    "bronze_schema": {
     "currentValue": "bronze",
     "nuid": "0fc638e1-8448-448c-a431-77d77e8f569d",
     "typedWidgetInfo": {
      "autoCreated": false,
      "defaultValue": "",
      "label": null,
      "name": "bronze_schema",
      "options": {
       "widgetDisplayType": "Text",
       "validationRegex": null
      },
      "parameterDataType": "String"
     },
     "widgetInfo": {
      "widgetType": "text",
      "defaultValue": "",
      "label": null,
      "name": "bronze_schema",
      "options": {
       "widgetType": "text",
       "autoCreated": null,
       "validationRegex": null
      }
     }
    },
    "catalog_name": {
     "currentValue": "retail_dev",
     "nuid": "64442beb-7070-4c3b-9592-e9c195b89cd5",
     "typedWidgetInfo": {
      "autoCreated": false,
      "defaultValue": "",
      "label": null,
      "name": "catalog_name",
      "options": {
       "widgetDisplayType": "Text",
       "validationRegex": null
      },
      "parameterDataType": "String"
     },
     "widgetInfo": {
      "widgetType": "text",
      "defaultValue": "",
      "label": null,
      "name": "catalog_name",
      "options": {
       "widgetType": "text",
       "autoCreated": null,
       "validationRegex": null
      }
     }
    },
    "input_table_ventas_base": {
     "currentValue": "ventas_base_raw",
     "nuid": "6ed98561-564e-42c0-ab90-51fb435358e8",
     "typedWidgetInfo": {
      "autoCreated": false,
      "defaultValue": "",
      "label": null,
      "name": "input_table_ventas_base",
      "options": {
       "widgetDisplayType": "Text",
       "validationRegex": null
      },
      "parameterDataType": "String"
     },
     "widgetInfo": {
      "widgetType": "text",
      "defaultValue": "",
      "label": null,
      "name": "input_table_ventas_base",
      "options": {
       "widgetType": "text",
       "autoCreated": null,
       "validationRegex": null
      }
     }
    },
    "input_table_ventas_incremento": {
     "currentValue": "ventas_incremento_raw",
     "nuid": "c605edc4-9b1b-4d7a-8140-109afb66d908",
     "typedWidgetInfo": {
      "autoCreated": false,
      "defaultValue": "",
      "label": null,
      "name": "input_table_ventas_incremento",
      "options": {
       "widgetDisplayType": "Text",
       "validationRegex": null
      },
      "parameterDataType": "String"
     },
     "widgetInfo": {
      "widgetType": "text",
      "defaultValue": "",
      "label": null,
      "name": "input_table_ventas_incremento",
      "options": {
       "widgetType": "text",
       "autoCreated": null,
       "validationRegex": null
      }
     }
    },
    "output_table_ventas": {
     "currentValue": "ventas",
     "nuid": "c46bcc22-6432-444d-90b4-747b6aff0c3d",
     "typedWidgetInfo": {
      "autoCreated": false,
      "defaultValue": "",
      "label": null,
      "name": "output_table_ventas",
      "options": {
       "widgetDisplayType": "Text",
       "validationRegex": null
      },
      "parameterDataType": "String"
     },
     "widgetInfo": {
      "widgetType": "text",
      "defaultValue": "",
      "label": null,
      "name": "output_table_ventas",
      "options": {
       "widgetType": "text",
       "autoCreated": null,
       "validationRegex": null
      }
     }
    },
    "silver_schema": {
     "currentValue": "silver",
     "nuid": "ac737d89-a30d-4942-bd12-9da57082ab5a",
     "typedWidgetInfo": {
      "autoCreated": false,
      "defaultValue": "",
      "label": null,
      "name": "silver_schema",
      "options": {
       "widgetDisplayType": "Text",
       "validationRegex": null
      },
      "parameterDataType": "String"
     },
     "widgetInfo": {
      "widgetType": "text",
      "defaultValue": "",
      "label": null,
      "name": "silver_schema",
      "options": {
       "widgetType": "text",
       "autoCreated": null,
       "validationRegex": null
      }
     }
    }
   }
  },
  "language_info": {
   "name": "python"
  }
 },
 "nbformat": 4,
 "nbformat_minor": 0
}
