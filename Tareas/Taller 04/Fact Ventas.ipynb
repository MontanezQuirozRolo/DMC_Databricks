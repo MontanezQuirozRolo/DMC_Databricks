{
 "cells": [
  {
   "cell_type": "code",
   "execution_count": 0,
   "metadata": {
    "application/vnd.databricks.v1+cell": {
     "cellMetadata": {
      "byteLimit": 2048000,
      "rowLimit": 10000
     },
     "inputWidgets": {},
     "nuid": "aa942812-262a-4da4-ad57-ae3c8a6bdb44",
     "showTitle": false,
     "tableResultSettingsMap": {},
     "title": ""
    }
   },
   "outputs": [],
   "source": [
    "from pyspark.sql.window import Window\n",
    "from pyspark.sql import functions as F\n",
    "from pyspark.sql.functions import col, trim, initcap, when, lit, year, month, dayofmonth, concat, concat_ws\n",
    "import time"
   ]
  },
  {
   "cell_type": "code",
   "execution_count": 0,
   "metadata": {
    "application/vnd.databricks.v1+cell": {
     "cellMetadata": {
      "byteLimit": 2048000,
      "rowLimit": 10000
     },
     "inputWidgets": {},
     "nuid": "26a0e6ed-ebe9-46db-968b-346a01cb4c59",
     "showTitle": false,
     "tableResultSettingsMap": {},
     "title": ""
    }
   },
   "outputs": [],
   "source": [
    "catalog_name = \"retail_dev\"\n",
    "schema_bronze = \"bronze\"\n",
    "schema_silver = \"silver\"\n",
    "schema_gold = \"gold\"\n",
    "schema_auditoria =\"auditoria\""
   ]
  },
  {
   "cell_type": "code",
   "execution_count": 0,
   "metadata": {
    "application/vnd.databricks.v1+cell": {
     "cellMetadata": {
      "byteLimit": 2048000,
      "rowLimit": 10000
     },
     "inputWidgets": {},
     "nuid": "768c7217-f20b-4ac4-9835-ce307a393ba0",
     "showTitle": false,
     "tableResultSettingsMap": {},
     "title": ""
    }
   },
   "outputs": [],
   "source": [
    "dim_tiempo = spark.table(f\"{catalog_name}.{schema_gold}.dim_tiempo\")\n",
    "silver_ventas = spark.table(f\"{catalog_name}.{schema_silver}.ventas\")\n",
    "silver_devolucion = spark.table(f\"{catalog_name}.{schema_silver}.devoluciones\")\n",
    "\n",
    "gold_fact_ventas = (\n",
    "    silver_ventas.alias(\"v\")\n",
    "    .join(silver_devolucion.alias(\"d\"), \"id_venta\", \"left\")\n",
    "    .join(dim_tiempo.alias(\"t\"), F.to_date(\"v.fecha_venta\") == F.col(\"t.fecha\"), \"left\")\n",
    "    .withColumn(\"total_venta\", F.col(\"v.cantidad\") * F.col(\"v.monto\"))\n",
    "    .withColumn(\n",
    "        \"estado\",\n",
    "        F.when(F.col(\"d.fecha_devolucion\").isNotNull(), \"devuelto\")\n",
    "         .otherwise(\"vendido\")\n",
    "    )\n",
    "    .withColumn(\"creation_date\", F.current_timestamp())\n",
    "    #.dropDuplicates([\"id_producto\"])\n",
    "    .select(\n",
    "        \"v.id_venta\", \"v.id_cliente\", \"v.id_tienda\", \"v.id_producto\",\"t.id_tiempo\", \"v.fecha_venta\",\n",
    "        \"v.cantidad\", \"v.monto\", \"total_venta\",\"estado\",\"d.fecha_devolucion\",\"creation_date\"\n",
    "    )\n",
    "    .dropna(subset=[\"id_venta\", \"id_producto\"])\n",
    "    .dropDuplicates([\"id_venta\", \"id_producto\"])\n",
    ")\n",
    "\n"
   ]
  },
  {
   "cell_type": "code",
   "execution_count": 0,
   "metadata": {
    "application/vnd.databricks.v1+cell": {
     "cellMetadata": {
      "byteLimit": 2048000,
      "rowLimit": 10000
     },
     "inputWidgets": {},
     "nuid": "53be5269-7454-4a93-ad89-fa16764fc9d2",
     "showTitle": false,
     "tableResultSettingsMap": {
      "0": {
       "dataGridStateBlob": "{\"version\":1,\"tableState\":{\"columnPinning\":{\"left\":[\"#row_number#\"],\"right\":[]},\"columnSizing\":{},\"columnVisibility\":{}},\"settings\":{\"columns\":{}},\"syncTimestamp\":1758066939629}",
       "filterBlob": null,
       "queryPlanFiltersBlob": null,
       "tableResultIndex": 0
      }
     },
     "title": ""
    }
   },
   "outputs": [],
   "source": [
    "display(gold_fact_ventas)"
   ]
  },
  {
   "cell_type": "code",
   "execution_count": 0,
   "metadata": {
    "application/vnd.databricks.v1+cell": {
     "cellMetadata": {
      "byteLimit": 2048000,
      "rowLimit": 10000
     },
     "inputWidgets": {},
     "nuid": "1cffdd41-09ed-4fac-8264-5876e71fb00c",
     "showTitle": false,
     "tableResultSettingsMap": {},
     "title": ""
    }
   },
   "outputs": [],
   "source": [
    "spark.sql(f\"\"\"\n",
    "CREATE TABLE IF NOT EXISTS {catalog_name}.{schema_gold}.fact_ventas (\n",
    "  id_venta BIGINT,\n",
    "  id_cliente BIGINT,\n",
    "  id_tienda BIGINT,  \n",
    "  id_producto BIGINT,  \n",
    "  id_tiempo BIGINT,\n",
    "  fecha_venta TIMESTAMP,\n",
    "  cantidad INT,\n",
    "  monto DECIMAL(18,2),\n",
    "  total_venta DECIMAL(29,2),\n",
    "  estado STRING,\n",
    "  fecha_devolucion TIMESTAMP,\n",
    "  creation_date TIMESTAMP\n",
    ") USING DELTA\n",
    "\"\"\")"
   ]
  },
  {
   "cell_type": "code",
   "execution_count": 0,
   "metadata": {
    "application/vnd.databricks.v1+cell": {
     "cellMetadata": {
      "byteLimit": 2048000,
      "rowLimit": 10000
     },
     "inputWidgets": {},
     "nuid": "c21e64b9-7324-4b64-93ad-db9209337dfb",
     "showTitle": false,
     "tableResultSettingsMap": {},
     "title": ""
    }
   },
   "outputs": [],
   "source": [
    "gold_fact_ventas.createOrReplaceTempView(\"gold_fact_ventas\")\n",
    "merge_start = time.time()\n",
    "spark.sql(f\"\"\"\n",
    "MERGE INTO {catalog_name}.{schema_gold}.fact_ventas tgt\n",
    "USING gold_fact_ventas src\n",
    "ON tgt.id_venta = src.id_venta and tgt.id_producto = src.id_producto\n",
    "WHEN MATCHED AND src.creation_date > tgt.creation_date THEN UPDATE SET *\n",
    "WHEN NOT MATCHED THEN INSERT *\n",
    "\"\"\")\n",
    "merge_end = time.time()"
   ]
  },
  {
   "cell_type": "code",
   "execution_count": 0,
   "metadata": {
    "application/vnd.databricks.v1+cell": {
     "cellMetadata": {
      "byteLimit": 2048000,
      "rowLimit": 10000
     },
     "inputWidgets": {},
     "nuid": "e28d87e2-0654-43f7-9870-dd1e56d57ae6",
     "showTitle": false,
     "tableResultSettingsMap": {},
     "title": ""
    }
   },
   "outputs": [],
   "source": [
    "spark.table(f\"{catalog_name}.{schema_gold}.fact_ventas\").show(10)"
   ]
  },
  {
   "cell_type": "code",
   "execution_count": 0,
   "metadata": {
    "application/vnd.databricks.v1+cell": {
     "cellMetadata": {
      "byteLimit": 2048000,
      "rowLimit": 10000
     },
     "inputWidgets": {},
     "nuid": "8ea263f8-7570-455d-bbac-cd3922ede4d2",
     "showTitle": false,
     "tableResultSettingsMap": {},
     "title": ""
    }
   },
   "outputs": [],
   "source": [
    "import time\n",
    "job_id = int(time.time())           # ID único basado en timestamp\n",
    "job_run_id = int(time.time() * 100) # más granular\n",
    "task_run_id = 1                     # o secuencial si prefieres\n"
   ]
  },
  {
   "cell_type": "code",
   "execution_count": 0,
   "metadata": {
    "application/vnd.databricks.v1+cell": {
     "cellMetadata": {
      "byteLimit": 2048000,
      "rowLimit": 10000
     },
     "inputWidgets": {},
     "nuid": "5c177592-2029-44f9-b169-0aa4792909d8",
     "showTitle": false,
     "tableResultSettingsMap": {},
     "title": ""
    }
   },
   "outputs": [],
   "source": [
    "rows_in = gold_fact_ventas.count()\n",
    "start = time.time()\n",
    "spark.sql(f\"\"\"\n",
    "INSERT INTO {catalog_name}.{schema_auditoria}.ingestion_log VALUES (\n",
    "  {job_id},{job_run_id},{task_run_id},\n",
    "  current_timestamp(), current_timestamp(),\n",
    "  {int(time.time()-start)},\n",
    "  'SUCCESS','fact_ventas','gold',\n",
    "  {rows_in},{rows_in},0,0,0,{int(merge_end-merge_start)},current_timestamp()\n",
    ")\n",
    "\"\"\")"
   ]
  },
  {
   "cell_type": "code",
   "execution_count": 0,
   "metadata": {
    "application/vnd.databricks.v1+cell": {
     "cellMetadata": {
      "byteLimit": 2048000,
      "rowLimit": 10000
     },
     "inputWidgets": {},
     "nuid": "06c60df3-d90e-4d08-8471-8caadca1fd71",
     "showTitle": false,
     "tableResultSettingsMap": {},
     "title": ""
    }
   },
   "outputs": [],
   "source": [
    "display(spark.table(f\"{catalog_name}.{schema_auditoria}.ingestion_log\"))\n"
   ]
  },
  {
   "cell_type": "code",
   "execution_count": 0,
   "metadata": {
    "application/vnd.databricks.v1+cell": {
     "cellMetadata": {
      "byteLimit": 2048000,
      "rowLimit": 10000
     },
     "inputWidgets": {},
     "nuid": "e76e7bde-4486-4192-8bda-42054d2a49dd",
     "showTitle": false,
     "tableResultSettingsMap": {},
     "title": ""
    }
   },
   "outputs": [],
   "source": [
    "\n",
    "sql_command = f\"\"\"\n",
    "  OPTIMIZE {catalog_name}.{schema_gold}.fact_ventas\n",
    "  ZORDER BY (id_venta, id_producto)\n",
    "\"\"\""
   ]
  },
  {
   "cell_type": "code",
   "execution_count": 0,
   "metadata": {
    "application/vnd.databricks.v1+cell": {
     "cellMetadata": {
      "byteLimit": 2048000,
      "rowLimit": 10000
     },
     "inputWidgets": {},
     "nuid": "b1e329fe-54f2-4ee7-aed7-eb9984ba0a80",
     "showTitle": false,
     "tableResultSettingsMap": {},
     "title": ""
    }
   },
   "outputs": [],
   "source": [
    "spark.sql(sql_command)"
   ]
  },
  {
   "cell_type": "code",
   "execution_count": 0,
   "metadata": {
    "application/vnd.databricks.v1+cell": {
     "cellMetadata": {
      "byteLimit": 2048000,
      "rowLimit": 10000
     },
     "inputWidgets": {},
     "nuid": "026ce4b3-8a14-4c67-8df0-a62e938d157b",
     "showTitle": false,
     "tableResultSettingsMap": {},
     "title": ""
    }
   },
   "outputs": [],
   "source": [
    "spark.sql(f\"VACUUM {catalog_name}.{schema_gold}.dim_tiendas\")"
   ]
  }
 ],
 "metadata": {
  "application/vnd.databricks.v1+notebook": {
   "computePreferences": null,
   "dashboards": [],
   "environmentMetadata": {
    "base_environment": "",
    "environment_version": "3"
   },
   "inputWidgetPreferences": null,
   "language": "python",
   "notebookMetadata": {
    "pythonIndentUnit": 4
   },
   "notebookName": "Fact Ventas",
   "widgets": {}
  },
  "language_info": {
   "name": "python"
  }
 },
 "nbformat": 4,
 "nbformat_minor": 0
}
