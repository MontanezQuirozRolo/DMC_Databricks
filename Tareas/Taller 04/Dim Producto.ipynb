{
 "cells": [
  {
   "cell_type": "code",
   "execution_count": 0,
   "metadata": {
    "application/vnd.databricks.v1+cell": {
     "cellMetadata": {
      "byteLimit": 2048000,
      "rowLimit": 10000
     },
     "inputWidgets": {},
     "nuid": "51323e96-1444-4d39-bbf1-e306fcd93c59",
     "showTitle": false,
     "tableResultSettingsMap": {},
     "title": ""
    }
   },
   "outputs": [],
   "source": [
    "catalog_name = dbutils.widgets.text(\"catalog_name\", \"\")\n",
    "catalog_name = dbutils.widgets.get(\"catalog_name\")\n",
    "bronze_schema = dbutils.widgets.text(\"bronze_schema\", \"\")\n",
    "bronze_schema = dbutils.widgets.get(\"bronze_schema\")\n",
    "silver_schema = dbutils.widgets.text(\"silver_schema\", \"\")\n",
    "silver_schema = dbutils.widgets.get(\"silver_schema\")\n",
    "gold_schema = dbutils.widgets.text(\"gold_schema\", \"\")\n",
    "gold_schema = dbutils.widgets.get(\"gold_schema\")\n",
    "input_table_producto = dbutils.widgets.text(\"input_table_producto\", \"\")\n",
    "input_table_producto = dbutils.widgets.get(\"input_table_producto\")\n",
    "output_table_producto = dbutils.widgets.text(\"output_table_producto\", \"\")\n",
    "output_table_producto = dbutils.widgets.get(\"output_table_producto\")"
   ]
  },
  {
   "cell_type": "code",
   "execution_count": 0,
   "metadata": {
    "application/vnd.databricks.v1+cell": {
     "cellMetadata": {
      "byteLimit": 2048000,
      "rowLimit": 10000
     },
     "inputWidgets": {},
     "nuid": "55e93e73-59dc-4f21-821e-7bfca9741570",
     "showTitle": false,
     "tableResultSettingsMap": {},
     "title": ""
    }
   },
   "outputs": [],
   "source": [
    "from pyspark.sql.window import Window\n",
    "from pyspark.sql import functions as F\n",
    "from pyspark.sql.functions import col, trim, initcap, when, lit, year, month, dayofmonth, concat, concat_ws\n",
    "from delta.tables import DeltaTable\n",
    "from pyspark.sql.utils import AnalysisException\n",
    "import time"
   ]
  },
  {
   "cell_type": "code",
   "execution_count": 0,
   "metadata": {
    "application/vnd.databricks.v1+cell": {
     "cellMetadata": {
      "byteLimit": 2048000,
      "rowLimit": 10000
     },
     "inputWidgets": {},
     "nuid": "daac2176-b2c3-4848-84af-29475abe33a6",
     "showTitle": false,
     "tableResultSettingsMap": {},
     "title": ""
    }
   },
   "outputs": [],
   "source": [
    "schema_auditoria =\"auditoria\""
   ]
  },
  {
   "cell_type": "code",
   "execution_count": 0,
   "metadata": {
    "application/vnd.databricks.v1+cell": {
     "cellMetadata": {
      "byteLimit": 2048000,
      "rowLimit": 10000
     },
     "inputWidgets": {},
     "nuid": "5f3328f1-4567-4be9-a2f5-50c1310ffcae",
     "showTitle": false,
     "tableResultSettingsMap": {},
     "title": ""
    }
   },
   "outputs": [],
   "source": [
    "gold_dim_producto = (\n",
    "    spark.table(f\"{catalog_name}.{silver_schema}.{input_table_producto}\")\n",
    "    .select(\"id_producto\", \"nombre\", \"categoria\", \"precio\")\n",
    "    .withColumn(\"creation_date\", F.current_timestamp())\n",
    "    .dropDuplicates([\"id_producto\"])\n",
    ")\n",
    "\n"
   ]
  },
  {
   "cell_type": "code",
   "execution_count": 0,
   "metadata": {
    "application/vnd.databricks.v1+cell": {
     "cellMetadata": {
      "byteLimit": 2048000,
      "rowLimit": 10000
     },
     "inputWidgets": {},
     "nuid": "05a21948-9a40-4459-91f1-9e75e7e8f817",
     "showTitle": false,
     "tableResultSettingsMap": {},
     "title": ""
    }
   },
   "outputs": [],
   "source": [
    "display(gold_dim_producto)"
   ]
  },
  {
   "cell_type": "code",
   "execution_count": 0,
   "metadata": {
    "application/vnd.databricks.v1+cell": {
     "cellMetadata": {
      "byteLimit": 2048000,
      "rowLimit": 10000
     },
     "inputWidgets": {},
     "nuid": "2533618c-054e-46c1-8e87-9711f6a85e21",
     "showTitle": false,
     "tableResultSettingsMap": {},
     "title": ""
    }
   },
   "outputs": [],
   "source": [
    "spark.sql(f\"\"\"\n",
    "CREATE TABLE IF NOT EXISTS {catalog_name}.{gold_schema}.{output_table_producto} (\n",
    "  id_producto BIGINT,\n",
    "  nombre STRING,\n",
    "  categoria STRING,\n",
    "  precio DECIMAL(18,2),\n",
    "  creation_date TIMESTAMP\n",
    ") USING DELTA\n",
    "\"\"\")"
   ]
  },
  {
   "cell_type": "code",
   "execution_count": 0,
   "metadata": {
    "application/vnd.databricks.v1+cell": {
     "cellMetadata": {
      "byteLimit": 2048000,
      "rowLimit": 10000
     },
     "inputWidgets": {},
     "nuid": "34f9cbcc-493d-4698-a239-fd1ea5037b97",
     "showTitle": false,
     "tableResultSettingsMap": {},
     "title": ""
    }
   },
   "outputs": [],
   "source": [
    "\n",
    "delta_target = DeltaTable.forName(spark, f\"{catalog_name}.{gold_schema}.{output_table_producto}\")\n",
    "\n",
    "merge_start = time.time()\n",
    "delta_target.alias(\"tgt\") \\\n",
    "  .merge(\n",
    "    source=gold_dim_producto.alias(\"src\"),\n",
    "    condition=\"tgt.id_producto = src.id_producto\"\n",
    "  ) \\\n",
    "  .whenMatchedUpdateAll(\n",
    "    condition=\"src.creation_date > tgt.creation_date\"\n",
    "  ) \\\n",
    "  .whenNotMatchedInsertAll() \\\n",
    "  .execute()\n",
    "merge_end = time.time()"
   ]
  },
  {
   "cell_type": "code",
   "execution_count": 0,
   "metadata": {
    "application/vnd.databricks.v1+cell": {
     "cellMetadata": {
      "byteLimit": 2048000,
      "rowLimit": 10000
     },
     "inputWidgets": {},
     "nuid": "f27cdaad-b6fb-4338-a351-c809e552dff1",
     "showTitle": false,
     "tableResultSettingsMap": {},
     "title": ""
    }
   },
   "outputs": [],
   "source": [
    "spark.table(f\"{catalog_name}.{gold_schema}.{output_table_producto}\").show(10)"
   ]
  },
  {
   "cell_type": "code",
   "execution_count": 0,
   "metadata": {
    "application/vnd.databricks.v1+cell": {
     "cellMetadata": {
      "byteLimit": 2048000,
      "rowLimit": 10000
     },
     "inputWidgets": {},
     "nuid": "55c2b10d-0b47-4def-8f3c-e932eb21cb35",
     "showTitle": false,
     "tableResultSettingsMap": {},
     "title": ""
    }
   },
   "outputs": [],
   "source": [
    "import time\n",
    "job_id = int(time.time())           # ID único basado en timestamp\n",
    "job_run_id = int(time.time() * 100) # más granular\n",
    "task_run_id = 1                     # o secuencial si prefieres\n"
   ]
  },
  {
   "cell_type": "code",
   "execution_count": 0,
   "metadata": {
    "application/vnd.databricks.v1+cell": {
     "cellMetadata": {
      "byteLimit": 2048000,
      "rowLimit": 10000
     },
     "inputWidgets": {},
     "nuid": "967160ba-9fba-4151-9fb2-7a065479bc2f",
     "showTitle": false,
     "tableResultSettingsMap": {},
     "title": ""
    }
   },
   "outputs": [],
   "source": [
    "rows_in = gold_dim_producto.count()\n",
    "start = time.time()\n",
    "spark.sql(f\"\"\"\n",
    "INSERT INTO {catalog_name}.{schema_auditoria}.ingestion_log VALUES (\n",
    "  {job_id},{job_run_id},{task_run_id},\n",
    "  current_timestamp(), current_timestamp(),\n",
    "  {int(time.time()-start)},\n",
    "  'SUCCESS','dim_producto','gold',\n",
    "  {rows_in},{rows_in},0,0,0,{int(merge_end-merge_start)},current_timestamp()\n",
    ")\n",
    "\"\"\")"
   ]
  },
  {
   "cell_type": "code",
   "execution_count": 0,
   "metadata": {
    "application/vnd.databricks.v1+cell": {
     "cellMetadata": {
      "byteLimit": 2048000,
      "rowLimit": 10000
     },
     "inputWidgets": {},
     "nuid": "9827b2af-02fc-42c0-a1d2-bc73f20bf2bb",
     "showTitle": false,
     "tableResultSettingsMap": {},
     "title": ""
    }
   },
   "outputs": [],
   "source": [
    "display(spark.table(f\"{catalog_name}.{schema_auditoria}.ingestion_log\"))\n"
   ]
  },
  {
   "cell_type": "code",
   "execution_count": 0,
   "metadata": {
    "application/vnd.databricks.v1+cell": {
     "cellMetadata": {
      "byteLimit": 2048000,
      "rowLimit": 10000
     },
     "inputWidgets": {},
     "nuid": "3012e97b-2cd8-451b-942f-fcbb543744fd",
     "showTitle": false,
     "tableResultSettingsMap": {},
     "title": ""
    }
   },
   "outputs": [],
   "source": [
    "\n",
    "sql_command = f\"\"\"\n",
    "  OPTIMIZE {catalog_name}.{gold_schema}.dim_productos\n",
    "  ZORDER BY (id_producto)\n",
    "\"\"\""
   ]
  },
  {
   "cell_type": "code",
   "execution_count": 0,
   "metadata": {
    "application/vnd.databricks.v1+cell": {
     "cellMetadata": {
      "byteLimit": 2048000,
      "rowLimit": 10000
     },
     "inputWidgets": {},
     "nuid": "a29732d6-e13e-42b5-92ac-bf8923b7b9ed",
     "showTitle": false,
     "tableResultSettingsMap": {},
     "title": ""
    }
   },
   "outputs": [],
   "source": [
    "spark.sql(sql_command)\n"
   ]
  },
  {
   "cell_type": "code",
   "execution_count": 0,
   "metadata": {
    "application/vnd.databricks.v1+cell": {
     "cellMetadata": {
      "byteLimit": 2048000,
      "rowLimit": 10000
     },
     "inputWidgets": {},
     "nuid": "54eb0914-8fce-4763-9e17-66ac0fc88082",
     "showTitle": false,
     "tableResultSettingsMap": {},
     "title": ""
    }
   },
   "outputs": [],
   "source": [
    "spark.sql(f\"VACUUM {catalog_name}.{gold_schema}.dim_productos\")"
   ]
  }
 ],
 "metadata": {
  "application/vnd.databricks.v1+notebook": {
   "computePreferences": null,
   "dashboards": [],
   "environmentMetadata": {
    "base_environment": "",
    "environment_version": "3"
   },
   "inputWidgetPreferences": null,
   "language": "python",
   "notebookMetadata": {
    "pythonIndentUnit": 4
   },
   "notebookName": "Dim Producto",
   "widgets": {
    "bronze_schema": {
     "currentValue": "bronze",
     "nuid": "20cf8d4e-5ecb-45ec-a32e-d5a9678bc7ab",
     "typedWidgetInfo": {
      "autoCreated": false,
      "defaultValue": "",
      "label": null,
      "name": "bronze_schema",
      "options": {
       "widgetDisplayType": "Text",
       "validationRegex": null
      },
      "parameterDataType": "String"
     },
     "widgetInfo": {
      "widgetType": "text",
      "defaultValue": "",
      "label": null,
      "name": "bronze_schema",
      "options": {
       "widgetType": "text",
       "autoCreated": null,
       "validationRegex": null
      }
     }
    },
    "catalog_name": {
     "currentValue": "retail_dev",
     "nuid": "58a93a30-55e7-4609-8a62-5411f6a0a7f2",
     "typedWidgetInfo": {
      "autoCreated": false,
      "defaultValue": "",
      "label": null,
      "name": "catalog_name",
      "options": {
       "widgetDisplayType": "Text",
       "validationRegex": null
      },
      "parameterDataType": "String"
     },
     "widgetInfo": {
      "widgetType": "text",
      "defaultValue": "",
      "label": null,
      "name": "catalog_name",
      "options": {
       "widgetType": "text",
       "autoCreated": null,
       "validationRegex": null
      }
     }
    },
    "gold_schema": {
     "currentValue": "gold",
     "nuid": "6c2924ae-7760-4125-b313-4e079cb06c9d",
     "typedWidgetInfo": {
      "autoCreated": false,
      "defaultValue": "",
      "label": null,
      "name": "gold_schema",
      "options": {
       "widgetDisplayType": "Text",
       "validationRegex": null
      },
      "parameterDataType": "String"
     },
     "widgetInfo": {
      "widgetType": "text",
      "defaultValue": "",
      "label": null,
      "name": "gold_schema",
      "options": {
       "widgetType": "text",
       "autoCreated": null,
       "validationRegex": null
      }
     }
    },
    "input_table_producto": {
     "currentValue": "productos",
     "nuid": "0ca744fa-8b60-46ab-82da-7f2e7e71f476",
     "typedWidgetInfo": {
      "autoCreated": false,
      "defaultValue": "",
      "label": null,
      "name": "input_table_producto",
      "options": {
       "widgetDisplayType": "Text",
       "validationRegex": null
      },
      "parameterDataType": "String"
     },
     "widgetInfo": {
      "widgetType": "text",
      "defaultValue": "",
      "label": null,
      "name": "input_table_producto",
      "options": {
       "widgetType": "text",
       "autoCreated": null,
       "validationRegex": null
      }
     }
    },
    "output_table_producto": {
     "currentValue": "dim_productos",
     "nuid": "3f0af3f2-4413-4488-be3e-3567c94f7475",
     "typedWidgetInfo": {
      "autoCreated": false,
      "defaultValue": "",
      "label": null,
      "name": "output_table_producto",
      "options": {
       "widgetDisplayType": "Text",
       "validationRegex": null
      },
      "parameterDataType": "String"
     },
     "widgetInfo": {
      "widgetType": "text",
      "defaultValue": "",
      "label": null,
      "name": "output_table_producto",
      "options": {
       "widgetType": "text",
       "autoCreated": null,
       "validationRegex": null
      }
     }
    },
    "silver_schema": {
     "currentValue": "silver",
     "nuid": "c6ae1330-0c38-42e5-b492-96ccb5c27e3b",
     "typedWidgetInfo": {
      "autoCreated": false,
      "defaultValue": "",
      "label": null,
      "name": "silver_schema",
      "options": {
       "widgetDisplayType": "Text",
       "validationRegex": null
      },
      "parameterDataType": "String"
     },
     "widgetInfo": {
      "widgetType": "text",
      "defaultValue": "",
      "label": null,
      "name": "silver_schema",
      "options": {
       "widgetType": "text",
       "autoCreated": null,
       "validationRegex": null
      }
     }
    }
   }
  },
  "language_info": {
   "name": "python"
  }
 },
 "nbformat": 4,
 "nbformat_minor": 0
}
