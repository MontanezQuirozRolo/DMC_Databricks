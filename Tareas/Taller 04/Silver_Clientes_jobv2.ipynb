{
 "cells": [
  {
   "cell_type": "code",
   "execution_count": 0,
   "metadata": {
    "application/vnd.databricks.v1+cell": {
     "cellMetadata": {
      "byteLimit": 2048000,
      "rowLimit": 10000
     },
     "inputWidgets": {},
     "nuid": "961b9c0e-cbb1-4014-b5b4-604b0f72af2c",
     "showTitle": false,
     "tableResultSettingsMap": {},
     "title": ""
    }
   },
   "outputs": [],
   "source": [
    "catalog_name = dbutils.widgets.text(\"catalog_name\", \"\")\n",
    "catalog_name = dbutils.widgets.get(\"catalog_name\")\n",
    "bronze_schema = dbutils.widgets.text(\"bronze_schema\", \"\")\n",
    "bronze_schema = dbutils.widgets.get(\"bronze_schema\")\n",
    "silver_schema = dbutils.widgets.text(\"silver_schema\", \"\")\n",
    "silver_schema = dbutils.widgets.get(\"silver_schema\")\n",
    "input_table_name = dbutils.widgets.text(\"input_table_name\", \"\")\n",
    "input_table_name = dbutils.widgets.get(\"input_table_name\")\n",
    "output_table_name = dbutils.widgets.text(\"output_table_name\", \"\")\n",
    "output_table_name = dbutils.widgets.get(\"output_table_name\")"
   ]
  },
  {
   "cell_type": "code",
   "execution_count": 0,
   "metadata": {
    "application/vnd.databricks.v1+cell": {
     "cellMetadata": {
      "byteLimit": 2048000,
      "rowLimit": 10000
     },
     "inputWidgets": {},
     "nuid": "4bb8c3cd-eb69-4034-bde1-7b413af25794",
     "showTitle": false,
     "tableResultSettingsMap": {},
     "title": ""
    }
   },
   "outputs": [],
   "source": [
    "from pyspark.sql.window import Window\n",
    "from pyspark.sql import functions as F\n",
    "from pyspark.sql.functions import col, trim, initcap, when, lit, year, month, dayofmonth, concat, concat_ws\n",
    "from delta.tables import DeltaTable\n",
    "from pyspark.sql.utils import AnalysisException\n",
    "import time"
   ]
  },
  {
   "cell_type": "code",
   "execution_count": 0,
   "metadata": {
    "application/vnd.databricks.v1+cell": {
     "cellMetadata": {
      "byteLimit": 2048000,
      "rowLimit": 10000
     },
     "inputWidgets": {},
     "nuid": "908a9491-7556-41ee-a7e1-925d37badb58",
     "showTitle": false,
     "tableResultSettingsMap": {},
     "title": ""
    }
   },
   "outputs": [],
   "source": [
    "schema_auditoria =\"auditoria\""
   ]
  },
  {
   "cell_type": "code",
   "execution_count": 0,
   "metadata": {
    "application/vnd.databricks.v1+cell": {
     "cellMetadata": {
      "byteLimit": 2048000,
      "rowLimit": 10000
     },
     "inputWidgets": {},
     "nuid": "90bd1776-cd05-4f4d-b975-bd32550deb2b",
     "showTitle": false,
     "tableResultSettingsMap": {},
     "title": ""
    }
   },
   "outputs": [],
   "source": [
    "sql_catalog = f\"\"\"\n",
    "    CREATE CATALOG IF NOT EXISTS {catalog_name}\n",
    "\"\"\"\n",
    "\n",
    "spark.sql(sql_catalog)"
   ]
  },
  {
   "cell_type": "code",
   "execution_count": 0,
   "metadata": {
    "application/vnd.databricks.v1+cell": {
     "cellMetadata": {
      "byteLimit": 2048000,
      "rowLimit": 10000
     },
     "inputWidgets": {},
     "nuid": "7dfb450a-4d90-4bb6-829f-772064131316",
     "showTitle": false,
     "tableResultSettingsMap": {},
     "title": ""
    }
   },
   "outputs": [],
   "source": [
    "sql_silver = f\"\"\"\n",
    "    CREATE SCHEMA IF NOT EXISTS {catalog_name}.{silver_schema}\n",
    "\"\"\"\n",
    "\n",
    "spark.sql(sql_silver)"
   ]
  },
  {
   "cell_type": "code",
   "execution_count": 0,
   "metadata": {
    "application/vnd.databricks.v1+cell": {
     "cellMetadata": {
      "byteLimit": 2048000,
      "rowLimit": 10000
     },
     "inputWidgets": {},
     "nuid": "9de6d1f7-7cae-4a40-8d29-0d17affe132d",
     "showTitle": false,
     "tableResultSettingsMap": {},
     "title": ""
    }
   },
   "outputs": [],
   "source": [
    "sql_auditoria = f\"\"\"\n",
    "    CREATE DATABASE IF NOT EXISTS {catalog_name}.{schema_auditoria}\n",
    "\"\"\"\n",
    "\n",
    "spark.sql(sql_auditoria)"
   ]
  },
  {
   "cell_type": "code",
   "execution_count": 0,
   "metadata": {
    "application/vnd.databricks.v1+cell": {
     "cellMetadata": {
      "byteLimit": 2048000,
      "rowLimit": 10000
     },
     "inputWidgets": {},
     "nuid": "33403cc9-92c6-45d4-92aa-b5ae9c88fe33",
     "showTitle": false,
     "tableResultSettingsMap": {},
     "title": ""
    }
   },
   "outputs": [],
   "source": [
    "# Crear tabla de auditoría si no existe\n",
    "spark.sql(f\"\"\"\n",
    "  CREATE TABLE IF NOT EXISTS {catalog_name}.{schema_auditoria}.ingestion_log (\n",
    "    job_id BIGINT,\n",
    "    job_run_id BIGINT,\n",
    "    task_run_id BIGINT,\n",
    "    job_start_time TIMESTAMP,\n",
    "    job_end_time TIMESTAMP,\n",
    "    job_duration_seconds BIGINT,\n",
    "    job_status STRING,\n",
    "    table STRING,\n",
    "    layer STRING,\n",
    "    rows_in BIGINT,\n",
    "    rows_inserted BIGINT,\n",
    "    rows_updated BIGINT,\n",
    "    rows_deleted BIGINT,\n",
    "    file_bytes BIGINT,\n",
    "    merge_duration_seconds BIGINT,\n",
    "    creation_date TIMESTAMP\n",
    ") USING DELTA\n",
    "\"\"\")"
   ]
  },
  {
   "cell_type": "code",
   "execution_count": 0,
   "metadata": {
    "application/vnd.databricks.v1+cell": {
     "cellMetadata": {
      "byteLimit": 2048000,
      "rowLimit": 10000
     },
     "inputWidgets": {},
     "nuid": "05e63489-0709-4c48-a78f-5d701926c4da",
     "showTitle": false,
     "tableResultSettingsMap": {},
     "title": ""
    }
   },
   "outputs": [],
   "source": [
    "silver_clientes = (\n",
    "  spark.table(f\"{catalog_name}.{bronze_schema}.{input_table_name}\")\n",
    "  .withColumn(\"id_cliente\",  F.col(\"id_cliente\").cast(\"bigint\"))\n",
    "  .withColumn(\"nombre\", initcap(trim(col(\"nombre\"))))\n",
    "  .withColumn(\n",
    "    \"email\",\n",
    "    F.when(\n",
    "        F.col(\"email\").contains(\"@\"),\n",
    "        initcap(trim(F.col(\"email\")))\n",
    "    ).otherwise(F.lit(None))\n",
    ")\n",
    "  .withColumn(\"ciudad\", initcap(F.trim(F.col(\"ciudad\"))))\n",
    "  .withColumn(\n",
    "        \"fecha_registro\",\n",
    "        F.when(F.col(\"fecha_registro\").rlike(\"^\\d{4}-\\d{2}-\\d{2}$\"),\n",
    "               F.to_date(\"fecha_registro\", \"yyyy-MM-dd\"))\n",
    "         .when(F.col(\"fecha_registro\").rlike(\"^\\d{2}/\\d{2}/\\d{4}$\"),\n",
    "               F.to_date(\"fecha_registro\", \"dd/MM/yyyy\"))\n",
    "         .otherwise(F.lit(None))\n",
    "    )\n",
    "  .withColumn(\"updated_at\", F.current_timestamp())\n",
    "  .dropna(subset=[\"id_cliente\"])\n",
    "  .dropDuplicates([\"id_cliente\"])\n",
    ")"
   ]
  },
  {
   "cell_type": "code",
   "execution_count": 0,
   "metadata": {
    "application/vnd.databricks.v1+cell": {
     "cellMetadata": {
      "byteLimit": 2048000,
      "rowLimit": 10000
     },
     "inputWidgets": {},
     "nuid": "f4e04ee4-e7fc-4f56-931e-c0f565d44c59",
     "showTitle": false,
     "tableResultSettingsMap": {},
     "title": ""
    }
   },
   "outputs": [],
   "source": [
    "# Crear tabla destino\n",
    "spark.sql(f\"\"\"\n",
    "CREATE TABLE IF NOT EXISTS {catalog_name}.{silver_schema}.clientes (\n",
    "  id_cliente BIGINT,\n",
    "  nombre STRING,\n",
    "  email STRING,\n",
    "  ciudad STRING,\n",
    "  fecha_registro DATE,\n",
    "  updated_at TIMESTAMP\n",
    ") USING DELTA\n",
    "\"\"\")"
   ]
  },
  {
   "cell_type": "code",
   "execution_count": 0,
   "metadata": {
    "application/vnd.databricks.v1+cell": {
     "cellMetadata": {
      "byteLimit": 2048000,
      "rowLimit": 10000
     },
     "inputWidgets": {},
     "nuid": "30d27d3d-c1a1-464f-8c29-7329c2697bdd",
     "showTitle": false,
     "tableResultSettingsMap": {},
     "title": ""
    }
   },
   "outputs": [],
   "source": [
    "\n",
    "delta_target = DeltaTable.forName(spark, f\"{catalog_name}.{silver_schema}.{output_table_name}\")\n",
    "\n",
    "merge_start = time.time()\n",
    "delta_target.alias(\"tgt\") \\\n",
    "  .merge(\n",
    "    source=silver_clientes.alias(\"src\"),\n",
    "    condition=\"tgt.id_cliente = src.id_cliente\"\n",
    "  ) \\\n",
    "  .whenMatchedUpdateAll(\n",
    "    condition=\"src.updated_at > tgt.updated_at\"\n",
    "  ) \\\n",
    "  .whenNotMatchedInsertAll() \\\n",
    "  .execute()\n",
    "merge_end = time.time()"
   ]
  },
  {
   "cell_type": "code",
   "execution_count": 0,
   "metadata": {
    "application/vnd.databricks.v1+cell": {
     "cellMetadata": {
      "byteLimit": 2048000,
      "rowLimit": 10000
     },
     "inputWidgets": {},
     "nuid": "c261ad08-9442-4121-80c9-a87e975d5241",
     "showTitle": false,
     "tableResultSettingsMap": {},
     "title": ""
    }
   },
   "outputs": [],
   "source": [
    "spark.table(f\"{catalog_name}.{silver_schema}.{output_table_name}\").show(10)"
   ]
  },
  {
   "cell_type": "code",
   "execution_count": 0,
   "metadata": {
    "application/vnd.databricks.v1+cell": {
     "cellMetadata": {
      "byteLimit": 2048000,
      "rowLimit": 10000
     },
     "inputWidgets": {},
     "nuid": "44617d0e-bb97-41aa-9264-3a5f30b16850",
     "showTitle": false,
     "tableResultSettingsMap": {},
     "title": ""
    }
   },
   "outputs": [],
   "source": [
    "import time\n",
    "job_id = int(time.time())           # ID único basado en timestamp\n",
    "job_run_id = int(time.time() * 100) # más granular\n",
    "task_run_id = 1                     # o secuencial si prefieres\n"
   ]
  },
  {
   "cell_type": "code",
   "execution_count": 0,
   "metadata": {
    "application/vnd.databricks.v1+cell": {
     "cellMetadata": {
      "byteLimit": 2048000,
      "rowLimit": 10000
     },
     "inputWidgets": {},
     "nuid": "3bb296af-e768-48f7-827f-5a7517817e64",
     "showTitle": false,
     "tableResultSettingsMap": {},
     "title": ""
    }
   },
   "outputs": [],
   "source": [
    "start = time.time()\n",
    "rows_in = silver_clientes.count()\n",
    "spark.sql(f\"\"\"\n",
    "INSERT INTO {catalog_name}.{schema_auditoria}.ingestion_log VALUES (\n",
    "  {job_id},{job_run_id},{task_run_id},\n",
    "  current_timestamp(), current_timestamp(),\n",
    "  {int(time.time()-start)},\n",
    "  'SUCCESS','clientes','silver',\n",
    "  {rows_in},{rows_in},0,0,0,{int(merge_end-merge_start)},current_timestamp()\n",
    ")\n",
    "\"\"\")\n"
   ]
  },
  {
   "cell_type": "code",
   "execution_count": 0,
   "metadata": {
    "application/vnd.databricks.v1+cell": {
     "cellMetadata": {
      "byteLimit": 2048000,
      "rowLimit": 10000
     },
     "inputWidgets": {},
     "nuid": "020bf574-f1f1-4821-89ec-c7c868ca00db",
     "showTitle": false,
     "tableResultSettingsMap": {},
     "title": ""
    }
   },
   "outputs": [],
   "source": [
    "spark.table(f\"{catalog_name}.{schema_auditoria}.ingestion_log\").show(10)"
   ]
  }
 ],
 "metadata": {
  "application/vnd.databricks.v1+notebook": {
   "computePreferences": null,
   "dashboards": [],
   "environmentMetadata": {
    "base_environment": "",
    "environment_version": "3"
   },
   "inputWidgetPreferences": null,
   "language": "python",
   "notebookMetadata": {
    "pythonIndentUnit": 4
   },
   "notebookName": "Silver_Clientes_jobv2",
   "widgets": {
    "bronze_schema": {
     "currentValue": "bronze",
     "nuid": "29180adc-9a3f-4a41-b9cb-446ae18bc1a0",
     "typedWidgetInfo": {
      "autoCreated": false,
      "defaultValue": "",
      "label": null,
      "name": "bronze_schema",
      "options": {
       "widgetDisplayType": "Text",
       "validationRegex": null
      },
      "parameterDataType": "String"
     },
     "widgetInfo": {
      "widgetType": "text",
      "defaultValue": "",
      "label": null,
      "name": "bronze_schema",
      "options": {
       "widgetType": "text",
       "autoCreated": null,
       "validationRegex": null
      }
     }
    },
    "catalog_name": {
     "currentValue": "retail_dev",
     "nuid": "9ba83c89-26b4-495c-a11e-e600ca99e399",
     "typedWidgetInfo": {
      "autoCreated": false,
      "defaultValue": "",
      "label": null,
      "name": "catalog_name",
      "options": {
       "widgetDisplayType": "Text",
       "validationRegex": null
      },
      "parameterDataType": "String"
     },
     "widgetInfo": {
      "widgetType": "text",
      "defaultValue": "",
      "label": null,
      "name": "catalog_name",
      "options": {
       "widgetType": "text",
       "autoCreated": null,
       "validationRegex": null
      }
     }
    },
    "input_table_name": {
     "currentValue": "clientes_raw",
     "nuid": "70c63617-cfe7-433c-94f7-8cd271b65a81",
     "typedWidgetInfo": {
      "autoCreated": false,
      "defaultValue": "",
      "label": null,
      "name": "input_table_name",
      "options": {
       "widgetDisplayType": "Text",
       "validationRegex": null
      },
      "parameterDataType": "String"
     },
     "widgetInfo": {
      "widgetType": "text",
      "defaultValue": "",
      "label": null,
      "name": "input_table_name",
      "options": {
       "widgetType": "text",
       "autoCreated": null,
       "validationRegex": null
      }
     }
    },
    "output_table_name": {
     "currentValue": "clientes",
     "nuid": "f2212c67-64f9-4a04-b32e-90497e52b4b5",
     "typedWidgetInfo": {
      "autoCreated": false,
      "defaultValue": "",
      "label": null,
      "name": "output_table_name",
      "options": {
       "widgetDisplayType": "Text",
       "validationRegex": null
      },
      "parameterDataType": "String"
     },
     "widgetInfo": {
      "widgetType": "text",
      "defaultValue": "",
      "label": null,
      "name": "output_table_name",
      "options": {
       "widgetType": "text",
       "autoCreated": null,
       "validationRegex": null
      }
     }
    },
    "silver_schema": {
     "currentValue": "silver",
     "nuid": "2ed666fe-83e2-4276-95b4-a804c1820537",
     "typedWidgetInfo": {
      "autoCreated": false,
      "defaultValue": "",
      "label": null,
      "name": "silver_schema",
      "options": {
       "widgetDisplayType": "Text",
       "validationRegex": null
      },
      "parameterDataType": "String"
     },
     "widgetInfo": {
      "widgetType": "text",
      "defaultValue": "",
      "label": null,
      "name": "silver_schema",
      "options": {
       "widgetType": "text",
       "autoCreated": null,
       "validationRegex": null
      }
     }
    }
   }
  },
  "language_info": {
   "name": "python"
  }
 },
 "nbformat": 4,
 "nbformat_minor": 0
}
