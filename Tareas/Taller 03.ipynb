{
 "cells": [
  {
   "cell_type": "code",
   "execution_count": 0,
   "metadata": {
    "application/vnd.databricks.v1+cell": {
     "cellMetadata": {
      "byteLimit": 2048000,
      "rowLimit": 10000
     },
     "inputWidgets": {},
     "nuid": "a6ee88f4-e3da-4463-8e62-5d1516737ad0",
     "showTitle": false,
     "tableResultSettingsMap": {},
     "title": ""
    }
   },
   "outputs": [],
   "source": [
    "from pyspark.sql.window import Window\n",
    "from pyspark.sql import functions as F"
   ]
  },
  {
   "cell_type": "code",
   "execution_count": 0,
   "metadata": {
    "application/vnd.databricks.v1+cell": {
     "cellMetadata": {
      "byteLimit": 2048000,
      "rowLimit": 10000
     },
     "inputWidgets": {},
     "nuid": "e2542f5f-ac98-43ed-8d88-be2d9437847b",
     "showTitle": true,
     "tableResultSettingsMap": {},
     "title": "Creacion  Capas"
    }
   },
   "outputs": [],
   "source": [
    "catalog_name = \"taller_03\"\n",
    "schema_bronze = \"bronze\"\n",
    "schema_silver = \"silver\"\n",
    "schema_gold = \"gold\""
   ]
  },
  {
   "cell_type": "code",
   "execution_count": 0,
   "metadata": {
    "application/vnd.databricks.v1+cell": {
     "cellMetadata": {
      "byteLimit": 2048000,
      "rowLimit": 10000
     },
     "inputWidgets": {},
     "nuid": "32acc38f-a4c2-49c5-8e09-6111d92d458c",
     "showTitle": false,
     "tableResultSettingsMap": {},
     "title": ""
    }
   },
   "outputs": [],
   "source": [
    "sql_catalog = f\"\"\"\n",
    "    CREATE CATALOG IF NOT EXISTS {catalog_name}\n",
    "\"\"\"\n",
    "\n",
    "spark.sql(sql_catalog)"
   ]
  },
  {
   "cell_type": "code",
   "execution_count": 0,
   "metadata": {
    "application/vnd.databricks.v1+cell": {
     "cellMetadata": {
      "byteLimit": 2048000,
      "rowLimit": 10000
     },
     "inputWidgets": {},
     "nuid": "0142faf4-30c7-4657-af3d-a4d987c2ca4f",
     "showTitle": false,
     "tableResultSettingsMap": {},
     "title": ""
    }
   },
   "outputs": [],
   "source": [
    "sql_bronze = f\"\"\"\n",
    "    CREATE SCHEMA IF NOT EXISTS {catalog_name}.{schema_bronze}\n",
    "\"\"\"\n",
    "\n",
    "spark.sql(sql_bronze)"
   ]
  },
  {
   "cell_type": "code",
   "execution_count": 0,
   "metadata": {
    "application/vnd.databricks.v1+cell": {
     "cellMetadata": {
      "byteLimit": 2048000,
      "rowLimit": 10000
     },
     "inputWidgets": {},
     "nuid": "b43b3180-3e66-4df8-ad2f-e14251e04104",
     "showTitle": false,
     "tableResultSettingsMap": {},
     "title": ""
    }
   },
   "outputs": [],
   "source": [
    "sql_silver = f\"\"\"\n",
    "    CREATE SCHEMA IF NOT EXISTS {catalog_name}.{schema_silver}\n",
    "\"\"\"\n",
    "\n",
    "spark.sql(sql_silver)"
   ]
  },
  {
   "cell_type": "code",
   "execution_count": 0,
   "metadata": {
    "application/vnd.databricks.v1+cell": {
     "cellMetadata": {
      "byteLimit": 2048000,
      "rowLimit": 10000
     },
     "inputWidgets": {},
     "nuid": "c4c9d4c1-4186-461f-b535-4a539dad0e7b",
     "showTitle": false,
     "tableResultSettingsMap": {},
     "title": ""
    }
   },
   "outputs": [],
   "source": [
    "sql_gold = f\"\"\"\n",
    "    CREATE SCHEMA IF NOT EXISTS {catalog_name}.{schema_gold}\n",
    "\"\"\"\n",
    "\n",
    "spark.sql(sql_gold)"
   ]
  },
  {
   "cell_type": "markdown",
   "metadata": {
    "application/vnd.databricks.v1+cell": {
     "cellMetadata": {
      "byteLimit": 2048000,
      "rowLimit": 10000
     },
     "inputWidgets": {},
     "nuid": "6722db14-19ab-4323-bc89-05cb102e0ac3",
     "showTitle": false,
     "tableResultSettingsMap": {},
     "title": ""
    }
   },
   "source": [
    "###Bronze"
   ]
  },
  {
   "cell_type": "code",
   "execution_count": 0,
   "metadata": {
    "application/vnd.databricks.v1+cell": {
     "cellMetadata": {
      "byteLimit": 2048000,
      "rowLimit": 10000
     },
     "inputWidgets": {},
     "nuid": "68aeaa22-cba6-41fc-bbfa-e0bbad221cd6",
     "showTitle": false,
     "tableResultSettingsMap": {},
     "title": ""
    }
   },
   "outputs": [],
   "source": [
    "path_base = \"/Volumes/dmc_01/default/volumen_01/tareas/tarea_03/input\"\n",
    "\n",
    "path_clientes = f\"{path_base}/clientes.csv\"\n",
    "path_envios_base = f\"{path_base}/envios_base.csv\"\n",
    "path_envios_incremento = f\"{path_base}/envios_incremento.csv\"\n",
    "path_rutas = f\"{path_base}/rutas.csv\"\n",
    "path_sucursales = f\"{path_base}/sucursales.csv\""
   ]
  },
  {
   "cell_type": "code",
   "execution_count": 0,
   "metadata": {
    "application/vnd.databricks.v1+cell": {
     "cellMetadata": {
      "byteLimit": 2048000,
      "rowLimit": 10000
     },
     "inputWidgets": {},
     "nuid": "ec2db7f9-bef8-4bd2-86be-91f62d0a3109",
     "showTitle": false,
     "tableResultSettingsMap": {},
     "title": ""
    }
   },
   "outputs": [],
   "source": [
    "clientes = spark.read.option(\"header\", True).option(\"inferSchema\", True).csv(path_clientes)\n",
    "envios_base = spark.read.option(\"header\", True).option(\"inferSchema\", True).csv(path_envios_base)\n",
    "envios_incremento = spark.read.option(\"header\", True).option(\"inferSchema\", True).csv(path_envios_incremento)\n",
    "rutas = spark.read.option(\"header\", True).option(\"inferSchema\", True).csv(path_rutas)\n",
    "sucursales = spark.read.option(\"header\", True).option(\"inferSchema\", True).csv(path_sucursales)"
   ]
  },
  {
   "cell_type": "code",
   "execution_count": 0,
   "metadata": {
    "application/vnd.databricks.v1+cell": {
     "cellMetadata": {
      "byteLimit": 2048000,
      "rowLimit": 10000
     },
     "inputWidgets": {},
     "nuid": "8f43e9b8-019d-4e47-9328-cb6531d8cca8",
     "showTitle": false,
     "tableResultSettingsMap": {},
     "title": ""
    }
   },
   "outputs": [],
   "source": [
    "clientes.write.format(\"delta\").mode(\"overwrite\").saveAsTable(f\"{catalog_name}.{schema_bronze}.clientes\")\n",
    "envios_base.write.format(\"delta\").mode(\"overwrite\").saveAsTable(f\"{catalog_name}.{schema_bronze}.envios_base\")\n",
    "envios_incremento.write.format(\"delta\").mode(\"overwrite\").saveAsTable(f\"{catalog_name}.{schema_bronze}.envios_incremento\")\n",
    "rutas.write.format(\"delta\").mode(\"overwrite\").saveAsTable(f\"{catalog_name}.{schema_bronze}.rutas\")\n",
    "sucursales.write.format(\"delta\").mode(\"overwrite\").saveAsTable(f\"{catalog_name}.{schema_bronze}.sucursales\")"
   ]
  },
  {
   "cell_type": "code",
   "execution_count": 0,
   "metadata": {
    "application/vnd.databricks.v1+cell": {
     "cellMetadata": {
      "byteLimit": 2048000,
      "rowLimit": 10000
     },
     "inputWidgets": {},
     "nuid": "d4934c4e-e504-45f0-9c65-1d438f4cb90d",
     "showTitle": false,
     "tableResultSettingsMap": {},
     "title": ""
    }
   },
   "outputs": [],
   "source": [
    "spark.table(f\"{catalog_name}.{schema_bronze}.clientes\").show(10)"
   ]
  },
  {
   "cell_type": "code",
   "execution_count": 0,
   "metadata": {
    "application/vnd.databricks.v1+cell": {
     "cellMetadata": {
      "byteLimit": 2048000,
      "rowLimit": 10000
     },
     "inputWidgets": {},
     "nuid": "9babaff4-1f23-4112-b69d-587210bb265c",
     "showTitle": false,
     "tableResultSettingsMap": {},
     "title": ""
    }
   },
   "outputs": [],
   "source": [
    "spark.table(f\"{catalog_name}.{schema_bronze}.envios_base\").show(10)"
   ]
  },
  {
   "cell_type": "code",
   "execution_count": 0,
   "metadata": {
    "application/vnd.databricks.v1+cell": {
     "cellMetadata": {
      "byteLimit": 2048000,
      "rowLimit": 10000
     },
     "inputWidgets": {},
     "nuid": "49cf947b-8339-4c67-9885-b496804494cb",
     "showTitle": false,
     "tableResultSettingsMap": {},
     "title": ""
    }
   },
   "outputs": [],
   "source": [
    "spark.table(f\"{catalog_name}.{schema_bronze}.envios_incremento\").show(10)"
   ]
  },
  {
   "cell_type": "code",
   "execution_count": 0,
   "metadata": {
    "application/vnd.databricks.v1+cell": {
     "cellMetadata": {
      "byteLimit": 2048000,
      "rowLimit": 10000
     },
     "inputWidgets": {},
     "nuid": "df66e5ff-6ecb-4236-941a-28d69ce3f532",
     "showTitle": false,
     "tableResultSettingsMap": {},
     "title": ""
    }
   },
   "outputs": [],
   "source": [
    "spark.table(f\"{catalog_name}.{schema_bronze}.rutas\").show(10)"
   ]
  },
  {
   "cell_type": "code",
   "execution_count": 0,
   "metadata": {
    "application/vnd.databricks.v1+cell": {
     "cellMetadata": {
      "byteLimit": 2048000,
      "rowLimit": 10000
     },
     "inputWidgets": {},
     "nuid": "9f6af11f-23fd-472e-8ae6-22cfcd90e2a7",
     "showTitle": false,
     "tableResultSettingsMap": {},
     "title": ""
    }
   },
   "outputs": [],
   "source": [
    "\n",
    "spark.table(f\"{catalog_name}.{schema_bronze}.sucursales\").show(10)"
   ]
  },
  {
   "cell_type": "code",
   "execution_count": 0,
   "metadata": {
    "application/vnd.databricks.v1+cell": {
     "cellMetadata": {
      "byteLimit": 2048000,
      "rowLimit": 10000
     },
     "inputWidgets": {},
     "nuid": "09df584f-432f-44f7-9f37-a1fc40076906",
     "showTitle": false,
     "tableResultSettingsMap": {},
     "title": ""
    }
   },
   "outputs": [],
   "source": [
    "from pyspark.sql.functions import col, trim, initcap, when, lit, year, month, dayofmonth, concat, concat_ws"
   ]
  },
  {
   "cell_type": "markdown",
   "metadata": {
    "application/vnd.databricks.v1+cell": {
     "cellMetadata": {
      "byteLimit": 2048000,
      "rowLimit": 10000
     },
     "inputWidgets": {},
     "nuid": "b1fb0b37-2f79-4826-bb24-eeef0a9ba0c8",
     "showTitle": false,
     "tableResultSettingsMap": {},
     "title": ""
    }
   },
   "source": [
    "### silver"
   ]
  },
  {
   "cell_type": "code",
   "execution_count": 0,
   "metadata": {
    "application/vnd.databricks.v1+cell": {
     "cellMetadata": {
      "byteLimit": 2048000,
      "rowLimit": 10000
     },
     "inputWidgets": {},
     "nuid": "7bf44be8-1134-40df-baba-857df035c0c8",
     "showTitle": false,
     "tableResultSettingsMap": {},
     "title": ""
    }
   },
   "outputs": [],
   "source": [
    "silver_clientes = (\n",
    "  spark.table(f\"{catalog_name}.{schema_bronze}.clientes\")\n",
    "  .withColumn(\"nombre\", initcap(trim(col(\"nombre\"))))\n",
    "  .withColumn(\"apellido\", initcap(trim(col(\"apellido\"))))\n",
    "  .withColumn(\"email\", initcap(trim(col(\"email\"))))\n",
    "  .withColumn(\"segmento\", initcap(trim(col(\"segmento\"))))\n",
    "  .withColumn(\"fecha_registro\", col(\"fecha_registro\").cast(\"date\"))\n",
    "  .dropna(subset=[\"id_cliente\"])\n",
    "  .dropDuplicates([\"id_cliente\"])\n",
    ")"
   ]
  },
  {
   "cell_type": "code",
   "execution_count": 0,
   "metadata": {
    "application/vnd.databricks.v1+cell": {
     "cellMetadata": {
      "byteLimit": 2048000,
      "rowLimit": 10000
     },
     "inputWidgets": {},
     "nuid": "e122a34c-809d-456f-9e9f-97bc47bef30c",
     "showTitle": false,
     "tableResultSettingsMap": {},
     "title": ""
    }
   },
   "outputs": [],
   "source": [
    "display(silver_clientes)"
   ]
  },
  {
   "cell_type": "code",
   "execution_count": 0,
   "metadata": {
    "application/vnd.databricks.v1+cell": {
     "cellMetadata": {
      "byteLimit": 2048000,
      "rowLimit": 10000
     },
     "inputWidgets": {},
     "nuid": "518f6b6d-c07e-459e-9914-8590356968c5",
     "showTitle": false,
     "tableResultSettingsMap": {},
     "title": ""
    }
   },
   "outputs": [],
   "source": [
    "silver_sucursales = (\n",
    "  spark.table(f\"{catalog_name}.{schema_bronze}.sucursales\")\n",
    "  .withColumn(\"ciudad\", initcap(trim(col(\"ciudad\"))))\n",
    "  .withColumn(\"distrito\", initcap(trim(col(\"distrito\"))))\n",
    "  .withColumn(\"region\", initcap(trim(col(\"region\"))))\n",
    "  .withColumn(\"tipo\", initcap(trim(col(\"tipo\"))))\n",
    "  .withColumn(\"fecha_apertura\", col(\"fecha_apertura\").cast(\"date\"))\n",
    "  .dropna(subset=[\"id_sucursal\"])\n",
    "  .dropDuplicates([\"id_sucursal\"])\n",
    ")\n"
   ]
  },
  {
   "cell_type": "code",
   "execution_count": 0,
   "metadata": {
    "application/vnd.databricks.v1+cell": {
     "cellMetadata": {
      "byteLimit": 2048000,
      "rowLimit": 10000
     },
     "inputWidgets": {},
     "nuid": "c99771c8-3437-4be0-bda5-51373a41775c",
     "showTitle": false,
     "tableResultSettingsMap": {},
     "title": ""
    }
   },
   "outputs": [],
   "source": [
    "display(silver_sucursales)"
   ]
  },
  {
   "cell_type": "code",
   "execution_count": 0,
   "metadata": {
    "application/vnd.databricks.v1+cell": {
     "cellMetadata": {
      "byteLimit": 2048000,
      "rowLimit": 10000
     },
     "inputWidgets": {},
     "nuid": "5a7c41b9-74aa-4b14-8362-57ea66cd2c04",
     "showTitle": false,
     "tableResultSettingsMap": {},
     "title": ""
    }
   },
   "outputs": [],
   "source": [
    "silver_rutas = (\n",
    "  spark.table(f\"{catalog_name}.{schema_bronze}.rutas\")\n",
    "  .withColumn(\"origen\", initcap(trim(col(\"origen\"))))\n",
    "  .withColumn(\"destino\", initcap(trim(col(\"destino\"))))\n",
    "  .withColumn(\"distancia_km\", col(\"distancia_km\").cast(\"int\"))\n",
    "  .withColumn(\"tiempo_estimado_horas\", col(\"tiempo_estimado_horas\").cast(\"DECIMAL(10,2)\"))\n",
    "  .dropna(subset=[\"id_ruta\"])\n",
    "  .dropDuplicates([\"id_ruta\"])\n",
    ")\n"
   ]
  },
  {
   "cell_type": "code",
   "execution_count": 0,
   "metadata": {
    "application/vnd.databricks.v1+cell": {
     "cellMetadata": {
      "byteLimit": 2048000,
      "rowLimit": 10000
     },
     "inputWidgets": {},
     "nuid": "f58a6b92-f2ac-4ee8-b796-f80f76e551d5",
     "showTitle": false,
     "tableResultSettingsMap": {},
     "title": ""
    }
   },
   "outputs": [],
   "source": [
    "display(silver_rutas)"
   ]
  },
  {
   "cell_type": "code",
   "execution_count": 0,
   "metadata": {
    "application/vnd.databricks.v1+cell": {
     "cellMetadata": {
      "byteLimit": 2048000,
      "rowLimit": 10000
     },
     "inputWidgets": {},
     "nuid": "29300f4f-150b-42f4-ba19-260e31fb429d",
     "showTitle": false,
     "tableResultSettingsMap": {},
     "title": ""
    }
   },
   "outputs": [],
   "source": [
    "keys = [\"id_envio\",\"id_linea\",\"id_cliente\",\"id_sucursal\",\"id_ruta\"]\n",
    "w = Window.partitionBy(*keys).orderBy(F.col(\"updated_at\").desc())\n",
    "\n",
    "silver_envios_base = (\n",
    "  spark.table(f\"{catalog_name}.{schema_bronze}.envios_base\")\n",
    "  .withColumn(\"fecha_envio\", col(\"fecha_envio\").cast(\"date\"))\n",
    "  .withColumn(\"estado\", initcap(trim(col(\"estado\"))))\n",
    "  .withColumn(\"peso_kg\", col(\"peso_kg\").cast(\"DOUBLE\"))\n",
    "  .withColumn(\"costo_envio\", col(\"costo_envio\").cast(\"DOUBLE\"))\n",
    "  .withColumn(\"updated_at\", col(\"updated_at\").cast(\"timestamp\"))\n",
    "  .dropna(subset=keys)\n",
    "  .withColumn(\"rn\", F.row_number().over(w))   # numerar por updated_at DESC\n",
    "  .filter(F.col(\"rn\") == 1)                   # solo el más reciente\n",
    "  .drop(\"rn\")\n",
    ")\n"
   ]
  },
  {
   "cell_type": "code",
   "execution_count": 0,
   "metadata": {
    "application/vnd.databricks.v1+cell": {
     "cellMetadata": {
      "byteLimit": 2048000,
      "rowLimit": 10000
     },
     "inputWidgets": {},
     "nuid": "263a72d0-ad5e-4477-a003-b56f05df2834",
     "showTitle": false,
     "tableResultSettingsMap": {
      "0": {
       "dataGridStateBlob": "{\"version\":1,\"tableState\":{\"columnPinning\":{\"left\":[\"#row_number#\"],\"right\":[]},\"columnSizing\":{\"updated_at\":173},\"columnVisibility\":{}},\"settings\":{\"columns\":{}},\"syncTimestamp\":1756528016843}",
       "filterBlob": null,
       "queryPlanFiltersBlob": null,
       "tableResultIndex": 0
      }
     },
     "title": ""
    }
   },
   "outputs": [],
   "source": [
    "display(silver_envios_base)"
   ]
  },
  {
   "cell_type": "code",
   "execution_count": 0,
   "metadata": {
    "application/vnd.databricks.v1+cell": {
     "cellMetadata": {
      "byteLimit": 2048000,
      "rowLimit": 10000
     },
     "inputWidgets": {},
     "nuid": "5253edd3-7d56-43c4-adde-900ad48844b1",
     "showTitle": false,
     "tableResultSettingsMap": {},
     "title": ""
    }
   },
   "outputs": [],
   "source": [
    "keys = [\"id_envio\",\"id_linea\",\"id_cliente\",\"id_sucursal\",\"id_ruta\"]\n",
    "w = Window.partitionBy(*keys).orderBy(F.col(\"updated_at\").desc())\n",
    "\n",
    "silver_envios_incremento = (\n",
    "  spark.table(f\"{catalog_name}.{schema_bronze}.envios_incremento\")\n",
    "  .withColumn(\"fecha_envio\", col(\"fecha_envio\").cast(\"date\"))\n",
    "  .withColumn(\"estado\", initcap(trim(col(\"estado\"))))\n",
    "  .withColumn(\"peso_kg\", col(\"peso_kg\").cast(\"DOUBLE\"))\n",
    "  .withColumn(\"costo_envio\", col(\"costo_envio\").cast(\"DOUBLE\"))\n",
    "  .withColumn(\"updated_at\", col(\"updated_at\").cast(\"timestamp\"))\n",
    "  .dropna(subset=keys)\n",
    "  .withColumn(\"rn\", F.row_number().over(w))   # numerar por updated_at DESC\n",
    "  .filter(F.col(\"rn\") == 1)                   # solo el más reciente\n",
    "  .drop(\"rn\")\n",
    ")\n"
   ]
  },
  {
   "cell_type": "code",
   "execution_count": 0,
   "metadata": {
    "application/vnd.databricks.v1+cell": {
     "cellMetadata": {
      "byteLimit": 2048000,
      "rowLimit": 10000
     },
     "inputWidgets": {},
     "nuid": "607b410f-0819-4b15-83b6-4c8b83edcaad",
     "showTitle": false,
     "tableResultSettingsMap": {},
     "title": ""
    }
   },
   "outputs": [],
   "source": [
    "display(silver_envios_incremento)"
   ]
  },
  {
   "cell_type": "code",
   "execution_count": 0,
   "metadata": {
    "application/vnd.databricks.v1+cell": {
     "cellMetadata": {
      "byteLimit": 2048000,
      "rowLimit": 10000
     },
     "inputWidgets": {},
     "nuid": "71962b85-c00b-41f8-bdef-e454ec666401",
     "showTitle": false,
     "tableResultSettingsMap": {},
     "title": ""
    }
   },
   "outputs": [],
   "source": [
    "silver_clientes.write.format(\"delta\").mode(\"overwrite\").saveAsTable(f\"{catalog_name}.{schema_silver}.clientes\")"
   ]
  },
  {
   "cell_type": "code",
   "execution_count": 0,
   "metadata": {
    "application/vnd.databricks.v1+cell": {
     "cellMetadata": {
      "byteLimit": 2048000,
      "rowLimit": 10000
     },
     "inputWidgets": {},
     "nuid": "be2b42d8-aa02-4296-8f81-4740ef831431",
     "showTitle": false,
     "tableResultSettingsMap": {},
     "title": ""
    }
   },
   "outputs": [],
   "source": [
    "spark.table(f\"{catalog_name}.{schema_silver}.clientes\").show(10)"
   ]
  },
  {
   "cell_type": "code",
   "execution_count": 0,
   "metadata": {
    "application/vnd.databricks.v1+cell": {
     "cellMetadata": {
      "byteLimit": 2048000,
      "rowLimit": 10000
     },
     "inputWidgets": {},
     "nuid": "0e81a15f-730c-4dfe-bf1c-7b730d39f8cf",
     "showTitle": false,
     "tableResultSettingsMap": {},
     "title": ""
    }
   },
   "outputs": [],
   "source": [
    "silver_envios_base.write.format(\"delta\").mode(\"overwrite\").saveAsTable(f\"{catalog_name}.{schema_silver}.envios_base\")\n"
   ]
  },
  {
   "cell_type": "code",
   "execution_count": 0,
   "metadata": {
    "application/vnd.databricks.v1+cell": {
     "cellMetadata": {
      "byteLimit": 2048000,
      "rowLimit": 10000
     },
     "inputWidgets": {},
     "nuid": "6e3ef69a-6bf1-45e5-94c4-0d175b021942",
     "showTitle": false,
     "tableResultSettingsMap": {},
     "title": ""
    }
   },
   "outputs": [],
   "source": [
    "spark.table(f\"{catalog_name}.{schema_silver}.envios_base\").show(10)"
   ]
  },
  {
   "cell_type": "code",
   "execution_count": 0,
   "metadata": {
    "application/vnd.databricks.v1+cell": {
     "cellMetadata": {
      "byteLimit": 2048000,
      "rowLimit": 10000
     },
     "inputWidgets": {},
     "nuid": "3baf3a79-4c17-4eb2-800b-551b4c45745f",
     "showTitle": false,
     "tableResultSettingsMap": {},
     "title": ""
    }
   },
   "outputs": [],
   "source": [
    "silver_envios_incremento.write.format(\"delta\").mode(\"overwrite\").saveAsTable(f\"{catalog_name}.{schema_silver}.envios_incremento\")"
   ]
  },
  {
   "cell_type": "code",
   "execution_count": 0,
   "metadata": {
    "application/vnd.databricks.v1+cell": {
     "cellMetadata": {
      "byteLimit": 2048000,
      "rowLimit": 10000
     },
     "inputWidgets": {},
     "nuid": "909faf61-4ef2-41be-ad4c-89bd9857a6f2",
     "showTitle": false,
     "tableResultSettingsMap": {},
     "title": ""
    }
   },
   "outputs": [],
   "source": [
    "spark.table(f\"{catalog_name}.{schema_silver}.envios_incremento\").show(10)"
   ]
  },
  {
   "cell_type": "code",
   "execution_count": 0,
   "metadata": {
    "application/vnd.databricks.v1+cell": {
     "cellMetadata": {
      "byteLimit": 2048000,
      "rowLimit": 10000
     },
     "inputWidgets": {},
     "nuid": "c9964213-4805-491d-aa82-1c93ffabbde7",
     "showTitle": false,
     "tableResultSettingsMap": {},
     "title": ""
    }
   },
   "outputs": [],
   "source": [
    "silver_rutas.write.format(\"delta\").mode(\"overwrite\").saveAsTable(f\"{catalog_name}.{schema_silver}.rutas\")"
   ]
  },
  {
   "cell_type": "code",
   "execution_count": 0,
   "metadata": {
    "application/vnd.databricks.v1+cell": {
     "cellMetadata": {
      "byteLimit": 2048000,
      "rowLimit": 10000
     },
     "inputWidgets": {},
     "nuid": "b9d13604-623b-4dc3-83ca-98583d771ade",
     "showTitle": false,
     "tableResultSettingsMap": {},
     "title": ""
    }
   },
   "outputs": [],
   "source": [
    "spark.table(f\"{catalog_name}.{schema_silver}.rutas\").show(10)"
   ]
  },
  {
   "cell_type": "code",
   "execution_count": 0,
   "metadata": {
    "application/vnd.databricks.v1+cell": {
     "cellMetadata": {
      "byteLimit": 2048000,
      "rowLimit": 10000
     },
     "inputWidgets": {},
     "nuid": "bb267d8a-5d7c-49c7-b3b5-32db8ea5e5d9",
     "showTitle": false,
     "tableResultSettingsMap": {},
     "title": ""
    }
   },
   "outputs": [],
   "source": [
    "silver_sucursales.write.format(\"delta\").mode(\"overwrite\").saveAsTable(f\"{catalog_name}.{schema_silver}.sucursales\")\n"
   ]
  },
  {
   "cell_type": "code",
   "execution_count": 0,
   "metadata": {
    "application/vnd.databricks.v1+cell": {
     "cellMetadata": {
      "byteLimit": 2048000,
      "rowLimit": 10000
     },
     "inputWidgets": {},
     "nuid": "92eb211e-cbf9-4928-9d93-e78fe9b99134",
     "showTitle": false,
     "tableResultSettingsMap": {},
     "title": ""
    }
   },
   "outputs": [],
   "source": [
    "spark.table(f\"{catalog_name}.{schema_silver}.sucursales\").show(10)"
   ]
  },
  {
   "cell_type": "markdown",
   "metadata": {
    "application/vnd.databricks.v1+cell": {
     "cellMetadata": {
      "byteLimit": 2048000,
      "rowLimit": 10000
     },
     "inputWidgets": {},
     "nuid": "0410a961-83fc-4999-9d4c-50852c340d0f",
     "showTitle": false,
     "tableResultSettingsMap": {},
     "title": ""
    }
   },
   "source": [
    "### Gold"
   ]
  },
  {
   "cell_type": "code",
   "execution_count": 0,
   "metadata": {
    "application/vnd.databricks.v1+cell": {
     "cellMetadata": {
      "byteLimit": 2048000,
      "rowLimit": 10000
     },
     "inputWidgets": {},
     "nuid": "53a6ad7b-3996-45fb-a565-3c9f9873ecb7",
     "showTitle": false,
     "tableResultSettingsMap": {},
     "title": ""
    }
   },
   "outputs": [],
   "source": [
    "dim_tiempo = (\n",
    "    spark.table(f\"{catalog_name}.{schema_silver}.envios_base\")\n",
    "    .select(\n",
    "        col(\"fecha_envio\").alias(\"fecha\")\n",
    "    ).dropna().distinct()\n",
    "    .withColumn(\"anio\", year(col(\"fecha\")))\n",
    "    .withColumn(\"mes\", month(col(\"fecha\")))\n",
    "    .withColumn(\"dia\", dayofmonth(col(\"fecha\")))\n",
    "    .withColumn(\"semestre\", concat_ws(\"-\",col(\"anio\"), when(col(\"mes\") <=7, lit(\"01\")).otherwise(lit(\"02\"))))\n",
    "    .withColumn(\"id_tiempo\", (col(\"anio\")*10000 + col(\"mes\")*100 + col(\"dia\")).cast(\"int\"))\n",
    ")\n"
   ]
  },
  {
   "cell_type": "code",
   "execution_count": 0,
   "metadata": {
    "application/vnd.databricks.v1+cell": {
     "cellMetadata": {
      "byteLimit": 2048000,
      "rowLimit": 10000
     },
     "inputWidgets": {},
     "nuid": "69da1c9f-0f38-4f11-9431-806ab140c0fd",
     "showTitle": false,
     "tableResultSettingsMap": {},
     "title": ""
    }
   },
   "outputs": [],
   "source": [
    "display(dim_tiempo)"
   ]
  },
  {
   "cell_type": "code",
   "execution_count": 0,
   "metadata": {
    "application/vnd.databricks.v1+cell": {
     "cellMetadata": {
      "byteLimit": 2048000,
      "rowLimit": 10000
     },
     "inputWidgets": {},
     "nuid": "f2d466c2-24ca-402b-bece-0eb0365838ed",
     "showTitle": false,
     "tableResultSettingsMap": {},
     "title": ""
    }
   },
   "outputs": [],
   "source": [
    "dim_cliente = (\n",
    "    spark.table(f\"{catalog_name}.{schema_silver}.clientes\")\n",
    "    .dropDuplicates([\"id_cliente\"])\n",
    ")"
   ]
  },
  {
   "cell_type": "code",
   "execution_count": 0,
   "metadata": {
    "application/vnd.databricks.v1+cell": {
     "cellMetadata": {
      "byteLimit": 2048000,
      "rowLimit": 10000
     },
     "inputWidgets": {},
     "nuid": "bd1dd7c1-ef26-4d26-a8eb-0ea3e3f86f1f",
     "showTitle": false,
     "tableResultSettingsMap": {},
     "title": ""
    }
   },
   "outputs": [],
   "source": [
    "display(dim_cliente)"
   ]
  },
  {
   "cell_type": "code",
   "execution_count": 0,
   "metadata": {
    "application/vnd.databricks.v1+cell": {
     "cellMetadata": {
      "byteLimit": 2048000,
      "rowLimit": 10000
     },
     "inputWidgets": {},
     "nuid": "6271c4f1-f55e-4bd1-8a98-e5d7e9cd62cc",
     "showTitle": false,
     "tableResultSettingsMap": {},
     "title": ""
    }
   },
   "outputs": [],
   "source": [
    "dim_sucursal = (\n",
    "    spark.table(f\"{catalog_name}.{schema_silver}.sucursales\")\n",
    "    .dropDuplicates([\"id_sucursal\"])\n",
    ")\n"
   ]
  },
  {
   "cell_type": "code",
   "execution_count": 0,
   "metadata": {
    "application/vnd.databricks.v1+cell": {
     "cellMetadata": {
      "byteLimit": 2048000,
      "rowLimit": 10000
     },
     "inputWidgets": {},
     "nuid": "fc166871-4272-40d3-bda2-dde65e513d18",
     "showTitle": false,
     "tableResultSettingsMap": {},
     "title": ""
    }
   },
   "outputs": [],
   "source": [
    "display(dim_sucursal)"
   ]
  },
  {
   "cell_type": "code",
   "execution_count": 0,
   "metadata": {
    "application/vnd.databricks.v1+cell": {
     "cellMetadata": {
      "byteLimit": 2048000,
      "rowLimit": 10000
     },
     "inputWidgets": {},
     "nuid": "6bbb8bea-6550-43c7-88ad-5a5267a5bd5a",
     "showTitle": false,
     "tableResultSettingsMap": {},
     "title": ""
    }
   },
   "outputs": [],
   "source": [
    "dim_ruta = (\n",
    "    spark.table(f\"{catalog_name}.{schema_silver}.rutas\")\n",
    "    .dropDuplicates([\"id_ruta\"])\n",
    ")\n"
   ]
  },
  {
   "cell_type": "code",
   "execution_count": 0,
   "metadata": {
    "application/vnd.databricks.v1+cell": {
     "cellMetadata": {
      "byteLimit": 2048000,
      "rowLimit": 10000
     },
     "inputWidgets": {},
     "nuid": "36213975-a8a5-43d4-83d7-a38d683e9c82",
     "showTitle": false,
     "tableResultSettingsMap": {},
     "title": ""
    }
   },
   "outputs": [],
   "source": [
    "display(dim_ruta)"
   ]
  },
  {
   "cell_type": "code",
   "execution_count": 0,
   "metadata": {
    "application/vnd.databricks.v1+cell": {
     "cellMetadata": {
      "byteLimit": 2048000,
      "rowLimit": 10000
     },
     "inputWidgets": {},
     "nuid": "a88af96d-c32d-4173-8b94-bcec37b19698",
     "showTitle": false,
     "tableResultSettingsMap": {},
     "title": ""
    }
   },
   "outputs": [],
   "source": [
    "dim_region = (\n",
    "    spark.table(f\"{catalog_name}.{schema_silver}.envios_base\").alias(\"e\")\n",
    "    .join(\n",
    "        dim_sucursal.alias(\"s\"),\n",
    "        col(\"s.id_sucursal\") == col(\"e.id_sucursal\"),\n",
    "        \"inner\"\n",
    "    )\n",
    "    .groupBy(\"region\")\n",
    "     .agg(\n",
    "        F.countDistinct(\"e.id_sucursal\").alias(\"num_sucursales\"),  \n",
    "        F.count(\"id_envio\").alias(\"volumen_envio\")            \n",
    "    )\n",
    "    .withColumn(\"id_region\", F.monotonically_increasing_id())\n",
    "    .select(\n",
    "        col(\"id_region\"),\n",
    "        col(\"s.region\").alias(\"region\"),  \n",
    "        col(\"volumen_envio\"),\n",
    "        col(\"num_sucursales\")\n",
    "        )\n",
    ")\n"
   ]
  },
  {
   "cell_type": "code",
   "execution_count": 0,
   "metadata": {
    "application/vnd.databricks.v1+cell": {
     "cellMetadata": {
      "byteLimit": 2048000,
      "rowLimit": 10000
     },
     "inputWidgets": {},
     "nuid": "e9d8a31b-caa8-4927-bfa7-0ad266a4abc2",
     "showTitle": false,
     "tableResultSettingsMap": {
      "0": {
       "dataGridStateBlob": "{\"version\":1,\"tableState\":{\"columnPinning\":{\"left\":[\"#row_number#\"],\"right\":[]},\"columnSizing\":{},\"columnVisibility\":{}},\"settings\":{\"columns\":{}},\"syncTimestamp\":1756584003654}",
       "filterBlob": null,
       "queryPlanFiltersBlob": null,
       "tableResultIndex": 0
      }
     },
     "title": ""
    }
   },
   "outputs": [],
   "source": [
    "display(dim_region)"
   ]
  },
  {
   "cell_type": "code",
   "execution_count": 0,
   "metadata": {
    "application/vnd.databricks.v1+cell": {
     "cellMetadata": {
      "byteLimit": 2048000,
      "rowLimit": 10000
     },
     "inputWidgets": {},
     "nuid": "a83d92b2-be00-4be1-b310-77e953b72fe7",
     "showTitle": false,
     "tableResultSettingsMap": {},
     "title": ""
    }
   },
   "outputs": [],
   "source": [
    "b = spark.table(f\"{catalog_name}.{schema_silver}.envios_base\").alias(\"b\")\n",
    "i = spark.table(f\"{catalog_name}.{schema_silver}.envios_incremento\").alias(\"i\")\n",
    "\n",
    "fact_envio = (\n",
    "    b.join(i, col(\"b.id_envio\") == col(\"i.id_envio\"), \"full_outer\")\n",
    "    .join(dim_sucursal.alias(\"su\"), col(\"b.id_sucursal\") == col(\"su.id_sucursal\"), \"left\")\n",
    "    .join(dim_region.alias(\"dreg\"), col(\"su.region\") == col(\"dreg.region\"), \"left\")\n",
    "    .select(\n",
    "        F.coalesce(i[\"id_envio\"], b[\"id_envio\"]).alias(\"id_envio\"),\n",
    "        F.coalesce(i[\"id_linea\"], b[\"id_linea\"]).alias(\"id_linea\"),\n",
    "        F.coalesce(i[\"id_cliente\"], b[\"id_cliente\"]).alias(\"id_cliente\"),\n",
    "        F.coalesce(i[\"id_sucursal\"], b[\"id_sucursal\"]).alias(\"id_sucursal\"),\n",
    "        F.coalesce(i[\"id_ruta\"], b[\"id_ruta\"]).alias(\"id_ruta\"),\n",
    "        col(\"dreg.id_region\").alias(\"id_region\"),\n",
    "        F.coalesce(i[\"fecha_envio\"], b[\"fecha_envio\"]).alias(\"fecha_envio\"),\n",
    "        F.coalesce(i[\"estado\"], b[\"estado\"]).alias(\"estado\"),\n",
    "        F.coalesce(i[\"peso_kg\"], b[\"peso_kg\"]).alias(\"peso_kg\"),\n",
    "        F.coalesce(i[\"costo_envio\"], b[\"costo_envio\"]).alias(\"costo_envio\"),\n",
    "        F.coalesce(i[\"updated_at\"], b[\"updated_at\"]).alias(\"updated_at\"),\n",
    "        F.when(i[\"costo_envio\"] > b[\"costo_envio\"], i[\"costo_envio\"] - b[\"costo_envio\"])\n",
    "         .otherwise(F.lit(0)).alias(\"incremento\")\n",
    "    )\n",
    ")\n"
   ]
  },
  {
   "cell_type": "code",
   "execution_count": 0,
   "metadata": {
    "application/vnd.databricks.v1+cell": {
     "cellMetadata": {
      "byteLimit": 2048000,
      "rowLimit": 10000
     },
     "inputWidgets": {},
     "nuid": "bc7ac2ca-77a6-4682-8572-40028b395959",
     "showTitle": false,
     "tableResultSettingsMap": {},
     "title": ""
    }
   },
   "outputs": [],
   "source": [
    "duplicados = (\n",
    "    fact_envio.groupBy(\"id_envio\")\n",
    "              .count()\n",
    "              .filter(F.col(\"count\") > 1)\n",
    ")"
   ]
  },
  {
   "cell_type": "code",
   "execution_count": 0,
   "metadata": {
    "application/vnd.databricks.v1+cell": {
     "cellMetadata": {
      "byteLimit": 2048000,
      "rowLimit": 10000
     },
     "inputWidgets": {},
     "nuid": "f9b2393b-e9a3-4602-9e5c-1532c461bb72",
     "showTitle": false,
     "tableResultSettingsMap": {},
     "title": ""
    }
   },
   "outputs": [],
   "source": [
    "display(duplicados)"
   ]
  },
  {
   "cell_type": "code",
   "execution_count": 0,
   "metadata": {
    "application/vnd.databricks.v1+cell": {
     "cellMetadata": {
      "byteLimit": 2048000,
      "rowLimit": 10000
     },
     "inputWidgets": {},
     "nuid": "6e3eb0d6-2b16-45e9-8194-37f515a85033",
     "showTitle": false,
     "tableResultSettingsMap": {
      "0": {
       "dataGridStateBlob": "{\"version\":1,\"tableState\":{\"columnPinning\":{\"left\":[\"#row_number#\"],\"right\":[]},\"columnSizing\":{},\"columnVisibility\":{}},\"settings\":{\"columns\":{}},\"syncTimestamp\":1756666726076}",
       "filterBlob": null,
       "queryPlanFiltersBlob": null,
       "tableResultIndex": 0
      }
     },
     "title": ""
    }
   },
   "outputs": [],
   "source": [
    "display(fact_envio)"
   ]
  },
  {
   "cell_type": "code",
   "execution_count": 0,
   "metadata": {
    "application/vnd.databricks.v1+cell": {
     "cellMetadata": {
      "byteLimit": 2048000,
      "rowLimit": 10000
     },
     "inputWidgets": {},
     "nuid": "d403a572-8e9e-4199-a871-e4846d9331e0",
     "showTitle": false,
     "tableResultSettingsMap": {},
     "title": ""
    }
   },
   "outputs": [],
   "source": [
    "dim_tiempo.write.format(\"delta\").mode(\"overwrite\").saveAsTable(f\"{catalog_name}.{schema_gold}.dim_tiempo\")"
   ]
  },
  {
   "cell_type": "code",
   "execution_count": 0,
   "metadata": {
    "application/vnd.databricks.v1+cell": {
     "cellMetadata": {
      "byteLimit": 2048000,
      "rowLimit": 10000
     },
     "inputWidgets": {},
     "nuid": "d2cc947b-7ca2-41e3-903b-5018cb629d7d",
     "showTitle": false,
     "tableResultSettingsMap": {},
     "title": ""
    }
   },
   "outputs": [],
   "source": [
    "spark.table(f\"{catalog_name}.{schema_gold}.dim_tiempo\").show(10)"
   ]
  },
  {
   "cell_type": "code",
   "execution_count": 0,
   "metadata": {
    "application/vnd.databricks.v1+cell": {
     "cellMetadata": {
      "byteLimit": 2048000,
      "rowLimit": 10000
     },
     "inputWidgets": {},
     "nuid": "23d6dced-d237-438f-9ef6-f3e8ae843b1a",
     "showTitle": false,
     "tableResultSettingsMap": {},
     "title": ""
    }
   },
   "outputs": [],
   "source": [
    "dim_cliente.write.format(\"delta\").mode(\"overwrite\").saveAsTable(f\"{catalog_name}.{schema_gold}.dim_cliente\")"
   ]
  },
  {
   "cell_type": "code",
   "execution_count": 0,
   "metadata": {
    "application/vnd.databricks.v1+cell": {
     "cellMetadata": {
      "byteLimit": 2048000,
      "rowLimit": 10000
     },
     "inputWidgets": {},
     "nuid": "3b0e6ef2-3f2d-45d2-935b-3bfc6c56c804",
     "showTitle": false,
     "tableResultSettingsMap": {},
     "title": ""
    }
   },
   "outputs": [],
   "source": [
    "spark.table(f\"{catalog_name}.{schema_gold}.dim_cliente\").show(10)"
   ]
  },
  {
   "cell_type": "code",
   "execution_count": 0,
   "metadata": {
    "application/vnd.databricks.v1+cell": {
     "cellMetadata": {
      "byteLimit": 2048000,
      "rowLimit": 10000
     },
     "inputWidgets": {},
     "nuid": "606102c2-32d0-4e51-a3d2-33091a167da8",
     "showTitle": false,
     "tableResultSettingsMap": {},
     "title": ""
    }
   },
   "outputs": [],
   "source": [
    "dim_sucursal.write.format(\"delta\").mode(\"overwrite\").saveAsTable(f\"{catalog_name}.{schema_gold}.dim_sucursal\")"
   ]
  },
  {
   "cell_type": "code",
   "execution_count": 0,
   "metadata": {
    "application/vnd.databricks.v1+cell": {
     "cellMetadata": {
      "byteLimit": 2048000,
      "rowLimit": 10000
     },
     "inputWidgets": {},
     "nuid": "b4a5f6f3-154d-4fb6-a728-9d336dce42c8",
     "showTitle": false,
     "tableResultSettingsMap": {},
     "title": ""
    }
   },
   "outputs": [],
   "source": [
    "spark.table(f\"{catalog_name}.{schema_gold}.dim_sucursal\").show(10)"
   ]
  },
  {
   "cell_type": "code",
   "execution_count": 0,
   "metadata": {
    "application/vnd.databricks.v1+cell": {
     "cellMetadata": {
      "byteLimit": 2048000,
      "rowLimit": 10000
     },
     "inputWidgets": {},
     "nuid": "de93a232-0864-4128-b8b2-951cdefd18eb",
     "showTitle": false,
     "tableResultSettingsMap": {},
     "title": ""
    }
   },
   "outputs": [],
   "source": [
    "dim_ruta.write.format(\"delta\") \\\n",
    "    .mode(\"overwrite\") \\\n",
    "    .saveAsTable(f\"{catalog_name}.{schema_gold}.dim_ruta\")\n"
   ]
  },
  {
   "cell_type": "code",
   "execution_count": 0,
   "metadata": {
    "application/vnd.databricks.v1+cell": {
     "cellMetadata": {
      "byteLimit": 2048000,
      "rowLimit": 10000
     },
     "inputWidgets": {},
     "nuid": "fb665079-bbea-4c8b-a7ff-c930dd09d9cc",
     "showTitle": false,
     "tableResultSettingsMap": {},
     "title": ""
    }
   },
   "outputs": [],
   "source": [
    "spark.table(f\"{catalog_name}.{schema_gold}.dim_ruta\").show(10)"
   ]
  },
  {
   "cell_type": "code",
   "execution_count": 0,
   "metadata": {
    "application/vnd.databricks.v1+cell": {
     "cellMetadata": {
      "byteLimit": 2048000,
      "rowLimit": 10000
     },
     "inputWidgets": {},
     "nuid": "2d1c7678-a903-4034-bdd7-aca845d44dc6",
     "showTitle": false,
     "tableResultSettingsMap": {},
     "title": ""
    }
   },
   "outputs": [],
   "source": [
    "dim_region.write.format(\"delta\").mode(\"overwrite\").saveAsTable(f\"{catalog_name}.{schema_gold}.dim_region\")"
   ]
  },
  {
   "cell_type": "code",
   "execution_count": 0,
   "metadata": {
    "application/vnd.databricks.v1+cell": {
     "cellMetadata": {
      "byteLimit": 2048000,
      "rowLimit": 10000
     },
     "inputWidgets": {},
     "nuid": "2f5535eb-1154-420e-be7a-1c6a665dc826",
     "showTitle": false,
     "tableResultSettingsMap": {},
     "title": ""
    }
   },
   "outputs": [],
   "source": [
    "spark.table(f\"{catalog_name}.{schema_gold}.dim_region\").show(10)"
   ]
  },
  {
   "cell_type": "code",
   "execution_count": 0,
   "metadata": {
    "application/vnd.databricks.v1+cell": {
     "cellMetadata": {
      "byteLimit": 2048000,
      "rowLimit": 10000
     },
     "inputWidgets": {},
     "nuid": "ad36fe1a-5a96-42cb-819c-f06357645d1c",
     "showTitle": false,
     "tableResultSettingsMap": {},
     "title": ""
    }
   },
   "outputs": [],
   "source": [
    "fact_envio.write.format(\"delta\").mode(\"overwrite\").saveAsTable(f\"{catalog_name}.{schema_gold}.fact_envio\")"
   ]
  },
  {
   "cell_type": "code",
   "execution_count": 0,
   "metadata": {
    "application/vnd.databricks.v1+cell": {
     "cellMetadata": {
      "byteLimit": 2048000,
      "rowLimit": 10000
     },
     "inputWidgets": {},
     "nuid": "ed599a88-cadb-42a4-8cf0-39622838a65c",
     "showTitle": false,
     "tableResultSettingsMap": {},
     "title": ""
    }
   },
   "outputs": [],
   "source": [
    "spark.table(f\"{catalog_name}.{schema_gold}.fact_envio\").show(10)"
   ]
  },
  {
   "cell_type": "code",
   "execution_count": 0,
   "metadata": {
    "application/vnd.databricks.v1+cell": {
     "cellMetadata": {
      "byteLimit": 2048000,
      "rowLimit": 10000
     },
     "inputWidgets": {},
     "nuid": "6063a5af-b9fa-4d52-aaf5-e14c9596911e",
     "showTitle": true,
     "tableResultSettingsMap": {},
     "title": "Consolidación incremental de Fact_envio"
    }
   },
   "outputs": [],
   "source": [
    "from delta.tables import DeltaTable\n",
    "\n",
    "gold_table = DeltaTable.forName(spark, f\"{catalog_name}.gold.fact_envio\")\n",
    "\n",
    "gold_table.alias(\"tgt\").merge(\n",
    "    fact_envio.alias(\"src\"),\n",
    "    \"tgt.id_envio = src.id_envio\"\n",
    ").whenMatchedUpdate(set={\n",
    "    \"id_linea\": \"src.id_linea\",\n",
    "    \"id_cliente\": \"src.id_cliente\",\n",
    "    \"id_sucursal\": \"src.id_sucursal\",\n",
    "    \"id_ruta\":\"src.id_ruta\",\n",
    "    \"id_region\": \"src.id_region\",\n",
    "    \"fecha_envio\": \"src.fecha_envio\",\n",
    "    \"estado\": \"src.estado\",\n",
    "    \"peso_kg\": \"src.peso_kg\",\n",
    "    \"costo_envio\": \"src.costo_envio\",\n",
    "    \"updated_at\": \"src.updated_at\",\n",
    "    \"incremento\": \"src.incremento\"\n",
    "}).whenNotMatchedInsert(values={\n",
    "    \"id_envio\": \"src.id_envio\",\n",
    "    \"id_linea\": \"src.id_linea\",\n",
    "    \"id_cliente\": \"src.id_cliente\",\n",
    "    \"id_sucursal\": \"src.id_sucursal\",\n",
    "    \"id_ruta\":\"src.id_ruta\",\n",
    "    \"id_region\": \"src.id_region\",\n",
    "    \"fecha_envio\": \"src.fecha_envio\",\n",
    "    \"estado\": \"src.estado\",\n",
    "    \"peso_kg\": \"src.peso_kg\",\n",
    "    \"costo_envio\": \"src.costo_envio\",\n",
    "    \"updated_at\": \"src.updated_at\",\n",
    "    \"incremento\": \"src.incremento\"\n",
    "}).execute()\n"
   ]
  },
  {
   "cell_type": "markdown",
   "metadata": {
    "application/vnd.databricks.v1+cell": {
     "cellMetadata": {},
     "inputWidgets": {},
     "nuid": "5c21fdb1-9cf0-4b53-b01c-d5a636193623",
     "showTitle": false,
     "tableResultSettingsMap": {},
     "title": ""
    }
   },
   "source": [
    "### Auditoria"
   ]
  },
  {
   "cell_type": "code",
   "execution_count": 0,
   "metadata": {
    "application/vnd.databricks.v1+cell": {
     "cellMetadata": {
      "byteLimit": 2048000,
      "rowLimit": 10000
     },
     "inputWidgets": {},
     "nuid": "95a1cf44-4ca5-481b-8a9d-7a0e5209e850",
     "showTitle": false,
     "tableResultSettingsMap": {},
     "title": ""
    }
   },
   "outputs": [],
   "source": [
    "from pyspark.sql.functions import col, current_timestamp\n",
    "import uuid\n",
    "\n",
    "spark.sql(f\"\"\"\n",
    "CREATE TABLE IF NOT EXISTS {catalog_name}.{schema_gold}.audit_ingestion (\n",
    "    audit_id STRING,\n",
    "    lote_id STRING,\n",
    "    source_table STRING,\n",
    "    records_read LONG,\n",
    "    records_deduplicated LONG,\n",
    "    records_inserted LONG,\n",
    "    records_updated LONG,\n",
    "    target_table STRING,\n",
    "    timestamp TIMESTAMP\n",
    ") USING DELTA\n",
    "\"\"\")\n"
   ]
  },
  {
   "cell_type": "code",
   "execution_count": 0,
   "metadata": {
    "application/vnd.databricks.v1+cell": {
     "cellMetadata": {
      "byteLimit": 2048000,
      "rowLimit": 10000
     },
     "inputWidgets": {},
     "nuid": "3c2ae204-e588-4f51-8522-2727d0a26a8a",
     "showTitle": false,
     "tableResultSettingsMap": {},
     "title": ""
    }
   },
   "outputs": [],
   "source": [
    "records_read = fact_envio.count()\n",
    "\n",
    "records_deduplicated = fact_envio.dropDuplicates([\"id_envio\"]).count()\n",
    "\n",
    "records_inserted = records_deduplicated  \n",
    "records_updated = 0  \n",
    "\n",
    "audit_id = str(uuid.uuid4())\n",
    "lote_id = \"lote_test_001\"\n",
    "source_table = f\"{catalog_name}.{schema_silver}.envios_incremento\"\n",
    "target_table = f\"{catalog_name}.{schema_gold}.fact_envio\"\n"
   ]
  },
  {
   "cell_type": "code",
   "execution_count": 0,
   "metadata": {
    "application/vnd.databricks.v1+cell": {
     "cellMetadata": {
      "byteLimit": 2048000,
      "rowLimit": 10000
     },
     "inputWidgets": {},
     "nuid": "a24c0999-623a-45f9-b91c-37822557afa1",
     "showTitle": false,
     "tableResultSettingsMap": {},
     "title": ""
    }
   },
   "outputs": [],
   "source": [
    "from pyspark.sql.types import StructType, StructField, StringType, LongType, TimestampType\n",
    "from pyspark.sql.functions import current_timestamp\n",
    "import uuid\n",
    "\n",
    "schema = StructType([\n",
    "    StructField(\"audit_id\", StringType(), True),\n",
    "    StructField(\"lote_id\", StringType(), True),\n",
    "    StructField(\"source_table\", StringType(), True),\n",
    "    StructField(\"records_read\", LongType(), True),\n",
    "    StructField(\"records_deduplicated\", LongType(), True),\n",
    "    StructField(\"records_inserted\", LongType(), True),\n",
    "    StructField(\"records_updated\", LongType(), True),\n",
    "    StructField(\"target_table\", StringType(), True),\n",
    "    StructField(\"timestamp\", TimestampType(), True)\n",
    "])\n",
    "\n",
    "\n",
    "audit_df = spark.createDataFrame(\n",
    "    [(audit_id, lote_id, source_table, records_read, records_deduplicated,\n",
    "      records_inserted, records_updated, target_table, None)],\n",
    "    schema\n",
    ").withColumn(\"timestamp\", current_timestamp())\n"
   ]
  },
  {
   "cell_type": "code",
   "execution_count": 0,
   "metadata": {
    "application/vnd.databricks.v1+cell": {
     "cellMetadata": {
      "byteLimit": 2048000,
      "rowLimit": 10000
     },
     "inputWidgets": {},
     "nuid": "b924c6f7-dc51-4868-80a1-f6d8bcd30625",
     "showTitle": false,
     "tableResultSettingsMap": {},
     "title": ""
    }
   },
   "outputs": [],
   "source": [
    "audit_df.write.format(\"delta\") \\\n",
    "    .option(\"mergeSchema\", \"true\") \\\n",
    "    .mode(\"append\") \\\n",
    "    .saveAsTable(f\"{catalog_name}.{schema_gold}.audit_ingestion\")"
   ]
  },
  {
   "cell_type": "code",
   "execution_count": 0,
   "metadata": {
    "application/vnd.databricks.v1+cell": {
     "cellMetadata": {
      "byteLimit": 2048000,
      "rowLimit": 10000
     },
     "inputWidgets": {},
     "nuid": "9a315a61-81a6-4bba-b0b0-c9e7197879e6",
     "showTitle": false,
     "tableResultSettingsMap": {},
     "title": ""
    }
   },
   "outputs": [],
   "source": [
    "audit_check = spark.table(f\"{catalog_name}.{schema_gold}.audit_ingestion\")  \n",
    "audit_check.show(truncate=False)  \n"
   ]
  },
  {
   "cell_type": "code",
   "execution_count": 0,
   "metadata": {
    "application/vnd.databricks.v1+cell": {
     "cellMetadata": {
      "byteLimit": 2048000,
      "rowLimit": 10000
     },
     "inputWidgets": {},
     "nuid": "b71b6fc7-6178-441d-b662-d5144e0722a1",
     "showTitle": false,
     "tableResultSettingsMap": {},
     "title": ""
    }
   },
   "outputs": [],
   "source": [
    "fc = fact_envio.alias(\"f\")\n",
    "dc = dim_cliente.alias(\"c\")\n",
    "\n",
    "top5_clientes = (\n",
    "    fc.join(dc, fc.id_cliente == dc.id_cliente, \"left\")     \n",
    "      .groupBy(fc.id_cliente, dc.nombre, dc.apellido)        \n",
    "      .agg(F.count(fc.id_envio).alias(\"total_envios\"))      \n",
    "      .withColumn(\"nombre_completo\", F.concat_ws(\" \", dc.nombre, dc.apellido)) \n",
    "      .orderBy(F.desc(\"total_envios\"))                    \n",
    "      .limit(5)                                           \n",
    ")\n",
    "\n",
    "top5_clientes.select(\"id_cliente\", \"nombre_completo\", \"total_envios\").show(truncate=False)\n"
   ]
  },
  {
   "cell_type": "code",
   "execution_count": 0,
   "metadata": {
    "application/vnd.databricks.v1+cell": {
     "cellMetadata": {
      "byteLimit": 2048000,
      "rowLimit": 10000
     },
     "inputWidgets": {},
     "nuid": "698880fa-8377-44ad-bfc7-bcb79958f00a",
     "showTitle": false,
     "tableResultSettingsMap": {},
     "title": ""
    }
   },
   "outputs": [],
   "source": [
    "\n",
    "fe = fact_envio.alias(\"f\")\n",
    "ds = dim_sucursal.alias(\"s\")\n",
    "\n",
    "ranking_sucursales = (\n",
    "    fe.join(ds, fe.id_sucursal == ds.id_sucursal, \"left\") \n",
    "      .groupBy(fe.id_sucursal)        \n",
    "      .agg(F.count(fe.id_envio).alias(\"total_envios\"))    \n",
    "      .orderBy(F.desc(\"total_envios\"))                   \n",
    ")\n",
    "\n",
    "ranking_sucursales.show(10, truncate=False) \n"
   ]
  },
  {
   "cell_type": "code",
   "execution_count": 0,
   "metadata": {
    "application/vnd.databricks.v1+cell": {
     "cellMetadata": {},
     "inputWidgets": {},
     "nuid": "bdca86f1-d338-4468-a1d6-72784d3a5a42",
     "showTitle": false,
     "tableResultSettingsMap": {},
     "title": ""
    }
   },
   "outputs": [],
   "source": []
  }
 ],
 "metadata": {
  "application/vnd.databricks.v1+notebook": {
   "computePreferences": {
    "hardware": {
     "accelerator": null,
     "gpuPoolId": null,
     "memory": null
    }
   },
   "dashboards": [],
   "environmentMetadata": {
    "base_environment": "",
    "environment_version": "3"
   },
   "inputWidgetPreferences": null,
   "language": "python",
   "notebookMetadata": {
    "pythonIndentUnit": 4
   },
   "notebookName": "Taller 03",
   "widgets": {}
  },
  "language_info": {
   "name": "python"
  }
 },
 "nbformat": 4,
 "nbformat_minor": 0
}
