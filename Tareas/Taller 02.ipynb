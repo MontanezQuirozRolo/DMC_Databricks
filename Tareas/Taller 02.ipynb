{
 "cells": [
  {
   "cell_type": "code",
   "execution_count": 0,
   "metadata": {
    "application/vnd.databricks.v1+cell": {
     "cellMetadata": {
      "byteLimit": 2048000,
      "rowLimit": 10000
     },
     "inputWidgets": {},
     "nuid": "f8d429d4-17b0-4384-b364-67f9fe626a69",
     "showTitle": false,
     "tableResultSettingsMap": {},
     "title": ""
    }
   },
   "outputs": [],
   "source": [
    "from pyspark.sql.functions import lower, col, trim, when, coalesce, lit, round, to_date, year, month, sum, countDistinct, avg,upper,first\n",
    "from pyspark.sql.types import DoubleType"
   ]
  },
  {
   "cell_type": "code",
   "execution_count": 0,
   "metadata": {
    "application/vnd.databricks.v1+cell": {
     "cellMetadata": {
      "byteLimit": 2048000,
      "rowLimit": 10000
     },
     "inputWidgets": {},
     "nuid": "c7600715-1539-4805-a589-18ae25db6eb8",
     "showTitle": false,
     "tableResultSettingsMap": {},
     "title": ""
    }
   },
   "outputs": [],
   "source": [
    "catalog = \"dmc_01\"\n",
    "schema_name = \"gold_sales\"\n",
    "\n",
    "spark.sql(f\"CREATE CATALOG IF NOT EXISTS {catalog}\")\n",
    "spark.sql(f\"CREATE SCHEMA IF NOT EXISTS {catalog}.{schema_name}\")"
   ]
  },
  {
   "cell_type": "code",
   "execution_count": 0,
   "metadata": {
    "application/vnd.databricks.v1+cell": {
     "cellMetadata": {
      "byteLimit": 2048000,
      "rowLimit": 10000
     },
     "inputWidgets": {},
     "nuid": "e2776a3a-eaad-4b44-b54b-78c5ac159d65",
     "showTitle": false,
     "tableResultSettingsMap": {},
     "title": ""
    }
   },
   "outputs": [],
   "source": [
    "path_customers = \"/Volumes/dmc_01/gold_sales/volumes/taller_02/customers.csv\"\n",
    "path_products = \"/Volumes/dmc_01/gold_sales/volumes/taller_02/products.csv\"\n",
    "path_sales = \"/Volumes/dmc_01/gold_sales/volumes/taller_02/sales.csv\"\n",
    "\n",
    "df_customers = spark.read.option(\"header\", True).option(\"inferSchema\", True).csv(path_customers)\n",
    "df_products = spark.read.option(\"header\", True).option(\"inferSchema\", True).csv(path_products)\n",
    "df_sales = spark.read.option(\"header\", True).option(\"inferSchema\", True).csv(path_sales)\n"
   ]
  },
  {
   "cell_type": "code",
   "execution_count": 0,
   "metadata": {
    "application/vnd.databricks.v1+cell": {
     "cellMetadata": {
      "byteLimit": 2048000,
      "rowLimit": 10000
     },
     "inputWidgets": {},
     "nuid": "aab0c4cc-093e-4bc7-94c0-3037d477c14c",
     "showTitle": false,
     "tableResultSettingsMap": {},
     "title": ""
    }
   },
   "outputs": [],
   "source": [
    "df_cust_clean = (df_customers.dropna()\n",
    "                        .withColumn(\"first_name\", trim(lower(col(\"First_Name\"))))\n",
    "                        .withColumn(\"last_name\", trim(upper(col(\"Last_Name\"))))\n",
    "                        .withColumn(\"Customer_ID\", col(\"Customer_Id\").cast(\"integer\")))"
   ]
  },
  {
   "cell_type": "code",
   "execution_count": 0,
   "metadata": {
    "application/vnd.databricks.v1+cell": {
     "cellMetadata": {
      "byteLimit": 2048000,
      "rowLimit": 10000
     },
     "inputWidgets": {},
     "nuid": "c71f6598-3835-4f51-9f30-cefe783886df",
     "showTitle": false,
     "tableResultSettingsMap": {},
     "title": ""
    }
   },
   "outputs": [],
   "source": [
    "display(df_cust_clean)"
   ]
  },
  {
   "cell_type": "code",
   "execution_count": 0,
   "metadata": {
    "application/vnd.databricks.v1+cell": {
     "cellMetadata": {
      "byteLimit": 2048000,
      "rowLimit": 10000
     },
     "inputWidgets": {},
     "nuid": "4959acea-f35a-4a74-83fb-bf0c00f29913",
     "showTitle": false,
     "tableResultSettingsMap": {},
     "title": ""
    }
   },
   "outputs": [],
   "source": [
    "df_prod_clean = (df_products.dropna()\n",
    "                        .withColumn(\"Price\", col(\"Price\").cast(\"double\"))\n",
    "                        .withColumn(\"Product_Name\", trim(col(\"Product_Name\"))))"
   ]
  },
  {
   "cell_type": "code",
   "execution_count": 0,
   "metadata": {
    "application/vnd.databricks.v1+cell": {
     "cellMetadata": {
      "byteLimit": 2048000,
      "rowLimit": 10000
     },
     "inputWidgets": {},
     "nuid": "cfc1b921-3820-4792-abc4-c0aae0eee5eb",
     "showTitle": false,
     "tableResultSettingsMap": {},
     "title": ""
    }
   },
   "outputs": [],
   "source": [
    "df_prod_clean.display()"
   ]
  },
  {
   "cell_type": "code",
   "execution_count": 0,
   "metadata": {
    "application/vnd.databricks.v1+cell": {
     "cellMetadata": {
      "byteLimit": 2048000,
      "rowLimit": 10000
     },
     "inputWidgets": {},
     "nuid": "9c96bdaa-656f-4e6b-8897-12e2e5ca03bd",
     "showTitle": false,
     "tableResultSettingsMap": {},
     "title": ""
    }
   },
   "outputs": [],
   "source": [
    "df_sales_clean = (df_sales.dropna()\n",
    "                          .withColumn(\"Customer_ID\", col(\"Customer_ID\").cast(\"integer\"))\n",
    "                          .withColumn(\"Quantity\", col(\"Quantity\").cast(\"integer\"))\n",
    "                          .withColumn(\"Date\", to_date(col(\"Date\")))\n",
    "                          .withColumn(\"anio_venta\", year(col(\"Date\")))\n",
    "                          .withColumn(\"mes_venta\", month(col(\"Date\")))\n",
    "                          .withColumn(\"Price_per_Unit\", col(\"Price_per_Unit\").cast(\"double\"))\n",
    "                          .withColumn(\"Total\", when(col(\"Total\").isNull(),\n",
    "                                                   col(\"Quantity\") * col(\"Price_per_Unit\"))\n",
    "                                        .otherwise(col(\"Total\"))))"
   ]
  },
  {
   "cell_type": "code",
   "execution_count": 0,
   "metadata": {
    "application/vnd.databricks.v1+cell": {
     "cellMetadata": {
      "byteLimit": 2048000,
      "rowLimit": 10000
     },
     "inputWidgets": {},
     "nuid": "a176318d-2d97-4229-b438-5bd4281f246d",
     "showTitle": false,
     "tableResultSettingsMap": {},
     "title": ""
    }
   },
   "outputs": [],
   "source": [
    "df_sales_clean.display()"
   ]
  },
  {
   "cell_type": "code",
   "execution_count": 0,
   "metadata": {
    "application/vnd.databricks.v1+cell": {
     "cellMetadata": {
      "byteLimit": 2048000,
      "rowLimit": 10000
     },
     "inputWidgets": {},
     "nuid": "966f0463-73b4-4f80-bce4-1f1d19d4018d",
     "showTitle": false,
     "tableResultSettingsMap": {},
     "title": ""
    }
   },
   "outputs": [],
   "source": [
    "df_joined = (df_sales_clean\n",
    "             .join(df_cust_clean, on=\"Customer_ID\", how=\"left\")\n",
    "             .join(df_prod_clean, df_sales_clean[\"Product_ID\"] == df_prod_clean[\"Product_ID\"], how=\"left\")\n",
    "             .select(\n",
    "                 df_cust_clean.Customer_ID,\n",
    "                 df_cust_clean.first_name,\n",
    "                 df_cust_clean.last_name,\n",
    "                 df_cust_clean.Country,\n",
    "                 df_prod_clean.Product_ID,\n",
    "                 df_prod_clean.Product_Name,\n",
    "                 df_prod_clean.Category,\n",
    "                 df_prod_clean.Price,\n",
    "                 df_sales_clean.Transaction_ID,\n",
    "                 df_sales_clean.Date,\n",
    "                 df_sales_clean.anio_venta,\n",
    "                 df_sales_clean.mes_venta,\n",
    "                 df_sales_clean.Quantity,\n",
    "                 df_sales_clean.Price_per_Unit,\n",
    "                 df_sales_clean.Total\n",
    "\n",
    "             )\n",
    "             )"
   ]
  },
  {
   "cell_type": "code",
   "execution_count": 0,
   "metadata": {
    "application/vnd.databricks.v1+cell": {
     "cellMetadata": {
      "byteLimit": 2048000,
      "rowLimit": 10000
     },
     "inputWidgets": {},
     "nuid": "9b48664e-f2d2-47ef-949a-7082db54bedd",
     "showTitle": false,
     "tableResultSettingsMap": {
      "0": {
       "dataGridStateBlob": "{\"version\":1,\"tableState\":{\"columnPinning\":{\"left\":[\"#row_number#\"],\"right\":[]},\"columnSizing\":{},\"columnVisibility\":{}},\"settings\":{\"columns\":{}},\"syncTimestamp\":1755488234630}",
       "filterBlob": null,
       "queryPlanFiltersBlob": null,
       "tableResultIndex": 0
      }
     },
     "title": ""
    }
   },
   "outputs": [],
   "source": [
    "df_joined.display()"
   ]
  },
  {
   "cell_type": "code",
   "execution_count": 0,
   "metadata": {
    "application/vnd.databricks.v1+cell": {
     "cellMetadata": {
      "byteLimit": 2048000,
      "rowLimit": 10000
     },
     "inputWidgets": {},
     "nuid": "fb867ed4-38a0-4b6e-8635-fa523a3fbfaf",
     "showTitle": false,
     "tableResultSettingsMap": {},
     "title": ""
    }
   },
   "outputs": [],
   "source": [
    "df_Transactions_customer = (df_joined.groupBy(\"Customer_ID\")\n",
    "                   .agg(first(\"first_name\").alias(\"First_Name\"),\n",
    "                        first(\"last_name\").alias(\"Last_Name\"),\n",
    "                        round(sum(\"Total\"),4).alias(\"Total_Spent\"),\n",
    "                        countDistinct(\"Transaction_ID\").alias(\"Num_Transactions\")))"
   ]
  },
  {
   "cell_type": "code",
   "execution_count": 0,
   "metadata": {
    "application/vnd.databricks.v1+cell": {
     "cellMetadata": {
      "byteLimit": 2048000,
      "rowLimit": 10000
     },
     "inputWidgets": {},
     "nuid": "fa9f8c62-d04c-4494-a617-0d15009c8c81",
     "showTitle": false,
     "tableResultSettingsMap": {},
     "title": ""
    }
   },
   "outputs": [],
   "source": [
    "df_Transactions_customer.display()"
   ]
  },
  {
   "cell_type": "code",
   "execution_count": 0,
   "metadata": {
    "application/vnd.databricks.v1+cell": {
     "cellMetadata": {
      "byteLimit": 2048000,
      "rowLimit": 10000
     },
     "inputWidgets": {},
     "nuid": "2b60b15a-b7a2-4455-bdbd-ff13855b40a5",
     "showTitle": false,
     "tableResultSettingsMap": {},
     "title": ""
    }
   },
   "outputs": [],
   "source": [
    "df_Transactions_Category = (df_joined.groupBy(\"Category\")\n",
    "                   .agg(round(sum(\"Total\"),4).alias(\"Total_Spent\"),\n",
    "                        countDistinct(\"Transaction_ID\").alias(\"Num_Transactions\")))"
   ]
  },
  {
   "cell_type": "code",
   "execution_count": 0,
   "metadata": {
    "application/vnd.databricks.v1+cell": {
     "cellMetadata": {
      "byteLimit": 2048000,
      "rowLimit": 10000
     },
     "inputWidgets": {},
     "nuid": "d58f84e7-1388-4b40-901f-6ef05fa88029",
     "showTitle": false,
     "tableResultSettingsMap": {},
     "title": ""
    }
   },
   "outputs": [],
   "source": [
    "df_Transactions_Category.display()"
   ]
  },
  {
   "cell_type": "code",
   "execution_count": 0,
   "metadata": {
    "application/vnd.databricks.v1+cell": {
     "cellMetadata": {
      "byteLimit": 2048000,
      "rowLimit": 10000
     },
     "inputWidgets": {},
     "nuid": "647ec8fb-5242-45c5-af21-cfb85af13531",
     "showTitle": false,
     "tableResultSettingsMap": {},
     "title": ""
    }
   },
   "outputs": [],
   "source": [
    "df_Transactions_Country = (df_joined.groupBy(\"Country\")\n",
    "                   .agg(round(sum(\"Total\"),4).alias(\"Total_Spent\"),\n",
    "                        countDistinct(\"Transaction_ID\").alias(\"Num_Transactions\")))"
   ]
  },
  {
   "cell_type": "code",
   "execution_count": 0,
   "metadata": {
    "application/vnd.databricks.v1+cell": {
     "cellMetadata": {
      "byteLimit": 2048000,
      "rowLimit": 10000
     },
     "inputWidgets": {},
     "nuid": "1566e0c6-0cd2-406b-8a48-c8d416b85ea5",
     "showTitle": false,
     "tableResultSettingsMap": {},
     "title": ""
    }
   },
   "outputs": [],
   "source": [
    "df_Transactions_Country.display()"
   ]
  },
  {
   "cell_type": "code",
   "execution_count": 0,
   "metadata": {
    "application/vnd.databricks.v1+cell": {
     "cellMetadata": {
      "byteLimit": 2048000,
      "rowLimit": 10000
     },
     "inputWidgets": {},
     "nuid": "93218f40-9621-4ce4-a824-c3b418143029",
     "showTitle": false,
     "tableResultSettingsMap": {},
     "title": ""
    }
   },
   "outputs": [],
   "source": [
    "tbl_detalle = f\"{catalog}.{schema_name}.ventas_detalle\"\n",
    "tbl_customer = f\"{catalog}.{schema_name}.transacciones_customer\"\n",
    "tbl_category = f\"{catalog}.{schema_name}.transacciones_category\"\n",
    "tbl_country = f\"{catalog}.{schema_name}.transacciones_country\"\n"
   ]
  },
  {
   "cell_type": "code",
   "execution_count": 0,
   "metadata": {
    "application/vnd.databricks.v1+cell": {
     "cellMetadata": {
      "byteLimit": 2048000,
      "rowLimit": 10000
     },
     "inputWidgets": {},
     "nuid": "c150dd6a-ec0f-4e65-bb38-444a2dc496e9",
     "showTitle": false,
     "tableResultSettingsMap": {},
     "title": ""
    }
   },
   "outputs": [],
   "source": [
    "df_joined.write.format(\"delta\").mode(\"overwrite\").saveAsTable(tbl_detalle)"
   ]
  },
  {
   "cell_type": "code",
   "execution_count": 0,
   "metadata": {
    "application/vnd.databricks.v1+cell": {
     "cellMetadata": {
      "byteLimit": 2048000,
      "rowLimit": 10000
     },
     "inputWidgets": {},
     "nuid": "d5c78e92-90d6-44d5-8023-1b7fc5d1ed1f",
     "showTitle": false,
     "tableResultSettingsMap": {},
     "title": ""
    }
   },
   "outputs": [],
   "source": [
    "df_joined.write.format(\"delta\").mode(\"overwrite\").partitionBy(\"anio_venta\", \"mes_venta\").save(\"/Volumes/dmc_01/gold_sales/volumes/taller_02/ventas_detalle/\")"
   ]
  },
  {
   "cell_type": "code",
   "execution_count": 0,
   "metadata": {
    "application/vnd.databricks.v1+cell": {
     "cellMetadata": {
      "byteLimit": 2048000,
      "rowLimit": 10000
     },
     "inputWidgets": {},
     "nuid": "c9ecc7c9-364c-4470-a78a-a705b2aaedcb",
     "showTitle": false,
     "tableResultSettingsMap": {},
     "title": ""
    }
   },
   "outputs": [],
   "source": [
    "df_Transactions_Country.write.format(\"delta\").mode(\"overwrite\").saveAsTable(tbl_country)"
   ]
  },
  {
   "cell_type": "code",
   "execution_count": 0,
   "metadata": {
    "application/vnd.databricks.v1+cell": {
     "cellMetadata": {
      "byteLimit": 2048000,
      "rowLimit": 10000
     },
     "inputWidgets": {},
     "nuid": "7d6ba15c-3a78-4203-ba81-d3df148e1da0",
     "showTitle": false,
     "tableResultSettingsMap": {},
     "title": ""
    }
   },
   "outputs": [],
   "source": [
    "df_Transactions_Category.write.format(\"delta\").mode(\"overwrite\").saveAsTable(tbl_category)"
   ]
  },
  {
   "cell_type": "code",
   "execution_count": 0,
   "metadata": {
    "application/vnd.databricks.v1+cell": {
     "cellMetadata": {
      "byteLimit": 2048000,
      "rowLimit": 10000
     },
     "inputWidgets": {},
     "nuid": "907c129c-896f-40d0-876b-1d583393177f",
     "showTitle": false,
     "tableResultSettingsMap": {},
     "title": ""
    }
   },
   "outputs": [],
   "source": [
    "df_Transactions_customer.write.format(\"delta\").mode(\"overwrite\").saveAsTable(tbl_customer)"
   ]
  },
  {
   "cell_type": "code",
   "execution_count": 0,
   "metadata": {
    "application/vnd.databricks.v1+cell": {
     "cellMetadata": {
      "byteLimit": 2048000,
      "implicitDf": true,
      "rowLimit": 10000
     },
     "inputWidgets": {},
     "nuid": "06d8455d-8129-44ad-b661-58b748930edd",
     "showTitle": false,
     "tableResultSettingsMap": {},
     "title": ""
    }
   },
   "outputs": [],
   "source": [
    "%sql\n",
    "select * from dmc_01.gold_sales.ventas_detalle"
   ]
  },
  {
   "cell_type": "code",
   "execution_count": 0,
   "metadata": {
    "application/vnd.databricks.v1+cell": {
     "cellMetadata": {
      "byteLimit": 2048000,
      "implicitDf": true,
      "rowLimit": 10000
     },
     "inputWidgets": {},
     "nuid": "cfe7d230-a110-4373-8454-ce69aba6bada",
     "showTitle": false,
     "tableResultSettingsMap": {},
     "title": ""
    }
   },
   "outputs": [],
   "source": [
    "%sql\n",
    "select * from dmc_01.gold_sales.transacciones_customer"
   ]
  },
  {
   "cell_type": "code",
   "execution_count": 0,
   "metadata": {
    "application/vnd.databricks.v1+cell": {
     "cellMetadata": {
      "byteLimit": 2048000,
      "implicitDf": true,
      "rowLimit": 10000
     },
     "inputWidgets": {},
     "nuid": "227e4505-56b8-4dbd-8f86-db0ccb272d90",
     "showTitle": false,
     "tableResultSettingsMap": {},
     "title": ""
    }
   },
   "outputs": [],
   "source": [
    "%sql\n",
    "select * from dmc_01.gold_sales.transacciones_category"
   ]
  },
  {
   "cell_type": "code",
   "execution_count": 0,
   "metadata": {
    "application/vnd.databricks.v1+cell": {
     "cellMetadata": {
      "byteLimit": 2048000,
      "implicitDf": true,
      "rowLimit": 10000
     },
     "inputWidgets": {},
     "nuid": "b82f50cb-d6da-4143-8203-431d19032ed0",
     "showTitle": false,
     "tableResultSettingsMap": {},
     "title": ""
    }
   },
   "outputs": [],
   "source": [
    "%sql\n",
    "select * from dmc_01.gold_sales.transacciones_country"
   ]
  },
  {
   "cell_type": "code",
   "execution_count": 0,
   "metadata": {
    "application/vnd.databricks.v1+cell": {
     "cellMetadata": {
      "byteLimit": 2048000,
      "implicitDf": true,
      "rowLimit": 10000
     },
     "inputWidgets": {},
     "nuid": "3738f150-bcc8-47a3-847c-418229ce1f51",
     "showTitle": false,
     "tableResultSettingsMap": {},
     "title": ""
    }
   },
   "outputs": [],
   "source": [
    "%sql\n",
    "CREATE TABLE IF NOT EXISTS dmc_01.gold_sales.audit_ingestion (\n",
    "    audit_id STRING,\n",
    "    run_id STRING,\n",
    "    source_system STRING,\n",
    "    source_path STRING,\n",
    "    records_read BIGINT,\n",
    "    records_processed BIGINT,\n",
    "    target_table STRING,\n",
    "    status STRING,\n",
    "    started_at TIMESTAMP,\n",
    "    ended_at TIMESTAMP,\n",
    "    duration_ms BIGINT,\n",
    "    extra_metadata STRING\n",
    ")\n",
    "USING delta\n"
   ]
  }
 ],
 "metadata": {
  "application/vnd.databricks.v1+notebook": {
   "computePreferences": null,
   "dashboards": [],
   "environmentMetadata": {
    "base_environment": "",
    "environment_version": "2"
   },
   "inputWidgetPreferences": null,
   "language": "python",
   "notebookMetadata": {
    "mostRecentlyExecutedCommandWithImplicitDF": {
     "commandId": 8595368105292134,
     "dataframes": [
      "_sqldf"
     ]
    },
    "pythonIndentUnit": 4
   },
   "notebookName": "Taller 02",
   "widgets": {}
  },
  "language_info": {
   "name": "python"
  }
 },
 "nbformat": 4,
 "nbformat_minor": 0
}
