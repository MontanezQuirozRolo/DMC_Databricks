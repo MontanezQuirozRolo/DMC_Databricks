{
 "cells": [
  {
   "cell_type": "markdown",
   "metadata": {
    "application/vnd.databricks.v1+cell": {
     "cellMetadata": {},
     "inputWidgets": {},
     "nuid": "2581e8c3-d842-4b98-9bfc-0e99a9d422f6",
     "showTitle": false,
     "tableResultSettingsMap": {},
     "title": ""
    }
   },
   "source": [
    "# Recolecciòn de datos\n",
    "\n",
    "La data se obtuvo del repositorio UCI de Machine Learning Concrete Compressive Strength Data Set, de los cuales se uso una muestra de 139 para los datos correctos y 10 para los incorrectos modificando manualmente \n",
    "Link https://archive.ics.uci.edu/dataset/165/concrete+compressive+strength\n",
    "//\n",
    "\n",
    "**Diccionario de datos (basado en el conjunto real)**\n",
    "- NombreTipoConcreto (string): Clasificación ficticia del tipo de mezcla, derivado de los ingredientes (por ejemplo, “AltaSlag_540”).\n",
    "- Origen (string): Procedencia o etiqueta de la muestra, como “LaboratorioUCI”.\n",
    "- Edad (int): Edad del concreto en días (entre 1 y 365) \n",
    "- CantidadCemento (int): Cantidad de cemento en kg por m³ de mezcla (valor típico entero) \n",
    "- Resistencia (double): Resistencia a compresión medida en MPa (valor con decimales"
   ]
  },
  {
   "cell_type": "markdown",
   "metadata": {
    "application/vnd.databricks.v1+cell": {
     "cellMetadata": {},
     "inputWidgets": {},
     "nuid": "5e7a881f-3515-4baf-88e5-6ade10239559",
     "showTitle": false,
     "tableResultSettingsMap": {},
     "title": ""
    }
   },
   "source": [
    "# Flujo Auto loader"
   ]
  },
  {
   "cell_type": "code",
   "execution_count": 0,
   "metadata": {
    "application/vnd.databricks.v1+cell": {
     "cellMetadata": {
      "byteLimit": 2048000,
      "implicitDf": true,
      "rowLimit": 10000
     },
     "inputWidgets": {},
     "nuid": "c42580a9-a2ff-4404-be34-244a02a5bf52",
     "showTitle": false,
     "tableResultSettingsMap": {},
     "title": ""
    }
   },
   "outputs": [],
   "source": [
    "%sql\n",
    "CREATE OR REPLACE TABLE dmc_01.default.Cemento(\n",
    "  TipoConcreto  STRING,\n",
    "  Origen STRING,\n",
    "  Edad INT,\n",
    "  CantidadCemento INT,\n",
    "  Resistencia DOUBLE\n",
    ")\n",
    "USING DELTA;"
   ]
  },
  {
   "cell_type": "markdown",
   "metadata": {
    "application/vnd.databricks.v1+cell": {
     "cellMetadata": {},
     "inputWidgets": {},
     "nuid": "2baf7ded-91f6-4f88-8e0b-74f151a89604",
     "showTitle": false,
     "tableResultSettingsMap": {},
     "title": ""
    }
   },
   "source": [
    "# Creamos el esquema con el StructType"
   ]
  },
  {
   "cell_type": "code",
   "execution_count": 0,
   "metadata": {
    "application/vnd.databricks.v1+cell": {
     "cellMetadata": {
      "byteLimit": 2048000,
      "rowLimit": 10000
     },
     "inputWidgets": {},
     "nuid": "fb547886-f41c-4db8-873d-f9e00a15dd7b",
     "showTitle": false,
     "tableResultSettingsMap": {},
     "title": ""
    }
   },
   "outputs": [],
   "source": [
    "from pyspark.sql.types import StructType, StringType, DoubleType, IntegerType\n",
    "\n",
    "cemento_schema = StructType() \\\n",
    "    .add(\"TipoConcreto\", StringType()) \\\n",
    "    .add(\"Origen\", StringType()) \\\n",
    "    .add(\"Edad\", IntegerType()) \\\n",
    "    .add(\"CantidadCemento\", IntegerType()) \\\n",
    "    .add(\"Resistencia\", DoubleType()) "
   ]
  },
  {
   "cell_type": "code",
   "execution_count": 0,
   "metadata": {
    "application/vnd.databricks.v1+cell": {
     "cellMetadata": {
      "byteLimit": 2048000,
      "rowLimit": 10000
     },
     "inputWidgets": {},
     "nuid": "131a0753-c31b-401e-bc85-46517e0e17fb",
     "showTitle": false,
     "tableResultSettingsMap": {},
     "title": ""
    }
   },
   "outputs": [],
   "source": [
    "from pyspark.sql.functions import col\n",
    "\n",
    "df_cemento = (spark.read\n",
    "    .format(\"json\")\n",
    "    .schema(cemento_schema)\n",
    "    .load(\"/Volumes/dmc_01/default/volumen_01/tareas/tarea_01/input\")\n",
    "    .withColumn(\"archivo_origen\", col(\"_metadata.file_path\"))\n",
    "    )    "
   ]
  },
  {
   "cell_type": "code",
   "execution_count": 0,
   "metadata": {
    "application/vnd.databricks.v1+cell": {
     "cellMetadata": {
      "byteLimit": 2048000,
      "rowLimit": 10000
     },
     "inputWidgets": {},
     "nuid": "5f86683d-63d4-426b-8d80-8e168b98e86a",
     "showTitle": false,
     "tableResultSettingsMap": {},
     "title": ""
    }
   },
   "outputs": [],
   "source": [
    "display(df_cemento)"
   ]
  },
  {
   "cell_type": "code",
   "execution_count": 0,
   "metadata": {
    "application/vnd.databricks.v1+cell": {
     "cellMetadata": {
      "byteLimit": 2048000,
      "rowLimit": 10000
     },
     "inputWidgets": {},
     "nuid": "5954d27c-b3ef-4c2c-880d-a87343ff6b12",
     "showTitle": false,
     "tableResultSettingsMap": {},
     "title": ""
    }
   },
   "outputs": [],
   "source": [
    "from pyspark.sql.types import StructType, StringType, IntegerType, DoubleType, TimestampType\n",
    "\n",
    "cemento_schema = (\n",
    "    StructType()\n",
    "    .add(\"TipoConcreto\", StringType())\n",
    "    .add(\"Origen\", StringType())\n",
    "    .add(\"Edad\", IntegerType())\n",
    "    .add(\"CantidadCemento\", IntegerType())\n",
    "    .add(\"Resistencia\", DoubleType())\n",
    "    .add(\"_rescued_data\", StringType())\n",
    ")\n"
   ]
  },
  {
   "cell_type": "markdown",
   "metadata": {
    "application/vnd.databricks.v1+cell": {
     "cellMetadata": {},
     "inputWidgets": {},
     "nuid": "b67f5c64-d4c5-47c4-ba0e-ca764357a384",
     "showTitle": false,
     "tableResultSettingsMap": {},
     "title": ""
    }
   },
   "source": [
    "# Agregar una columna de auditoría \n",
    "En la ruta de archivo de origen (_metadata.file_path)."
   ]
  },
  {
   "cell_type": "code",
   "execution_count": 0,
   "metadata": {
    "application/vnd.databricks.v1+cell": {
     "cellMetadata": {
      "byteLimit": 2048000,
      "rowLimit": 10000
     },
     "inputWidgets": {},
     "nuid": "11e08a8c-bb55-4e12-a8f8-4e449891f8a9",
     "showTitle": false,
     "tableResultSettingsMap": {},
     "title": ""
    }
   },
   "outputs": [],
   "source": [
    "from pyspark.sql.functions import col\n",
    "\n",
    "df_cemento = (\n",
    "    spark.read\n",
    "    .format(\"json\")\n",
    "    .schema(cemento_schema)\n",
    "    .option(\"columnNameOfCorruptRecord\", \"_rescued_data\")\n",
    "    .load(\"/Volumes/dmc_01/default/volumen_01/tareas/tarea_01/input\")\n",
    "    .withColumn(\"archivo_origen\", col(\"_metadata.file_path\"))\n",
    ")"
   ]
  },
  {
   "cell_type": "markdown",
   "metadata": {
    "application/vnd.databricks.v1+cell": {
     "cellMetadata": {},
     "inputWidgets": {},
     "nuid": "9d7b03fb-24ed-4c3d-ae01-a8580be7bff4",
     "showTitle": false,
     "tableResultSettingsMap": {},
     "title": ""
    }
   },
   "source": [
    "# badRecordsPath\n",
    "Configurar un badRecordsPath y capturar información de registros inválidos."
   ]
  },
  {
   "cell_type": "code",
   "execution_count": 0,
   "metadata": {
    "application/vnd.databricks.v1+cell": {
     "cellMetadata": {
      "byteLimit": 2048000,
      "rowLimit": 10000
     },
     "inputWidgets": {},
     "nuid": "5038895a-e00e-41f2-b2f0-5efa597f0be0",
     "showTitle": false,
     "tableResultSettingsMap": {},
     "title": ""
    }
   },
   "outputs": [],
   "source": [
    "from pyspark.sql.functions import col\n",
    "dbutils.fs.rm(\"/Volumes/dmc_01/default/volumen_01/tareas/tarea_01/bad\", True)\n",
    "df_cemento = (\n",
    "    spark.read\n",
    "    .format(\"json\")\n",
    "    .schema(cemento_schema)\n",
    "    #.option(\"columnNameOfCorruptRecord\", \"_rescued_data\")\n",
    "    .option(\"badRecordsPath\", \"/Volumes/dmc_01/default/volumen_01/tareas/tarea_01/\")\n",
    "    .load(\"/Volumes/dmc_01/default/volumen_01/tareas/tarea_01/input\")\n",
    "    .withColumn(\"archivo_origen\", col(\"_metadata\").getField(\"file_path\"))\n",
    ")"
   ]
  },
  {
   "cell_type": "code",
   "execution_count": 0,
   "metadata": {
    "application/vnd.databricks.v1+cell": {
     "cellMetadata": {
      "byteLimit": 2048000,
      "rowLimit": 10000
     },
     "inputWidgets": {},
     "nuid": "14a0add1-3277-49e0-a83c-6f3c6663269c",
     "showTitle": false,
     "tableResultSettingsMap": {
      "0": {
       "dataGridStateBlob": "{\"version\":1,\"tableState\":{\"columnPinning\":{\"left\":[\"#row_number#\"],\"right\":[]},\"columnSizing\":{},\"columnVisibility\":{}},\"settings\":{\"columns\":{}},\"syncTimestamp\":1754790920589}",
       "filterBlob": null,
       "queryPlanFiltersBlob": null,
       "tableResultIndex": 0
      }
     },
     "title": ""
    }
   },
   "outputs": [],
   "source": [
    "display(df_cemento)"
   ]
  },
  {
   "cell_type": "markdown",
   "metadata": {
    "application/vnd.databricks.v1+cell": {
     "cellMetadata": {},
     "inputWidgets": {},
     "nuid": "b64f5e2a-8a6f-42f1-8ea5-a5783ee491e0",
     "showTitle": false,
     "tableResultSettingsMap": {},
     "title": ""
    }
   },
   "source": [
    "# Tabla Delta de auditoría\n",
    "Guardar los registros inválidos en una tabla Delta de auditoría usando saveAsTable()."
   ]
  },
  {
   "cell_type": "code",
   "execution_count": 0,
   "metadata": {
    "application/vnd.databricks.v1+cell": {
     "cellMetadata": {
      "byteLimit": 2048000,
      "rowLimit": 10000
     },
     "inputWidgets": {},
     "nuid": "e29b7c10-2565-4945-8d46-e787269dbd02",
     "showTitle": false,
     "tableResultSettingsMap": {},
     "title": ""
    }
   },
   "outputs": [],
   "source": [
    "from pyspark.sql.functions import col\n",
    "\n",
    "try:\n",
    "    df_validos = df_cemento.filter(col(\"_rescued_data\").isNull())\n",
    "    df_invalidos = df_cemento.filter(col(\"_rescued_data\").isNotNull())\n",
    "\n",
    "    df_validos.write.format(\"delta\").mode(\"overwrite\").saveAsTable(\"dmc_01.default.concreto\")\n",
    "    df_invalidos.write.format(\"delta\").mode(\"overwrite\").saveAsTable(\"dmc_01.default.concreto_errores\")\n",
    "\n",
    "    print(\"Escritura realizada con éxito.\")\n",
    "\n",
    "except Exception as e:\n",
    "    print(f\"Error durante la escritura: {str(e)}\")"
   ]
  },
  {
   "cell_type": "code",
   "execution_count": 0,
   "metadata": {
    "application/vnd.databricks.v1+cell": {
     "cellMetadata": {
      "byteLimit": 2048000,
      "implicitDf": true,
      "rowLimit": 10000
     },
     "inputWidgets": {},
     "nuid": "839955d1-53a6-41b1-b8d0-035aad6056b0",
     "showTitle": false,
     "tableResultSettingsMap": {},
     "title": ""
    }
   },
   "outputs": [],
   "source": [
    "%sql\n",
    "select * from dmc_01.default.concreto"
   ]
  },
  {
   "cell_type": "code",
   "execution_count": 0,
   "metadata": {
    "application/vnd.databricks.v1+cell": {
     "cellMetadata": {
      "byteLimit": 2048000,
      "implicitDf": true,
      "rowLimit": 10000
     },
     "inputWidgets": {},
     "nuid": "57464689-31a6-48c0-84df-79c0f6209b3f",
     "showTitle": false,
     "tableResultSettingsMap": {},
     "title": ""
    }
   },
   "outputs": [],
   "source": [
    "%sql\n",
    "select * from dmc_01.default.concreto_errores"
   ]
  }
 ],
 "metadata": {
  "application/vnd.databricks.v1+notebook": {
   "computePreferences": {
    "hardware": {
     "accelerator": null,
     "gpuPoolId": null,
     "memory": null
    }
   },
   "dashboards": [],
   "environmentMetadata": {
    "base_environment": "",
    "environment_version": "2"
   },
   "inputWidgetPreferences": null,
   "language": "python",
   "notebookMetadata": {
    "mostRecentlyExecutedCommandWithImplicitDF": {
     "commandId": 4811699669489892,
     "dataframes": [
      "_sqldf"
     ]
    },
    "pythonIndentUnit": 4
   },
   "notebookName": "Taller 01",
   "widgets": {}
  },
  "language_info": {
   "name": "python"
  }
 },
 "nbformat": 4,
 "nbformat_minor": 0
}
