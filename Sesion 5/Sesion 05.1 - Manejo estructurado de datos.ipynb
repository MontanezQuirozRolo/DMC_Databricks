{
 "cells": [
  {
   "cell_type": "markdown",
   "metadata": {
    "application/vnd.databricks.v1+cell": {
     "cellMetadata": {},
     "inputWidgets": {},
     "nuid": "0c6fdeac-858c-402c-8412-bdb661c418a2",
     "showTitle": false,
     "tableResultSettingsMap": {},
     "title": ""
    }
   },
   "source": [
    "### Objetivo del laboratorio\n",
    "Aplicar técnicas de limpieza, transformación y manejo estructurado de datos utilizando Spark DataFrames en Databricks, sobre un caso realista del negocio de farmacias. Los alumnos aprenderán a:\n",
    "\n",
    "- Identificar y depurar datos inválidos o incompletos.\n",
    "- Crear columnas derivadas con funciones nativas de Spark.\n",
    "- Realizar agregaciones y uniones eficientes entre múltiples fuentes.\n",
    "- Eliminar duplicados para asegurar la integridad de la información.\n",
    "- Guardar los resultados en formato Delta dentro de Unity Catalog siguiendo buenas prácticas de gobernanza y control de acceso."
   ]
  },
  {
   "cell_type": "markdown",
   "metadata": {
    "application/vnd.databricks.v1+cell": {
     "cellMetadata": {},
     "inputWidgets": {},
     "nuid": "a5aa47b0-a51c-4067-b316-b455af44678d",
     "showTitle": false,
     "tableResultSettingsMap": {},
     "title": ""
    }
   },
   "source": [
    "### Procedimiento\n",
    "\n",
    "1. Creamos catalogo y schema\n",
    "2. Definimos rutas de origen\n",
    "3. Leemos archivos de origen\n",
    "4. Limpiamos a los diferentes datasets\n",
    "5. Creamos columnas derivadas\n",
    "6. Aplicamos joins para generar nuevos datasets\n",
    "7. Aplicamos agregaciones para nuevos datasets\n",
    "8. Escribimos en formato delta"
   ]
  },
  {
   "cell_type": "code",
   "execution_count": 0,
   "metadata": {
    "application/vnd.databricks.v1+cell": {
     "cellMetadata": {
      "byteLimit": 2048000,
      "rowLimit": 10000
     },
     "inputWidgets": {},
     "nuid": "ea215e78-58f4-492f-9f47-a0e9b3207e00",
     "showTitle": false,
     "tableResultSettingsMap": {},
     "title": ""
    }
   },
   "outputs": [],
   "source": [
    "from pyspark.sql.functions import lower, col, trim, when, coalesce, lit, round, to_date, year, month, sum, countDistinct, avg\n",
    "from pyspark.sql.types import DoubleType"
   ]
  },
  {
   "cell_type": "code",
   "execution_count": 0,
   "metadata": {
    "application/vnd.databricks.v1+cell": {
     "cellMetadata": {
      "byteLimit": 2048000,
      "implicitDf": true,
      "rowLimit": 10000
     },
     "inputWidgets": {},
     "nuid": "7a15fe68-131e-412f-9d79-1bfaef010d1b",
     "showTitle": false,
     "tableResultSettingsMap": {},
     "title": ""
    }
   },
   "outputs": [],
   "source": [
    "%sql\n",
    "create catalog gold_farmacias "
   ]
  },
  {
   "cell_type": "code",
   "execution_count": 0,
   "metadata": {
    "application/vnd.databricks.v1+cell": {
     "cellMetadata": {
      "byteLimit": 2048000,
      "rowLimit": 10000
     },
     "inputWidgets": {},
     "nuid": "2f302c38-bc63-4ddf-a917-b998e1e17263",
     "showTitle": false,
     "tableResultSettingsMap": {},
     "title": ""
    }
   },
   "outputs": [],
   "source": [
    "catalog = \"dmc_01\"\n",
    "schema_name = \"gold_farmacias\"\n",
    "\n",
    "spark.sql(f\"CREATE CATALOG IF NOT EXISTS {catalog}\")\n",
    "spark.sql(f\"CREATE SCHEMA IF NOT EXISTS {catalog}.{schema_name}\")"
   ]
  },
  {
   "cell_type": "code",
   "execution_count": 0,
   "metadata": {
    "application/vnd.databricks.v1+cell": {
     "cellMetadata": {
      "byteLimit": 2048000,
      "rowLimit": 10000
     },
     "inputWidgets": {},
     "nuid": "aa81d80b-aee4-442a-958f-92e8396f70f4",
     "showTitle": false,
     "tableResultSettingsMap": {},
     "title": ""
    }
   },
   "outputs": [],
   "source": [
    "path_clientes = \"/Volumes/dmc_01/gold_farmacias/source/Sesion_05/clientes.csv\"\n",
    "path_productos = \"/Volumes/dmc_01/gold_farmacias/source/Sesion_05/productos.csv\"\n",
    "path_sucursales = \"/Volumes/dmc_01/gold_farmacias/source/Sesion_05/sucursales.csv\"\n",
    "path_ventas = \"/Volumes/dmc_01/gold_farmacias/source/Sesion_05/ventas.csv\"\n",
    "\n",
    "df_clientes = spark.read.option(\"header\", True).option(\"inferSchema\", True).csv(path_clientes)\n",
    "df_productos = spark.read.option(\"header\", True).option(\"inferSchema\", True).csv(path_productos)\n",
    "df_sucursales = spark.read.option(\"header\", True).option(\"inferSchema\", True).csv(path_sucursales)\n",
    "df_ventas = spark.read.option(\"header\", True).option(\"inferSchema\", True).csv(path_ventas)"
   ]
  },
  {
   "cell_type": "code",
   "execution_count": 0,
   "metadata": {
    "application/vnd.databricks.v1+cell": {
     "cellMetadata": {
      "byteLimit": 2048000,
      "rowLimit": 10000
     },
     "inputWidgets": {},
     "nuid": "1c174ff5-3f5b-4fbf-bbcf-c2066668fe73",
     "showTitle": false,
     "tableResultSettingsMap": {},
     "title": ""
    }
   },
   "outputs": [],
   "source": [
    "df_productos_clean = (\n",
    "    df_productos\n",
    "    .withColumn(\"nombre_producto\", trim(lower(col(\"nombre_producto\"))))\n",
    ")"
   ]
  },
  {
   "cell_type": "code",
   "execution_count": 0,
   "metadata": {
    "application/vnd.databricks.v1+cell": {
     "cellMetadata": {
      "byteLimit": 2048000,
      "rowLimit": 10000
     },
     "inputWidgets": {},
     "nuid": "2f70095e-cd6d-44a4-a9e7-131920aadc2c",
     "showTitle": false,
     "tableResultSettingsMap": {},
     "title": ""
    }
   },
   "outputs": [],
   "source": [
    "df_clientes_clean = (\n",
    "    df_clientes\n",
    "    .withColumn(\"email\", when(col(\"email\").contains(\"@\"), col(\"email\")))\n",
    "    .withColumn(\"email\", coalesce(col(\"email\"), lit(\"-\")))\n",
    ")"
   ]
  },
  {
   "cell_type": "code",
   "execution_count": 0,
   "metadata": {
    "application/vnd.databricks.v1+cell": {
     "cellMetadata": {
      "byteLimit": 2048000,
      "rowLimit": 10000
     },
     "inputWidgets": {},
     "nuid": "0cec2a6d-686b-421f-914a-f6fe5eb22f1d",
     "showTitle": false,
     "tableResultSettingsMap": {},
     "title": ""
    }
   },
   "outputs": [],
   "source": [
    "df_ventas_clean = (\n",
    "    df_ventas\n",
    "    .dropna(subset=[\"cantidad\"])\n",
    "    .filter(col(\"precio_unitario\") > 0)\n",
    ")"
   ]
  },
  {
   "cell_type": "code",
   "execution_count": 0,
   "metadata": {
    "application/vnd.databricks.v1+cell": {
     "cellMetadata": {
      "byteLimit": 2048000,
      "rowLimit": 10000
     },
     "inputWidgets": {},
     "nuid": "8c09132d-6bf4-4a48-bea0-c9edf2b8bf7b",
     "showTitle": false,
     "tableResultSettingsMap": {},
     "title": ""
    }
   },
   "outputs": [],
   "source": [
    "df_ventas_procesada = (\n",
    "    df_ventas_clean\n",
    "    .withColumn(\"monto_total\", round(col(\"cantidad\").cast(DoubleType()) * col(\"precio_unitario\").cast(\"double\"), 2))\n",
    "    .withColumn(\"fecha_venta\", to_date(col(\"fecha_venta\")))\n",
    "    .withColumn(\"anio_venta\", year(col(\"fecha_venta\")))\n",
    "    .withColumn(\"mes_venta\", month(col(\"fecha_venta\")))\n",
    ")"
   ]
  },
  {
   "cell_type": "code",
   "execution_count": 0,
   "metadata": {
    "application/vnd.databricks.v1+cell": {
     "cellMetadata": {
      "byteLimit": 2048000,
      "rowLimit": 10000
     },
     "inputWidgets": {},
     "nuid": "1b59d7f5-3201-4027-88c3-9347e4612ac0",
     "showTitle": false,
     "tableResultSettingsMap": {},
     "title": ""
    }
   },
   "outputs": [],
   "source": [
    "df_join = (\n",
    "    df_ventas_procesada.alias(\"vp\")\n",
    "    .join(\n",
    "        df_clientes_clean.alias(\"cc\").select(\"id_cliente\", \"nombre\", \"apellido\", \"email\"),\n",
    "        col(\"vp.id_cliente\") == col(\"cc.id_cliente\"),\n",
    "        \"left\"\n",
    "    )\n",
    "    .join(\n",
    "        df_productos_clean.alias(\"pc\").select(\"id_producto\", \"nombre_producto\", \"categoria\", \"marca\", \"costo_unitario\"),\n",
    "        col(\"vp.id_producto\") == col(\"pc.id_producto\"),\n",
    "        \"left\"\n",
    "    )\n",
    "    .join(\n",
    "        df_sucursales.alias(\"s\").select(\"id_sucursal\", \"ciudad\", \"distrito\", \"nombre_sucursal\"),\n",
    "        col(\"vp.id_sucursal\") == col(\"s.id_sucursal\"),\n",
    "        \"left\"\n",
    "    )\n",
    "    .select(\n",
    "        col(\"vp.id_venta\").alias(\"id_venta\"),\n",
    "        col(\"vp.fecha_venta\").alias(\"fecha_venta\"),\n",
    "        col(\"vp.id_cliente\").alias(\"id_cliente\"),\n",
    "        col(\"cc.nombre\").alias(\"nombre\"),\n",
    "        col(\"cc.apellido\").alias(\"apellido\"),\n",
    "        col(\"cc.email\").alias(\"email\"),\n",
    "        col(\"vp.id_producto\").alias(\"id_producto\"),\n",
    "        col(\"pc.nombre_producto\").alias(\"nombre_producto\"),\n",
    "        col(\"pc.categoria\").alias(\"categoria\"),\n",
    "        col(\"pc.marca\").alias(\"marca\"),\n",
    "        col(\"pc.costo_unitario\").alias(\"costo_unitario\"),\n",
    "        col(\"vp.id_sucursal\").alias(\"id_sucursal\"),\n",
    "        col(\"s.ciudad\").alias(\"ciudad\"),\n",
    "        col(\"s.distrito\").alias(\"distrito\"),\n",
    "        col(\"s.nombre_sucursal\").alias(\"nombre_sucursal\"),\n",
    "        col(\"vp.cantidad\").alias(\"cantidad\"),\n",
    "        col(\"vp.precio_unitario\").alias(\"precio_unitario\"),\n",
    "        col(\"vp.monto_total\").alias(\"monto_total\"),\n",
    "        # (col(\"vp.cantidad\") * col(\"vp.precio_unitario\")).alias(\"monto_total_2\"),\n",
    "        col(\"vp.anio_venta\").alias(\"anio_venta\"),\n",
    "        col(\"vp.mes_venta\").alias(\"mes_venta\")        \n",
    "    )\n",
    ").dropDuplicates([\"id_venta\"])"
   ]
  },
  {
   "cell_type": "code",
   "execution_count": 0,
   "metadata": {
    "application/vnd.databricks.v1+cell": {
     "cellMetadata": {
      "byteLimit": 2048000,
      "rowLimit": 10000
     },
     "inputWidgets": {},
     "nuid": "aab98a33-e848-4a65-bfd7-ee5e4bbef8c5",
     "showTitle": false,
     "tableResultSettingsMap": {},
     "title": ""
    }
   },
   "outputs": [],
   "source": [
    "df_categoria_ticket = (\n",
    "    df_join\n",
    "    .withColumn(\"categoria_ticket\", \n",
    "                when(col(\"monto_total\") >= 200, lit(\"Alto\"))\n",
    "                .when(col(\"monto_total\") >= 80, lit(\"Medio\"))\n",
    "                .otherwise(lit(\"Bajo\"))\n",
    "    )\n",
    ")"
   ]
  },
  {
   "cell_type": "code",
   "execution_count": 0,
   "metadata": {
    "application/vnd.databricks.v1+cell": {
     "cellMetadata": {
      "byteLimit": 2048000,
      "rowLimit": 10000
     },
     "inputWidgets": {},
     "nuid": "292aa894-122d-4834-8b12-aebc2e9c973f",
     "showTitle": false,
     "tableResultSettingsMap": {},
     "title": ""
    }
   },
   "outputs": [],
   "source": [
    "df_ventas_ciudad_anio = (\n",
    "    df_join\n",
    "    .groupBy(\"ciudad\", \"anio_venta\")\n",
    "    .agg(\n",
    "        sum(\"monto_total\").alias(\"venta_total\"),\n",
    "        countDistinct(\"id_venta\").alias(\"num_ventas\")\n",
    "    )\n",
    ")"
   ]
  },
  {
   "cell_type": "code",
   "execution_count": 0,
   "metadata": {
    "application/vnd.databricks.v1+cell": {
     "cellMetadata": {
      "byteLimit": 2048000,
      "rowLimit": 10000
     },
     "inputWidgets": {},
     "nuid": "b7bd1c3d-4700-4155-b779-2674960d4493",
     "showTitle": false,
     "tableResultSettingsMap": {},
     "title": ""
    }
   },
   "outputs": [],
   "source": [
    "df_ventas_cliente = (\n",
    "    df_join\n",
    "    .groupBy(\"id_cliente\")\n",
    "    .agg(\n",
    "        avg(\"monto_total\").alias(\"venta_promedio\"),\n",
    "        countDistinct(\"id_venta\").alias(\"num_ventas\")\n",
    "    )\n",
    ")"
   ]
  },
  {
   "cell_type": "code",
   "execution_count": 0,
   "metadata": {
    "application/vnd.databricks.v1+cell": {
     "cellMetadata": {
      "byteLimit": 2048000,
      "rowLimit": 10000
     },
     "inputWidgets": {},
     "nuid": "9bb155e1-de85-4a0f-952e-24ea93ff16f8",
     "showTitle": false,
     "tableResultSettingsMap": {},
     "title": ""
    }
   },
   "outputs": [],
   "source": [
    "df_categoria_ventas = (\n",
    "    df_categoria_ticket\n",
    "    .groupBy(\"categoria_ticket\")\n",
    "    .agg(\n",
    "        sum(\"monto_total\").alias(\"ventas\"),\n",
    "        countDistinct(\"id_venta\").alias(\"num_ventas\")\n",
    "    )\n",
    ")"
   ]
  },
  {
   "cell_type": "code",
   "execution_count": 0,
   "metadata": {
    "application/vnd.databricks.v1+cell": {
     "cellMetadata": {
      "byteLimit": 2048000,
      "rowLimit": 10000
     },
     "inputWidgets": {},
     "nuid": "f65ba8ea-f3c7-4a92-925b-04311584cea6",
     "showTitle": false,
     "tableResultSettingsMap": {},
     "title": ""
    }
   },
   "outputs": [],
   "source": [
    "tbl_detalle = f\"{catalog}.{schema_name}.ventas_detalle\"\n",
    "tbl_ciudad = f\"{catalog}.{schema_name}.ventas_ciudad_anio\"\n",
    "tbl_promedio = f\"{catalog}.{schema_name}.ventas_promedio\"\n",
    "tbl_categoria = f\"{catalog}.{schema_name}.ventas_categoria\""
   ]
  },
  {
   "cell_type": "code",
   "execution_count": 0,
   "metadata": {
    "application/vnd.databricks.v1+cell": {
     "cellMetadata": {
      "byteLimit": 2048000,
      "rowLimit": 10000
     },
     "inputWidgets": {},
     "nuid": "54d7c92d-67e0-44dc-b895-c15ae2cc4d28",
     "showTitle": false,
     "tableResultSettingsMap": {},
     "title": ""
    }
   },
   "outputs": [],
   "source": [
    "df_join.write.format(\"delta\").mode(\"overwrite\").saveAsTable(tbl_detalle)"
   ]
  },
  {
   "cell_type": "code",
   "execution_count": 0,
   "metadata": {
    "application/vnd.databricks.v1+cell": {
     "cellMetadata": {
      "byteLimit": 2048000,
      "rowLimit": 10000
     },
     "inputWidgets": {},
     "nuid": "6fcec929-1dd8-4b64-ad8a-2cec611caa61",
     "showTitle": false,
     "tableResultSettingsMap": {},
     "title": ""
    }
   },
   "outputs": [],
   "source": [
    "df_join.write.format(\"delta\").mode(\"overwrite\").partitionBy(\"anio_venta\", \"mes_venta\").save(\"/Volumes/dmc_01/gold_farmacias/source/ventas_detalle/\")"
   ]
  },
  {
   "cell_type": "code",
   "execution_count": 0,
   "metadata": {
    "application/vnd.databricks.v1+cell": {
     "cellMetadata": {
      "byteLimit": 2048000,
      "rowLimit": 10000
     },
     "inputWidgets": {},
     "nuid": "95fad984-7835-486b-ba0f-450ab07059c5",
     "showTitle": false,
     "tableResultSettingsMap": {},
     "title": ""
    }
   },
   "outputs": [],
   "source": [
    "df_ventas_ciudad_anio.write.format(\"delta\").mode(\"overwrite\").saveAsTable(tbl_ciudad)"
   ]
  },
  {
   "cell_type": "code",
   "execution_count": 0,
   "metadata": {
    "application/vnd.databricks.v1+cell": {
     "cellMetadata": {
      "byteLimit": 2048000,
      "rowLimit": 10000
     },
     "inputWidgets": {},
     "nuid": "f1038ceb-5c9d-48ec-997b-15a690e107da",
     "showTitle": false,
     "tableResultSettingsMap": {},
     "title": ""
    }
   },
   "outputs": [],
   "source": [
    "df_ventas_cliente.write.format(\"delta\").mode(\"overwrite\").saveAsTable(tbl_promedio)"
   ]
  },
  {
   "cell_type": "code",
   "execution_count": 0,
   "metadata": {
    "application/vnd.databricks.v1+cell": {
     "cellMetadata": {
      "byteLimit": 2048000,
      "rowLimit": 10000
     },
     "inputWidgets": {},
     "nuid": "99caf9f3-e8d7-4242-ae8c-d5b4b1121fff",
     "showTitle": false,
     "tableResultSettingsMap": {},
     "title": ""
    }
   },
   "outputs": [],
   "source": [
    "df_categoria_ventas.write.format(\"delta\").mode(\"overwrite\").saveAsTable(tbl_categoria)"
   ]
  },
  {
   "cell_type": "code",
   "execution_count": 0,
   "metadata": {
    "application/vnd.databricks.v1+cell": {
     "cellMetadata": {
      "byteLimit": 2048000,
      "implicitDf": true,
      "rowLimit": 10000
     },
     "inputWidgets": {},
     "nuid": "bc2e782b-ee8e-45d3-a1f4-2fb9ddd83561",
     "showTitle": false,
     "tableResultSettingsMap": {},
     "title": ""
    }
   },
   "outputs": [],
   "source": [
    "%sql\n",
    "select * from dmc_01.gold_farmacias.ventas_detalle"
   ]
  },
  {
   "cell_type": "code",
   "execution_count": 0,
   "metadata": {
    "application/vnd.databricks.v1+cell": {
     "cellMetadata": {
      "byteLimit": 2048000,
      "implicitDf": true,
      "rowLimit": 10000
     },
     "inputWidgets": {},
     "nuid": "20811894-838a-4da5-b53e-90eff2e17e4b",
     "showTitle": false,
     "tableResultSettingsMap": {},
     "title": ""
    }
   },
   "outputs": [],
   "source": [
    "%sql\n",
    "select * from dmc_01.gold_farmacias.ventas_ciudad_anio"
   ]
  },
  {
   "cell_type": "code",
   "execution_count": 0,
   "metadata": {
    "application/vnd.databricks.v1+cell": {
     "cellMetadata": {
      "byteLimit": 2048000,
      "implicitDf": true,
      "rowLimit": 10000
     },
     "inputWidgets": {},
     "nuid": "fdbde023-02ff-4cfa-bf52-636723f79948",
     "showTitle": false,
     "tableResultSettingsMap": {},
     "title": ""
    }
   },
   "outputs": [],
   "source": [
    "%sql\n",
    "select * from dmc_01.gold_farmacias.ventas_promedio"
   ]
  },
  {
   "cell_type": "code",
   "execution_count": 0,
   "metadata": {
    "application/vnd.databricks.v1+cell": {
     "cellMetadata": {
      "byteLimit": 2048000,
      "implicitDf": true,
      "rowLimit": 10000
     },
     "inputWidgets": {},
     "nuid": "43f9867b-77e5-401d-aa7a-27cf49a10119",
     "showTitle": false,
     "tableResultSettingsMap": {},
     "title": ""
    }
   },
   "outputs": [],
   "source": [
    "%sql\n",
    "select * from dmc_01.gold_farmacias.ventas_categoria"
   ]
  }
 ],
 "metadata": {
  "application/vnd.databricks.v1+notebook": {
   "computePreferences": {
    "hardware": {
     "accelerator": null,
     "gpuPoolId": null,
     "memory": null
    }
   },
   "dashboards": [],
   "environmentMetadata": {
    "base_environment": "",
    "environment_version": "2"
   },
   "inputWidgetPreferences": null,
   "language": "python",
   "notebookMetadata": {
    "mostRecentlyExecutedCommandWithImplicitDF": {
     "commandId": 8595368105292041,
     "dataframes": [
      "_sqldf"
     ]
    },
    "pythonIndentUnit": 4
   },
   "notebookName": "Sesion 05.1 - Manejo estructurado de datos",
   "widgets": {}
  },
  "language_info": {
   "name": "python"
  }
 },
 "nbformat": 4,
 "nbformat_minor": 0
}
