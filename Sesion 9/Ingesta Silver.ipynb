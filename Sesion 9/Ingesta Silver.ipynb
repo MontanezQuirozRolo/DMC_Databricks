{
 "cells": [
  {
   "cell_type": "code",
   "execution_count": 0,
   "metadata": {
    "application/vnd.databricks.v1+cell": {
     "cellMetadata": {
      "byteLimit": 2048000,
      "rowLimit": 10000
     },
     "inputWidgets": {},
     "nuid": "f63649e3-2867-4262-bf17-6bb1658a16bf",
     "showTitle": false,
     "tableResultSettingsMap": {},
     "title": ""
    }
   },
   "outputs": [],
   "source": [
    "table = dbutils.widgets.text(\"table\", \"\")\n",
    "table = dbutils.widgets.get(\"table\")"
   ]
  },
  {
   "cell_type": "code",
   "execution_count": 0,
   "metadata": {
    "application/vnd.databricks.v1+cell": {
     "cellMetadata": {
      "byteLimit": 2048000,
      "rowLimit": 10000
     },
     "inputWidgets": {},
     "nuid": "af3d3a03-9103-4229-8925-82c014ea3d7d",
     "showTitle": false,
     "tableResultSettingsMap": {},
     "title": ""
    }
   },
   "outputs": [],
   "source": [
    "# Creamos catalogo y schema\n",
    "catalog_name = \"sesion_08\"\n",
    "schema_bronze = \"bronze\"\n",
    "schema_silver = \"silver\""
   ]
  },
  {
   "cell_type": "code",
   "execution_count": 0,
   "metadata": {
    "application/vnd.databricks.v1+cell": {
     "cellMetadata": {
      "byteLimit": 2048000,
      "rowLimit": 10000
     },
     "inputWidgets": {},
     "nuid": "0bf21aac-0089-4198-bb8f-f1d3c639ba35",
     "showTitle": false,
     "tableResultSettingsMap": {},
     "title": ""
    }
   },
   "outputs": [],
   "source": [
    "spark.sql(f\"CREATE CATALOG IF NOT EXISTS {catalog_name}\")"
   ]
  },
  {
   "cell_type": "code",
   "execution_count": 0,
   "metadata": {
    "application/vnd.databricks.v1+cell": {
     "cellMetadata": {
      "byteLimit": 2048000,
      "rowLimit": 10000
     },
     "inputWidgets": {},
     "nuid": "f00b854c-ea07-458d-9939-e8f074e97c03",
     "showTitle": false,
     "tableResultSettingsMap": {},
     "title": ""
    }
   },
   "outputs": [],
   "source": [
    "spark.sql(f\"CREATE SCHEMA IF NOT EXISTS {catalog_name}.{schema_bronze}\")\n",
    "spark.sql(f\"CREATE SCHEMA IF NOT EXISTS {catalog_name}.{schema_silver}\")"
   ]
  },
  {
   "cell_type": "code",
   "execution_count": 0,
   "metadata": {
    "application/vnd.databricks.v1+cell": {
     "cellMetadata": {
      "byteLimit": 2048000,
      "rowLimit": 10000
     },
     "inputWidgets": {},
     "nuid": "1dd4bacd-3805-4f8e-86b3-f40a1376afa2",
     "showTitle": false,
     "tableResultSettingsMap": {},
     "title": ""
    }
   },
   "outputs": [],
   "source": [
    "ventas = spark.table(f'{catalog_name}.{schema_bronze}.{table}')"
   ]
  },
  {
   "cell_type": "code",
   "execution_count": 0,
   "metadata": {
    "application/vnd.databricks.v1+cell": {
     "cellMetadata": {
      "byteLimit": 2048000,
      "rowLimit": 10000
     },
     "inputWidgets": {},
     "nuid": "9e67820a-6d91-4ca1-9d55-4f30c60a895a",
     "showTitle": false,
     "tableResultSettingsMap": {},
     "title": ""
    }
   },
   "outputs": [],
   "source": [
    "from pyspark.sql.functions import col, to_date, to_timestamp, row_number, current_timestamp, current_date, sha2, concat_ws, lit, expr\n",
    "from pyspark.sql.window import Window\n",
    "from pyspark.sql.utils import AnalysisException\n",
    "from delta.tables import DeltaTable\n",
    "import uuid"
   ]
  },
  {
   "cell_type": "code",
   "execution_count": 0,
   "metadata": {
    "application/vnd.databricks.v1+cell": {
     "cellMetadata": {
      "byteLimit": 2048000,
      "rowLimit": 10000
     },
     "inputWidgets": {},
     "nuid": "234a981c-f45b-4f18-9fc8-82b39628dd28",
     "showTitle": false,
     "tableResultSettingsMap": {},
     "title": ""
    }
   },
   "outputs": [],
   "source": [
    "silver_ventas = (\n",
    "    ventas\n",
    "    .withColumn(\"id_linea\", col(\"id_linea\").cast(\"int\"))\n",
    "    .withColumn(\"id_tienda\", col(\"id_tienda\").cast(\"int\"))\n",
    "    .withColumn(\"id_cliente\", col(\"id_cliente\").cast(\"int\"))\n",
    "    .withColumn(\"id_producto\", col(\"id_producto\").cast(\"int\"))\n",
    "    .withColumn(\"fecha_venta\", to_date(col(\"fecha_venta\")))\n",
    "    .withColumn(\"cantidad\", col(\"cantidad\").cast(\"int\"))\n",
    "    .withColumn(\"precio_unitario\", col(\"precio_unitario\").cast(\"decimal(18,2)\"))\n",
    "    .withColumn(\"updated_at\", to_timestamp(col(\"updated_at\")))\n",
    "    .drop(\"ingest_at\")\n",
    ")"
   ]
  },
  {
   "cell_type": "code",
   "execution_count": 0,
   "metadata": {
    "application/vnd.databricks.v1+cell": {
     "cellMetadata": {
      "byteLimit": 2048000,
      "rowLimit": 10000
     },
     "inputWidgets": {},
     "nuid": "5f9a675b-4145-4905-b072-df95f85ca7b0",
     "showTitle": false,
     "tableResultSettingsMap": {},
     "title": ""
    }
   },
   "outputs": [],
   "source": [
    "windows_dedup = Window.partitionBy(\"id_venta\", \"id_linea\").orderBy(col(\"updated_at\").desc())\n",
    "\n",
    "silver_ventas_dedup = (\n",
    "    silver_ventas\n",
    "    .withColumn(\"dedup\", row_number().over(windows_dedup))\n",
    "    .filter(col(\"dedup\") == 1)\n",
    "    .drop(\"depup\")\n",
    ")"
   ]
  },
  {
   "cell_type": "code",
   "execution_count": 0,
   "metadata": {
    "application/vnd.databricks.v1+cell": {
     "cellMetadata": {
      "byteLimit": 2048000,
      "rowLimit": 10000
     },
     "inputWidgets": {},
     "nuid": "53faad49-55c5-4c78-b84f-86c6d7842a09",
     "showTitle": false,
     "tableResultSettingsMap": {},
     "title": ""
    }
   },
   "outputs": [],
   "source": [
    "(\n",
    "    silver_ventas_dedup\n",
    "    .write\n",
    "    .format(\"delta\")\n",
    "    .mode(\"overwrite\")\n",
    "    .saveAsTable(\"sesion_08.silver.ventas\")\n",
    ")\n"
   ]
  },
  {
   "cell_type": "code",
   "execution_count": 0,
   "metadata": {
    "application/vnd.databricks.v1+cell": {
     "cellMetadata": {
      "byteLimit": 2048000,
      "rowLimit": 10000
     },
     "inputWidgets": {},
     "nuid": "7ce3953d-40eb-4a44-a775-8db071fa2130",
     "showTitle": false,
     "tableResultSettingsMap": {},
     "title": ""
    }
   },
   "outputs": [],
   "source": [
    "target = DeltaTable.forName(spark, f\"{catalog_name}.{schema_silver}.ventas\")\n",
    "\n",
    "merge = (\n",
    "    target.alias(\"m\")\n",
    "    .merge(\n",
    "        silver_ventas_dedup.alias(\"in\"),\n",
    "        (col(\"m.id_venta\") == col(\"in.id_venta\")) &\n",
    "        (col(\"m.id_linea\") == col(\"in.id_linea\"))\n",
    "    )\n",
    "    .whenNotMatchedInsert(\n",
    "        values = {\n",
    "            \"id_venta\": col(\"in.id_venta\"),\n",
    "            \"id_linea\": col(\"in.id_linea\"),\n",
    "            \"id_tienda\": col(\"in.id_tienda\"),\n",
    "            \"id_cliente\": col(\"in.id_cliente\"),\n",
    "            \"id_producto\": col(\"in.id_producto\"),\n",
    "            \"fecha_venta\": col(\"in.fecha_venta\"),\n",
    "            \"cantidad\": col(\"in.cantidad\"),\n",
    "            \"precio_unitario\": col(\"in.precio_unitario\"),\n",
    "            \"updated_at\": col(\"in.updated_at\")\n",
    "        }\n",
    "    )\n",
    "    .execute()\n",
    ")"
   ]
  }
 ],
 "metadata": {
  "application/vnd.databricks.v1+notebook": {
   "computePreferences": null,
   "dashboards": [],
   "environmentMetadata": {
    "base_environment": "",
    "environment_version": "3"
   },
   "inputWidgetPreferences": null,
   "language": "python",
   "notebookMetadata": {
    "mostRecentlyExecutedCommandWithImplicitDF": {
     "commandId": 7629094168377656,
     "dataframes": [
      "_sqldf"
     ]
    },
    "pythonIndentUnit": 4
   },
   "notebookName": "Ingesta Silver",
   "widgets": {
    "table": {
     "currentValue": "ventas",
     "nuid": "d61f08a0-08f6-4c34-b9ab-e72e30c395ea",
     "typedWidgetInfo": {
      "autoCreated": false,
      "defaultValue": "",
      "label": null,
      "name": "table",
      "options": {
       "widgetDisplayType": "Text",
       "validationRegex": null
      },
      "parameterDataType": "String"
     },
     "widgetInfo": {
      "widgetType": "text",
      "defaultValue": "",
      "label": null,
      "name": "table",
      "options": {
       "widgetType": "text",
       "autoCreated": null,
       "validationRegex": null
      }
     }
    }
   }
  },
  "language_info": {
   "name": "python"
  }
 },
 "nbformat": 4,
 "nbformat_minor": 0
}
