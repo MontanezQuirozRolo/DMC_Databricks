{
 "cells": [
  {
   "cell_type": "markdown",
   "metadata": {
    "application/vnd.databricks.v1+cell": {
     "cellMetadata": {},
     "inputWidgets": {},
     "nuid": "68173f91-395a-4ae9-bd5f-56fc5379afe2",
     "showTitle": false,
     "tableResultSettingsMap": {},
     "title": ""
    }
   },
   "source": [
    "### Objetivo del laboratorio\n",
    "Construir un modelo estrella (hechos y dimensiones) a partir del negocio universitario usando Delta Lake y Unity Catalog.\n",
    "\n",
    "**Capas:**\n",
    "- **Bronze**: lee los 4 CSV (estudiantes, cursos, profesores, matriculas) y los escribe como Delta raw.\n",
    "\n",
    "- **Silver**: limpieza y normalización.\n",
    "\n",
    "- **Gold**: construye el **modelo estrella**:\n",
    "\n",
    "  -   `dim_estudiante, dim_curso, dim_profesor, dim_tiempo`\n",
    "  -   `fact_matricula` (FKs + medidas: nota_final, aprobado, creditos_curso)\n",
    "\n",
    "- **Vistas/KPIs:**\n",
    "\n",
    "  -   `vw_kpi_carrera` (alumnos, promedio, créditos)\n",
    "  -   `vw_top_cursos_semestre`\n",
    "  -   `vw_desempeno_profesor`"
   ]
  }
 ],
 "metadata": {
  "application/vnd.databricks.v1+notebook": {
   "computePreferences": null,
   "dashboards": [],
   "environmentMetadata": {
    "base_environment": "",
    "environment_version": "2"
   },
   "inputWidgetPreferences": null,
   "language": "python",
   "notebookMetadata": {
    "pythonIndentUnit": 4
   },
   "notebookName": "Sesion 07.1 - Modelado Analitico",
   "widgets": {}
  },
  "language_info": {
   "name": "python"
  }
 },
 "nbformat": 4,
 "nbformat_minor": 0
}
